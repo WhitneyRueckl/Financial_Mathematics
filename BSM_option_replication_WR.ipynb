{
 "cells": [
  {
   "cell_type": "markdown",
   "metadata": {},
   "source": [
    "# Black-Scholes-Merton Option Replication & Delta Hedging <br>\n",
    "Whitney Rueckl <br>\n",
    "Original project: Fall 2021 <br>\n",
    "Edited and expanded on: Summer 2022"
   ]
  },
  {
   "cell_type": "markdown",
   "metadata": {},
   "source": [
    "The purpose of this notebook is to explore the BSM option manufacturing process by simulating a delta hedged portoflo.\n",
    "\n",
    "#### Notebook outline:\n",
    "- User defined functions\n",
    "- Delta Hedging\n",
    "- Get Option and Underlying Data (source: Yahoo Finance)\n",
    "- Delta hedging simulation <br>\n",
    "&nbsp; - Profit and loss outcome when implied volatility = realized volatility <br>\n",
    "&nbsp; - Profit and loss outcome when implied volatility <> realized volatility\n",
    "- Effect of increasing hedging frequency (hedging frequency = frequency of rebalancing back to delta neutral)\n",
    "\n"
   ]
  },
  {
   "cell_type": "markdown",
   "metadata": {},
   "source": [
    "#### Loading Packages"
   ]
  },
  {
   "cell_type": "code",
   "execution_count": 1,
   "metadata": {},
   "outputs": [
    {
     "name": "stderr",
     "output_type": "stream",
     "text": [
      "C:\\Users\\whitn\\anaconda3\\lib\\site-packages\\scipy\\__init__.py:146: UserWarning: A NumPy version >=1.16.5 and <1.23.0 is required for this version of SciPy (detected version 1.23.1\n",
      "  warnings.warn(f\"A NumPy version >={np_minversion} and <{np_maxversion}\"\n"
     ]
    }
   ],
   "source": [
    "import os\n",
    "import sys\n",
    "#sys.version\n",
    "\n",
    "import numpy as np\n",
    "import pandas as pd\n",
    "import pandas_datareader as pdr\n",
    "pd.options.display.max_rows = 10\n",
    "from datetime import datetime\n",
    "\n",
    "import matplotlib.pyplot as plt\n",
    "\n",
    "# several functions from the py_vollib package for calculating option greeks:\n",
    "from py_vollib.black_scholes_merton import black_scholes_merton\n",
    "from py_vollib.black_scholes_merton.greeks.analytical import delta\n",
    "from py_vollib.black_scholes_merton.greeks.analytical import vega\n",
    "from py_vollib.black_scholes_merton.implied_volatility import implied_volatility\n",
    "\n",
    "# Packges to pull market data (yahoo)\n",
    "from yahoo_fin import stock_info as si\n",
    "from yahoo_fin import options as op\n",
    "\n",
    "# Using the handcalcs.render library to display formulas in LaTeX-like form\n",
    "from handcalcs import render"
   ]
  },
  {
   "cell_type": "markdown",
   "metadata": {},
   "source": [
    "## User defined functions"
   ]
  },
  {
   "cell_type": "markdown",
   "metadata": {},
   "source": [
    "#### Functions to pull stock and options data:  `getStockdata()` and `getOptionData()` <br>\n",
    "NOTE: the **yahoo_fin.stock_info** and **yahoo_fin.options** libraries must be loaded for these functions to work"
   ]
  },
  {
   "cell_type": "code",
   "execution_count": 2,
   "metadata": {},
   "outputs": [],
   "source": [
    "def getStockData(tickers, start_dt, end_dt):\n",
    "    \n",
    "    \"\"\"\n",
    "    Pulls historical stock price data using the yahoo_fin.stock_info module:\n",
    "        \n",
    "    Arguments:\n",
    "        tickers: list of strings\n",
    "        start_dt: list of float or int\n",
    "        end_dt: list of float or int\n",
    "\n",
    "    Returns:\n",
    "         A dataframe of historical stock data\n",
    "    \n",
    "    \"\"\"\n",
    "    \n",
    "    dict_stocks = {}\n",
    "\n",
    "    for tick in tickers: \n",
    "    \n",
    "        dict_stocks[tick] = si.get_data(tick, start_date = start_dt, end_date = end_dt)\n",
    "    \n",
    "    df_stocks = pd.concat(dict_stocks).reset_index()\n",
    "    df_stocks.rename(columns={'level_1': 'date'}, inplace = True)\n",
    "    df_stocks.columns = df_stocks.columns.str.lower().str.replace(' ', '_')\n",
    "        \n",
    "    return df_stocks"
   ]
  },
  {
   "cell_type": "code",
   "execution_count": 3,
   "metadata": {},
   "outputs": [],
   "source": [
    "def getOptionData(tickers, cp_flag, exp_date):\n",
    "    \n",
    "    \"\"\"\n",
    "    Pulls option price data using the yahoo_fin.options module\n",
    "        \n",
    "    Arguments:\n",
    "        tickers: list of strings\n",
    "        cp_flag: string, either 'c' for a call or 'p' for a put\n",
    "        exp_date: option expiration date \n",
    "\n",
    "    Returns:\n",
    "        A dataframe of option data\n",
    "    \n",
    "    Note: \n",
    "    Use yahoo_fin.options.get_expiration_dates(ticker) to view all available expiration dates\n",
    "    \n",
    "    \"\"\"\n",
    "\n",
    "    dict_options ={}\n",
    "\n",
    "    # if the cp_flag is 'c' (call option), get call data using the op.get_calls() function\n",
    "    if cp_flag == 'c':\n",
    "        for tick in tickers:\n",
    "            dict_options[tick] = op.get_calls(ticker = tick, date = exp_date)\n",
    "            dict_options[tick]['stock_ticker'] = tick\n",
    "    # if the cp_flag is 'p' (put option), get call data using the op.get_puts() function            \n",
    "    if cp_flag == 'p':\n",
    "        for tick in tickers:\n",
    "            dict_options[tick] = op.get_puts(ticker = tick, date = exp_date)\n",
    "            dict_options[tick]['stock_ticker'] = tick\n",
    "            \n",
    "    df_options = pd.concat(dict_options) #.reset_index()\n",
    "    df_options.columns = df_options.columns.str.lower().str.replace(' ', '_')\n",
    "    \n",
    "    return df_options"
   ]
  },
  {
   "cell_type": "markdown",
   "metadata": {},
   "source": [
    "#### Vectorizing `py_vollib` Functions"
   ]
  },
  {
   "cell_type": "markdown",
   "metadata": {},
   "source": [
    "The functions `bsm_px()`, `bsm_delta()`, and `bsm_vega()` are defined below. These user defined functions allow a few of the `py_vollib` functions to be used in a vecorized manner."
   ]
  },
  {
   "cell_type": "code",
   "execution_count": 96,
   "metadata": {},
   "outputs": [],
   "source": [
    "def bsm_px(row):\n",
    "    cp = row['cp']\n",
    "    upx = row['upx']\n",
    "    strike = row['strike']\n",
    "    t2x = row['t2x']\n",
    "    rf = 0\n",
    "    volatility = row['volatility']\n",
    "    q = 0\n",
    "    px = black_scholes_merton(cp, upx, strike, t2x, rf, volatility, q)\n",
    "    px = np.round(px, 2)\n",
    "    return(px)"
   ]
  },
  {
   "cell_type": "code",
   "execution_count": 97,
   "metadata": {},
   "outputs": [],
   "source": [
    "def bsm_delta(row):\n",
    "    cp = row['cp']\n",
    "    upx = row['upx']\n",
    "    strike = row['strike']\n",
    "    t2x = row['t2x']\n",
    "    rf = 0\n",
    "    volatility = row['volatility']\n",
    "    q = 0\n",
    "    if t2x == 0:\n",
    "        return(0)\n",
    "    diff = delta(cp, upx, strike, t2x, rf, volatility, q)\n",
    "    diff = np.round(diff, 3)\n",
    "    return(diff)"
   ]
  },
  {
   "cell_type": "code",
   "execution_count": 98,
   "metadata": {},
   "outputs": [],
   "source": [
    "def bsm_vega(row):\n",
    "    cp = row['cp']\n",
    "    upx = row['upx']\n",
    "    strike = row['strike']\n",
    "    t2x = row['t2x']\n",
    "    rf = 0\n",
    "    volatility = row['volatility']\n",
    "    q = 0\n",
    "    if t2x == 0:\n",
    "        return(0)\n",
    "    vga = vega(cp, upx, strike, t2x, rf, volatility, q)\n",
    "    vga = np.round(vga, 3)\n",
    "    return(vga)"
   ]
  },
  {
   "cell_type": "markdown",
   "metadata": {},
   "source": [
    "#### Implied volatiliy function:"
   ]
  },
  {
   "cell_type": "code",
   "execution_count": 99,
   "metadata": {},
   "outputs": [],
   "source": [
    "# unchanged from single path version\n",
    "def calcPricingVol(prices, spots, strikes, tenor, rf_rate, cp_flag):\n",
    "    \n",
    "    lst_pricing_vol = []\n",
    "    \n",
    "    for i in range(0, len(prices)):\n",
    "        imp_vol = implied_volatility(price = prices[i], S = spots[i], K = strikes[i], t = tenor, r = rf_rate, q = 0, flag = cp_flag)\n",
    "        lst_pricing_vol.append(np.round(imp_vol, 4))\n",
    "\n",
    "    return lst_pricing_vol"
   ]
  },
  {
   "cell_type": "markdown",
   "metadata": {},
   "source": [
    "#### Function `simPaths` to simulate price paths (geometric brownian motion)"
   ]
  },
  {
   "cell_type": "code",
   "execution_count": 100,
   "metadata": {},
   "outputs": [],
   "source": [
    "def simPaths(ticker, imp_vol, spot, hedge_freq, n_paths, delta_t, rf_rate):\n",
    "    \n",
    "    r = rf_rate\n",
    "    price_paths = np.zeros((hedge_freq + 1, n_paths))\n",
    "    price_paths[0] = spot\n",
    "    \n",
    "    for t in range(1, hedge_freq + 1):\n",
    "            z = np.random.standard_normal(n_paths)\n",
    "            price_paths[t] = price_paths[t - 1] * np.exp((r - 0.5 * imp_vol ** 2) * delta_t + imp_vol * np.sqrt(delta_t) * z) # memorize this line\n",
    "            price_paths[t] = np.round(price_paths[t], 2)\n",
    "            \n",
    "    return price_paths"
   ]
  },
  {
   "cell_type": "markdown",
   "metadata": {},
   "source": [
    "#### Function `calcPnL` to calculate the PnLs overtime"
   ]
  },
  {
   "cell_type": "code",
   "execution_count": 101,
   "metadata": {},
   "outputs": [],
   "source": [
    "def calcPnL(tickers, call_put, strikes, imp_vols, sim_paths, hedge_freq, tenor, n_paths, buy_sell):\n",
    "    \n",
    "    \"\"\"\n",
    "    Calculates the following:\n",
    "        'option_price'\n",
    "        'delta'\n",
    "        'option_pnl'\n",
    "        'delta_hedge_pnl'\n",
    "        'total_pnl'\n",
    "        \n",
    "    Arguments:\n",
    "        tickers: list of strings\n",
    "        call_put: list of float or int\n",
    "        strikes: list of float or int\n",
    "        imp_vols: list of float or int\n",
    "        sim_paths: list of ndarrays of float or int\n",
    "        hedge_freq: int\n",
    "        tenor: float or int\n",
    "        n_paths: int\n",
    "        buy_sell: takes value of -1 or 1, \n",
    "            if selling the option you buy the underlying so enter 1, \n",
    "            if buying the option you sell the underlying so enter enter -1\n",
    "\n",
    "    Returns:\n",
    "        A dataframe of calculated and non-calculated columns:\n",
    "        \n",
    "        Calculated columns:\n",
    "            'option_price'\n",
    "            'delta'\n",
    "            'option_pnl'\n",
    "            'delta_hedge_pnl'\n",
    "            'total_pnl'\n",
    "            \n",
    "        Non-calculated columns:\n",
    "            'underlying'\n",
    "            'cp'\n",
    "            'strike'\n",
    "            'volatility'\n",
    "            'upx'\n",
    "            'buy_sell'\n",
    "            't2x'\n",
    "    \"\"\"\n",
    "        \n",
    "    df_collection = {}\n",
    "    lst_scenarios = []\n",
    "    \n",
    "    for i in range(0, len(tickers)):\n",
    "    \n",
    "        tick = tickers[i]\n",
    "        K = strikes[i]\n",
    "        px_vol = imp_vols[i]\n",
    "        sim_path = sim_paths[i]\n",
    "        #buy_sell_flag = buy_sell[i]\n",
    "\n",
    "        print(tick)\n",
    "\n",
    "        for i_path in range(0, n_paths):\n",
    "\n",
    "            #sim_path = lst_paths[:, i_path]\n",
    "\n",
    "            df_collection[tick] = \\\n",
    "                (\n",
    "                pd.DataFrame(\n",
    "                    {'underlying':tick,\n",
    "                     'cp':call_put,\n",
    "                     'strike':K,\n",
    "                     'volatility':px_vol,\n",
    "                     'upx':sim_path[:, i_path], \n",
    "                     #'d2x':list(range(24, -1, -1)),\n",
    "                     'buy_sell':buy_sell,\n",
    "                     't2x':np.linspace(tenor, 0, hedge_freq + 1),\n",
    "                    }       \n",
    "                )\n",
    "                #.assign(t2x = lambda df: df.d2x / 252) # add time to expiration column (t2x)\n",
    "                )\n",
    "\n",
    "            # calculating prices, delta, and PnLs:\n",
    "            df_collection[tick]['option_price'] = df_collection[tick][['cp', 'upx', 'strike', 't2x', 'volatility']].apply(bsm_px, axis = 1)\n",
    "            df_collection[tick]['delta'] = df_collection[tick][['cp', 'upx', 'strike', 't2x', 'volatility']].apply(bsm_delta, axis = 1)\n",
    "            df_collection[tick]['option_pnl'] = df_collection[tick]['buy_sell'] * df_collection[tick]['option_price'].diff()\n",
    "            df_collection[tick]['delta_hedge_pnl'] = -df_collection[tick]['buy_sell'] * df_collection[tick]['delta'].shift(1) * df_collection[tick]['upx'].diff()\n",
    "            df_collection[tick]['total_pnl'] = df_collection[tick]['option_pnl'] + df_collection[tick]['delta_hedge_pnl']\n",
    "            df_collection[tick]['scenario'] = i_path\n",
    "\n",
    "\n",
    "            # storing df_collection[tick] with calculation into a list\n",
    "            lst_scenarios.append(df_collection[tick])\n",
    "\n",
    "    # combine all scenarios into a single dataframe:\n",
    "    df_all = pd.concat(lst_scenarios, ignore_index=True)\n",
    "    \n",
    "    return df_all"
   ]
  },
  {
   "cell_type": "code",
   "execution_count": 334,
   "metadata": {},
   "outputs": [],
   "source": [
    "#help(calcPnL)"
   ]
  },
  {
   "cell_type": "markdown",
   "metadata": {},
   "source": [
    " "
   ]
  },
  {
   "cell_type": "markdown",
   "metadata": {},
   "source": [
    "## Option and Underlying Data"
   ]
  },
  {
   "cell_type": "code",
   "execution_count": 54,
   "metadata": {},
   "outputs": [],
   "source": [
    "# Set variables for stock data\n",
    "tickers = ['MSFT', 'GOOG'] # $191, $120\n",
    "start_dt = '2014-06-30'\n",
    "end_dt = '2022-08-24'\n",
    "\n",
    "# Set variables for option data\n",
    "cp = 'p'\n",
    "exp_date = 'September 16, 2022'\n",
    "exp_timestamp_dt = pd.Timestamp('2022-09-16')\n",
    "strikes = [287.5, 120]\n",
    "\n",
    "# run the line below to check available option expiration dates\n",
    "#op.get_expiration_dates(tickers[1])"
   ]
  },
  {
   "cell_type": "markdown",
   "metadata": {},
   "source": [
    "#### Pull historical stock price data"
   ]
  },
  {
   "cell_type": "code",
   "execution_count": 55,
   "metadata": {},
   "outputs": [
    {
     "data": {
      "text/html": [
       "<div>\n",
       "<style scoped>\n",
       "    .dataframe tbody tr th:only-of-type {\n",
       "        vertical-align: middle;\n",
       "    }\n",
       "\n",
       "    .dataframe tbody tr th {\n",
       "        vertical-align: top;\n",
       "    }\n",
       "\n",
       "    .dataframe thead th {\n",
       "        text-align: right;\n",
       "    }\n",
       "</style>\n",
       "<table border=\"1\" class=\"dataframe\">\n",
       "  <thead>\n",
       "    <tr style=\"text-align: right;\">\n",
       "      <th></th>\n",
       "      <th>level_0</th>\n",
       "      <th>date</th>\n",
       "      <th>open</th>\n",
       "      <th>high</th>\n",
       "      <th>low</th>\n",
       "      <th>close</th>\n",
       "      <th>adjclose</th>\n",
       "      <th>volume</th>\n",
       "      <th>ticker</th>\n",
       "    </tr>\n",
       "  </thead>\n",
       "  <tbody>\n",
       "    <tr>\n",
       "      <th>0</th>\n",
       "      <td>MSFT</td>\n",
       "      <td>2014-06-30</td>\n",
       "      <td>42.169998</td>\n",
       "      <td>42.209999</td>\n",
       "      <td>41.700001</td>\n",
       "      <td>41.700001</td>\n",
       "      <td>36.043835</td>\n",
       "      <td>30793100</td>\n",
       "      <td>MSFT</td>\n",
       "    </tr>\n",
       "    <tr>\n",
       "      <th>1</th>\n",
       "      <td>MSFT</td>\n",
       "      <td>2014-07-01</td>\n",
       "      <td>41.860001</td>\n",
       "      <td>42.150002</td>\n",
       "      <td>41.689999</td>\n",
       "      <td>41.869999</td>\n",
       "      <td>36.190765</td>\n",
       "      <td>26917000</td>\n",
       "      <td>MSFT</td>\n",
       "    </tr>\n",
       "    <tr>\n",
       "      <th>2</th>\n",
       "      <td>MSFT</td>\n",
       "      <td>2014-07-02</td>\n",
       "      <td>41.730000</td>\n",
       "      <td>41.900002</td>\n",
       "      <td>41.529999</td>\n",
       "      <td>41.900002</td>\n",
       "      <td>36.216694</td>\n",
       "      <td>20208100</td>\n",
       "      <td>MSFT</td>\n",
       "    </tr>\n",
       "    <tr>\n",
       "      <th>3</th>\n",
       "      <td>MSFT</td>\n",
       "      <td>2014-07-03</td>\n",
       "      <td>41.910000</td>\n",
       "      <td>41.990002</td>\n",
       "      <td>41.560001</td>\n",
       "      <td>41.799999</td>\n",
       "      <td>36.130253</td>\n",
       "      <td>15969300</td>\n",
       "      <td>MSFT</td>\n",
       "    </tr>\n",
       "    <tr>\n",
       "      <th>4</th>\n",
       "      <td>MSFT</td>\n",
       "      <td>2014-07-07</td>\n",
       "      <td>41.750000</td>\n",
       "      <td>42.119999</td>\n",
       "      <td>41.709999</td>\n",
       "      <td>41.990002</td>\n",
       "      <td>36.294491</td>\n",
       "      <td>21952400</td>\n",
       "      <td>MSFT</td>\n",
       "    </tr>\n",
       "    <tr>\n",
       "      <th>...</th>\n",
       "      <td>...</td>\n",
       "      <td>...</td>\n",
       "      <td>...</td>\n",
       "      <td>...</td>\n",
       "      <td>...</td>\n",
       "      <td>...</td>\n",
       "      <td>...</td>\n",
       "      <td>...</td>\n",
       "      <td>...</td>\n",
       "    </tr>\n",
       "    <tr>\n",
       "      <th>4101</th>\n",
       "      <td>GOOG</td>\n",
       "      <td>2022-08-17</td>\n",
       "      <td>120.930000</td>\n",
       "      <td>122.150002</td>\n",
       "      <td>120.199997</td>\n",
       "      <td>120.320000</td>\n",
       "      <td>120.320000</td>\n",
       "      <td>17589200</td>\n",
       "      <td>GOOG</td>\n",
       "    </tr>\n",
       "    <tr>\n",
       "      <th>4102</th>\n",
       "      <td>GOOG</td>\n",
       "      <td>2022-08-18</td>\n",
       "      <td>120.230003</td>\n",
       "      <td>121.690002</td>\n",
       "      <td>119.550003</td>\n",
       "      <td>120.860001</td>\n",
       "      <td>120.860001</td>\n",
       "      <td>15652000</td>\n",
       "      <td>GOOG</td>\n",
       "    </tr>\n",
       "    <tr>\n",
       "      <th>4103</th>\n",
       "      <td>GOOG</td>\n",
       "      <td>2022-08-19</td>\n",
       "      <td>119.870003</td>\n",
       "      <td>120.000000</td>\n",
       "      <td>117.669998</td>\n",
       "      <td>118.120003</td>\n",
       "      <td>118.120003</td>\n",
       "      <td>20171100</td>\n",
       "      <td>GOOG</td>\n",
       "    </tr>\n",
       "    <tr>\n",
       "      <th>4104</th>\n",
       "      <td>GOOG</td>\n",
       "      <td>2022-08-22</td>\n",
       "      <td>116.099998</td>\n",
       "      <td>116.500000</td>\n",
       "      <td>114.669998</td>\n",
       "      <td>115.070000</td>\n",
       "      <td>115.070000</td>\n",
       "      <td>19316000</td>\n",
       "      <td>GOOG</td>\n",
       "    </tr>\n",
       "    <tr>\n",
       "      <th>4105</th>\n",
       "      <td>GOOG</td>\n",
       "      <td>2022-08-23</td>\n",
       "      <td>114.320000</td>\n",
       "      <td>115.930000</td>\n",
       "      <td>114.300003</td>\n",
       "      <td>114.769997</td>\n",
       "      <td>114.769997</td>\n",
       "      <td>14390700</td>\n",
       "      <td>GOOG</td>\n",
       "    </tr>\n",
       "  </tbody>\n",
       "</table>\n",
       "<p>4106 rows × 9 columns</p>\n",
       "</div>"
      ],
      "text/plain": [
       "     level_0       date        open        high         low       close  \\\n",
       "0       MSFT 2014-06-30   42.169998   42.209999   41.700001   41.700001   \n",
       "1       MSFT 2014-07-01   41.860001   42.150002   41.689999   41.869999   \n",
       "2       MSFT 2014-07-02   41.730000   41.900002   41.529999   41.900002   \n",
       "3       MSFT 2014-07-03   41.910000   41.990002   41.560001   41.799999   \n",
       "4       MSFT 2014-07-07   41.750000   42.119999   41.709999   41.990002   \n",
       "...      ...        ...         ...         ...         ...         ...   \n",
       "4101    GOOG 2022-08-17  120.930000  122.150002  120.199997  120.320000   \n",
       "4102    GOOG 2022-08-18  120.230003  121.690002  119.550003  120.860001   \n",
       "4103    GOOG 2022-08-19  119.870003  120.000000  117.669998  118.120003   \n",
       "4104    GOOG 2022-08-22  116.099998  116.500000  114.669998  115.070000   \n",
       "4105    GOOG 2022-08-23  114.320000  115.930000  114.300003  114.769997   \n",
       "\n",
       "        adjclose    volume ticker  \n",
       "0      36.043835  30793100   MSFT  \n",
       "1      36.190765  26917000   MSFT  \n",
       "2      36.216694  20208100   MSFT  \n",
       "3      36.130253  15969300   MSFT  \n",
       "4      36.294491  21952400   MSFT  \n",
       "...          ...       ...    ...  \n",
       "4101  120.320000  17589200   GOOG  \n",
       "4102  120.860001  15652000   GOOG  \n",
       "4103  118.120003  20171100   GOOG  \n",
       "4104  115.070000  19316000   GOOG  \n",
       "4105  114.769997  14390700   GOOG  \n",
       "\n",
       "[4106 rows x 9 columns]"
      ]
     },
     "execution_count": 55,
     "metadata": {},
     "output_type": "execute_result"
    }
   ],
   "source": [
    "df_stocks = getStockData(tickers, start_dt, end_dt)\n",
    "df_stocks"
   ]
  },
  {
   "cell_type": "code",
   "execution_count": 57,
   "metadata": {},
   "outputs": [
    {
     "name": "stdout",
     "output_type": "stream",
     "text": [
      "Current stock price for MSFT is: 276.44000244140625\n",
      "Current stock price for GOOG is: 114.7699966430664\n"
     ]
    }
   ],
   "source": [
    "# Get the most current spot prices:\n",
    "last_date = df_stocks['date'].max()\n",
    "lst_spots = []\n",
    "for tick in tickers:\n",
    "    S = (df_stocks.query('date == @last_date & ticker == @tick')['adjclose'].values[0]).copy()\n",
    "    print(\"Current stock price for \" + str(tick) + \" is: \" + str(S))\n",
    "    lst_spots.append(S)"
   ]
  },
  {
   "cell_type": "code",
   "execution_count": 58,
   "metadata": {},
   "outputs": [
    {
     "name": "stdout",
     "output_type": "stream",
     "text": [
      "[276.44000244140625, 114.7699966430664]\n"
     ]
    }
   ],
   "source": [
    "# Load spot prices into list\n",
    "spot_prices = lst_spots\n",
    "print(spot_prices)"
   ]
  },
  {
   "cell_type": "markdown",
   "metadata": {},
   "source": [
    "#### Pull current put/call option market data"
   ]
  },
  {
   "cell_type": "code",
   "execution_count": 59,
   "metadata": {},
   "outputs": [
    {
     "data": {
      "text/html": [
       "<div>\n",
       "<style scoped>\n",
       "    .dataframe tbody tr th:only-of-type {\n",
       "        vertical-align: middle;\n",
       "    }\n",
       "\n",
       "    .dataframe tbody tr th {\n",
       "        vertical-align: top;\n",
       "    }\n",
       "\n",
       "    .dataframe thead th {\n",
       "        text-align: right;\n",
       "    }\n",
       "</style>\n",
       "<table border=\"1\" class=\"dataframe\">\n",
       "  <thead>\n",
       "    <tr style=\"text-align: right;\">\n",
       "      <th></th>\n",
       "      <th></th>\n",
       "      <th>contract_name</th>\n",
       "      <th>last_trade_date</th>\n",
       "      <th>strike</th>\n",
       "      <th>last_price</th>\n",
       "      <th>bid</th>\n",
       "      <th>ask</th>\n",
       "      <th>change</th>\n",
       "      <th>%_change</th>\n",
       "      <th>volume</th>\n",
       "      <th>open_interest</th>\n",
       "      <th>implied_volatility</th>\n",
       "      <th>stock_ticker</th>\n",
       "    </tr>\n",
       "  </thead>\n",
       "  <tbody>\n",
       "    <tr>\n",
       "      <th rowspan=\"5\" valign=\"top\">MSFT</th>\n",
       "      <th>0</th>\n",
       "      <td>MSFT220916P00080000</td>\n",
       "      <td>2022-07-26 12:56PM EDT</td>\n",
       "      <td>80.0</td>\n",
       "      <td>0.03</td>\n",
       "      <td>0.0</td>\n",
       "      <td>0.00</td>\n",
       "      <td>0.0</td>\n",
       "      <td>-</td>\n",
       "      <td>1</td>\n",
       "      <td>6374</td>\n",
       "      <td>50.00%</td>\n",
       "      <td>MSFT</td>\n",
       "    </tr>\n",
       "    <tr>\n",
       "      <th>1</th>\n",
       "      <td>MSFT220916P00085000</td>\n",
       "      <td>2022-07-25 12:59PM EDT</td>\n",
       "      <td>85.0</td>\n",
       "      <td>0.02</td>\n",
       "      <td>0.0</td>\n",
       "      <td>0.01</td>\n",
       "      <td>0.0</td>\n",
       "      <td>-</td>\n",
       "      <td>1</td>\n",
       "      <td>470</td>\n",
       "      <td>137.50%</td>\n",
       "      <td>MSFT</td>\n",
       "    </tr>\n",
       "    <tr>\n",
       "      <th>2</th>\n",
       "      <td>MSFT220916P00090000</td>\n",
       "      <td>2022-07-12 3:25PM EDT</td>\n",
       "      <td>90.0</td>\n",
       "      <td>0.02</td>\n",
       "      <td>0.0</td>\n",
       "      <td>0.06</td>\n",
       "      <td>0.0</td>\n",
       "      <td>-</td>\n",
       "      <td>1</td>\n",
       "      <td>1529</td>\n",
       "      <td>153.13%</td>\n",
       "      <td>MSFT</td>\n",
       "    </tr>\n",
       "    <tr>\n",
       "      <th>3</th>\n",
       "      <td>MSFT220916P00095000</td>\n",
       "      <td>2022-08-12 12:05PM EDT</td>\n",
       "      <td>95.0</td>\n",
       "      <td>0.01</td>\n",
       "      <td>0.0</td>\n",
       "      <td>0.00</td>\n",
       "      <td>0.0</td>\n",
       "      <td>-</td>\n",
       "      <td>6</td>\n",
       "      <td>372</td>\n",
       "      <td>50.00%</td>\n",
       "      <td>MSFT</td>\n",
       "    </tr>\n",
       "    <tr>\n",
       "      <th>4</th>\n",
       "      <td>MSFT220916P00100000</td>\n",
       "      <td>2022-08-12 12:04PM EDT</td>\n",
       "      <td>100.0</td>\n",
       "      <td>0.01</td>\n",
       "      <td>0.0</td>\n",
       "      <td>0.00</td>\n",
       "      <td>0.0</td>\n",
       "      <td>-</td>\n",
       "      <td>4</td>\n",
       "      <td>1426</td>\n",
       "      <td>50.00%</td>\n",
       "      <td>MSFT</td>\n",
       "    </tr>\n",
       "    <tr>\n",
       "      <th>...</th>\n",
       "      <th>...</th>\n",
       "      <td>...</td>\n",
       "      <td>...</td>\n",
       "      <td>...</td>\n",
       "      <td>...</td>\n",
       "      <td>...</td>\n",
       "      <td>...</td>\n",
       "      <td>...</td>\n",
       "      <td>...</td>\n",
       "      <td>...</td>\n",
       "      <td>...</td>\n",
       "      <td>...</td>\n",
       "      <td>...</td>\n",
       "    </tr>\n",
       "    <tr>\n",
       "      <th rowspan=\"5\" valign=\"top\">GOOG</th>\n",
       "      <th>404</th>\n",
       "      <td>GOOG220916P04250000</td>\n",
       "      <td>2022-02-04 11:33AM EDT</td>\n",
       "      <td>4250.0</td>\n",
       "      <td>1406.36</td>\n",
       "      <td>1597.0</td>\n",
       "      <td>1614.40</td>\n",
       "      <td>0.0</td>\n",
       "      <td>-</td>\n",
       "      <td>42</td>\n",
       "      <td>46</td>\n",
       "      <td>0.00%</td>\n",
       "      <td>GOOG</td>\n",
       "    </tr>\n",
       "    <tr>\n",
       "      <th>405</th>\n",
       "      <td>GOOG220916P04300000</td>\n",
       "      <td>2022-04-12 10:14AM EDT</td>\n",
       "      <td>4300.0</td>\n",
       "      <td>1668.85</td>\n",
       "      <td>2026.4</td>\n",
       "      <td>2045.50</td>\n",
       "      <td>0.0</td>\n",
       "      <td>-</td>\n",
       "      <td>1</td>\n",
       "      <td>0</td>\n",
       "      <td>0.00%</td>\n",
       "      <td>GOOG</td>\n",
       "    </tr>\n",
       "    <tr>\n",
       "      <th>406</th>\n",
       "      <td>GOOG220916P04350000</td>\n",
       "      <td>2022-02-02 12:00PM EDT</td>\n",
       "      <td>4350.0</td>\n",
       "      <td>1420.95</td>\n",
       "      <td>1721.0</td>\n",
       "      <td>1738.50</td>\n",
       "      <td>0.0</td>\n",
       "      <td>-</td>\n",
       "      <td>8</td>\n",
       "      <td>8</td>\n",
       "      <td>0.00%</td>\n",
       "      <td>GOOG</td>\n",
       "    </tr>\n",
       "    <tr>\n",
       "      <th>407</th>\n",
       "      <td>GOOG220916P04400000</td>\n",
       "      <td>2022-02-07 12:27PM EDT</td>\n",
       "      <td>4400.0</td>\n",
       "      <td>1579.70</td>\n",
       "      <td>1751.9</td>\n",
       "      <td>1762.60</td>\n",
       "      <td>0.0</td>\n",
       "      <td>-</td>\n",
       "      <td>64</td>\n",
       "      <td>42</td>\n",
       "      <td>0.00%</td>\n",
       "      <td>GOOG</td>\n",
       "    </tr>\n",
       "    <tr>\n",
       "      <th>408</th>\n",
       "      <td>GOOG220916P04500000</td>\n",
       "      <td>2022-06-22 3:53PM EDT</td>\n",
       "      <td>4500.0</td>\n",
       "      <td>2253.10</td>\n",
       "      <td>0.0</td>\n",
       "      <td>0.00</td>\n",
       "      <td>0.0</td>\n",
       "      <td>-</td>\n",
       "      <td>-</td>\n",
       "      <td>0</td>\n",
       "      <td>0.00%</td>\n",
       "      <td>GOOG</td>\n",
       "    </tr>\n",
       "  </tbody>\n",
       "</table>\n",
       "<p>497 rows × 12 columns</p>\n",
       "</div>"
      ],
      "text/plain": [
       "                contract_name         last_trade_date  strike  last_price  \\\n",
       "MSFT 0    MSFT220916P00080000  2022-07-26 12:56PM EDT    80.0        0.03   \n",
       "     1    MSFT220916P00085000  2022-07-25 12:59PM EDT    85.0        0.02   \n",
       "     2    MSFT220916P00090000   2022-07-12 3:25PM EDT    90.0        0.02   \n",
       "     3    MSFT220916P00095000  2022-08-12 12:05PM EDT    95.0        0.01   \n",
       "     4    MSFT220916P00100000  2022-08-12 12:04PM EDT   100.0        0.01   \n",
       "...                       ...                     ...     ...         ...   \n",
       "GOOG 404  GOOG220916P04250000  2022-02-04 11:33AM EDT  4250.0     1406.36   \n",
       "     405  GOOG220916P04300000  2022-04-12 10:14AM EDT  4300.0     1668.85   \n",
       "     406  GOOG220916P04350000  2022-02-02 12:00PM EDT  4350.0     1420.95   \n",
       "     407  GOOG220916P04400000  2022-02-07 12:27PM EDT  4400.0     1579.70   \n",
       "     408  GOOG220916P04500000   2022-06-22 3:53PM EDT  4500.0     2253.10   \n",
       "\n",
       "             bid      ask  change %_change volume open_interest  \\\n",
       "MSFT 0       0.0     0.00     0.0        -      1          6374   \n",
       "     1       0.0     0.01     0.0        -      1           470   \n",
       "     2       0.0     0.06     0.0        -      1          1529   \n",
       "     3       0.0     0.00     0.0        -      6           372   \n",
       "     4       0.0     0.00     0.0        -      4          1426   \n",
       "...          ...      ...     ...      ...    ...           ...   \n",
       "GOOG 404  1597.0  1614.40     0.0        -     42            46   \n",
       "     405  2026.4  2045.50     0.0        -      1             0   \n",
       "     406  1721.0  1738.50     0.0        -      8             8   \n",
       "     407  1751.9  1762.60     0.0        -     64            42   \n",
       "     408     0.0     0.00     0.0        -      -             0   \n",
       "\n",
       "         implied_volatility stock_ticker  \n",
       "MSFT 0               50.00%         MSFT  \n",
       "     1              137.50%         MSFT  \n",
       "     2              153.13%         MSFT  \n",
       "     3               50.00%         MSFT  \n",
       "     4               50.00%         MSFT  \n",
       "...                     ...          ...  \n",
       "GOOG 404              0.00%         GOOG  \n",
       "     405              0.00%         GOOG  \n",
       "     406              0.00%         GOOG  \n",
       "     407              0.00%         GOOG  \n",
       "     408              0.00%         GOOG  \n",
       "\n",
       "[497 rows x 12 columns]"
      ]
     },
     "execution_count": 59,
     "metadata": {},
     "output_type": "execute_result"
    }
   ],
   "source": [
    "df_options = getOptionData(tickers = tickers, cp_flag = cp, exp_date = exp_date)\n",
    "df_options"
   ]
  },
  {
   "cell_type": "code",
   "execution_count": 95,
   "metadata": {},
   "outputs": [],
   "source": [
    "# see available strikes\n",
    "# d = df_options[df_options['stock_ticker'] == 'GOOG']\n",
    "# d['strike'].unique()\n",
    "#del d"
   ]
  },
  {
   "cell_type": "code",
   "execution_count": 77,
   "metadata": {},
   "outputs": [
    {
     "name": "stdout",
     "output_type": "stream",
     "text": [
      "Current option price for MSFT with strike price 270 is: 4.83\n",
      "Current option price for GOOG with strike price 108 is: 1.2\n"
     ]
    }
   ],
   "source": [
    "# Get option prices for given strike price\n",
    "lst_opt_prices = []\n",
    "strikes = [270, 108]\n",
    "\n",
    "for i in range(0, len(tickers)):\n",
    "    tick = tickers[i]\n",
    "    K = strikes[i]\n",
    "    opt_px = (df_options.query('strike == @K & stock_ticker == @tick')['last_price'].values[0]).copy()\n",
    "    print(\"Current option price for \" + str(tick) + \" with strike price \" + str(K) + \" is: \" + str(opt_px))\n",
    "    lst_opt_prices.append(opt_px)"
   ]
  },
  {
   "cell_type": "code",
   "execution_count": 78,
   "metadata": {},
   "outputs": [
    {
     "name": "stdout",
     "output_type": "stream",
     "text": [
      "[4.83, 1.2]\n"
     ]
    }
   ],
   "source": [
    "# Load spot prices into list\n",
    "option_prices = lst_opt_prices\n",
    "print(option_prices)"
   ]
  },
  {
   "cell_type": "markdown",
   "metadata": {},
   "source": [
    "Handling dates to get days to expiration:"
   ]
  },
  {
   "cell_type": "code",
   "execution_count": 79,
   "metadata": {},
   "outputs": [],
   "source": [
    "trade_dt = pd.Timestamp(end_dt)\n",
    "#print(exp_date) # September 16, 2022\n",
    "exp_timestamp_dt = pd.Timestamp('2022-09-16')"
   ]
  },
  {
   "cell_type": "markdown",
   "metadata": {},
   "source": [
    "#### Set remaining variables and parameters:"
   ]
  },
  {
   "cell_type": "code",
   "execution_count": 80,
   "metadata": {},
   "outputs": [],
   "source": [
    "# Set buy_sell flag: if buying option set = 1, if selling option set = -1\n",
    "buy_sell = [1, 1]\n",
    "\n",
    "# days to expiration:\n",
    "d2x = pd.Timedelta(exp_timestamp_dt - trade_dt, \"days\").days  #returns an integer\n",
    "\n",
    "# hedging frequency:\n",
    "hedge_frequency = d2x\n",
    "\n",
    "# tenor as a fraction of total trading days in a year\n",
    "tenor = np.double(d2x)/252.\n",
    "\n",
    "# time delta for GBM simulation of price paths:\n",
    "dt = tenor / hedge_frequency # time delta\n",
    "\n",
    "# Number of paths to simulate\n",
    "num_paths = 500\n",
    "\n",
    "# Assume that the drift is equal to the risk free short rate:\n",
    "risk_free = 0.02"
   ]
  },
  {
   "cell_type": "markdown",
   "metadata": {},
   "source": [
    "#### Create a dictionary of all of the variables and parameters so I can view them all at once and in one place"
   ]
  },
  {
   "cell_type": "code",
   "execution_count": 81,
   "metadata": {},
   "outputs": [],
   "source": [
    "# Create a dictionary of all of our variables and parameters so I can view\n",
    "# them all at once and in one place\n",
    "dict_params = {}\n",
    "dict_params[\"option_prices\"] = option_prices\n",
    "dict_params[\"spot_prices\"] = spot_prices\n",
    "dict_params[\"strikes\"] = strikes\n",
    "dict_params[\"cp\"] = cp\n",
    "dict_params[\"buy_sell\"] = buy_sell\n",
    "dict_params[\"trade_dt\"] = trade_dt\n",
    "dict_params[\"exp_timestamp_dt\"] = exp_timestamp_dt\n",
    "dict_params[\"d2x\"] = d2x\n",
    "dict_params[\"tenor\"] = tenor\n",
    "dict_params[\"hedge_frequency\"] = hedge_frequency\n",
    "dict_params[\"dt\"] = dt\n",
    "dict_params[\"risk_free\"] = risk_free\n",
    "dict_params[\"num_paths\"] = num_paths"
   ]
  },
  {
   "cell_type": "code",
   "execution_count": 82,
   "metadata": {},
   "outputs": [
    {
     "data": {
      "text/plain": [
       "{'option_prices': [4.83, 1.2],\n",
       " 'spot_prices': [276.44000244140625, 114.7699966430664],\n",
       " 'strikes': [270, 108],\n",
       " 'cp': 'p',\n",
       " 'buy_sell': [1, 1],\n",
       " 'trade_dt': Timestamp('2022-08-24 00:00:00'),\n",
       " 'exp_timestamp_dt': Timestamp('2022-09-16 00:00:00'),\n",
       " 'd2x': 23,\n",
       " 'tenor': 0.09126984126984126,\n",
       " 'hedge_frequency': 23,\n",
       " 'dt': 0.003968253968253968,\n",
       " 'risk_free': 0.02,\n",
       " 'num_paths': 500}"
      ]
     },
     "execution_count": 82,
     "metadata": {},
     "output_type": "execute_result"
    }
   ],
   "source": [
    "dict_params"
   ]
  },
  {
   "cell_type": "code",
   "execution_count": 274,
   "metadata": {},
   "outputs": [],
   "source": [
    "# for i_key in dict_params.keys():\n",
    "#     print(type(dict_params[i_key]))"
   ]
  },
  {
   "cell_type": "markdown",
   "metadata": {},
   "source": [
    "## Simulation of Underyling Price Paths"
   ]
  },
  {
   "cell_type": "markdown",
   "metadata": {},
   "source": [
    "The Black-Scholes-Merton option pricing framework assumes that the price process of the underlying asset follows a *geometric brownian motion* (GBM). This means that:\n",
    "\n",
    "1. The price process is continuous.\n",
    "\n",
    "1. The log return over any period of time is normally distributed.\n",
    "\n",
    "2. The returns during any two disjoint periods are independent.\n",
    "\n",
    "The price process of a geometric brownian motion is determined by the current risk-free rate $r$ and the annualized volatility of the underlying $\\sigma$.  Prices that are separated by $\\Delta t$ units of time are related by following equation:\n",
    "\n",
    "$$S_{t} =  S_{t - \\Delta t} \\cdot \\exp\\bigg(\\bigg(r - \\frac{1}{2}\\sigma^2\\bigg)\\Delta t + \\sigma \\sqrt{\\Delta t} z_{t}\\bigg)$$\n",
    "\n",
    "where $z_{t}$ is a standard normal random variable.\n",
    "\n",
    "This is called the *Euler discretization* of a GBM. It will serve as the  recipe for our price-path simulation algorithm.  Note that the expression in the parentheses is the log-return of the stock between time $t - \\Delta t$ and $t$.\n",
    "\n",
    "Although the  GBM assumptions are often violated in actual prices, there is still enough truth in them that the Black-Scholes-Merton manufacturing process is practically useful.  It prescribes a process that derivative dealers can use to construct the contracts that their customers are interested in.  This manufacturing process is referred to as *constructing a replicating portfolio*, which in the case of vanilla option is accomplished via a dynamic trading strategy of the underlying asset.  This dynamic strategy is called *delta*-hedging. "
   ]
  },
  {
   "cell_type": "markdown",
   "metadata": {},
   "source": [
    "#### Calculate the implied volatility (pricing volatility)"
   ]
  },
  {
   "cell_type": "code",
   "execution_count": 91,
   "metadata": {},
   "outputs": [
    {
     "data": {
      "text/plain": [
       "[0.2375, 0.2746]"
      ]
     },
     "execution_count": 91,
     "metadata": {},
     "output_type": "execute_result"
    }
   ],
   "source": [
    "pricing_vol = calcPricingVol(prices = option_prices, spots = spot_prices, strikes = strikes, tenor = tenor, rf_rate = risk_free, cp_flag = cp)\n",
    "pricing_vol"
   ]
  },
  {
   "cell_type": "code",
   "execution_count": 86,
   "metadata": {},
   "outputs": [
    {
     "name": "stdout",
     "output_type": "stream",
     "text": [
      "Acdording to the Yahoo Finance, the implied vol on MSFT with strike price 270 is: 1.56%\n",
      "Acdording to the Yahoo Finance, the implied vol on GOOG with strike price 108 is: 6.25%\n"
     ]
    }
   ],
   "source": [
    "# Get option prices for given strike price\n",
    "lst_yahoo_imp_vol = []\n",
    "# strikes = [305., 130.]\n",
    "\n",
    "for i in range(0, len(tickers)):\n",
    "    tick = tickers[i]\n",
    "    K = strikes[i]\n",
    "    iv = (df_options.query('strike == @K & stock_ticker == @tick')['implied_volatility'].values[0])\n",
    "    print(\"Acdording to the Yahoo Finance, the implied vol on \" + str(tick) + \" with strike price \" + str(K) + \" is: \" + str(iv))\n",
    "    lst_yahoo_imp_vol.append(iv)"
   ]
  },
  {
   "cell_type": "code",
   "execution_count": 137,
   "metadata": {},
   "outputs": [],
   "source": [
    "pricing_vol = [.0156, .0625]"
   ]
  },
  {
   "cell_type": "markdown",
   "metadata": {},
   "source": [
    "#### Simulate price paths: <br>\n",
    "Will be pricing options using **Monte Carlo simulation**. Therefore **simulating the stochastic process with the drift $\\mu$ equal to the risk-free short rate $r$** (according to the Fundamental Theorem of Asset Pricing)."
   ]
  },
  {
   "cell_type": "code",
   "execution_count": 138,
   "metadata": {},
   "outputs": [],
   "source": [
    "# setting the random seed\n",
    "np.random.seed(1)\n",
    "# initializing paths\n",
    "lst_paths = []\n",
    "\n",
    "for i in range(0, len(tickers)):\n",
    "    Xpaths = simPaths(ticker = tickers[i] , imp_vol = pricing_vol[i], spot = spot_prices[i],\n",
    "                       hedge_freq = hedge_frequency, n_paths = num_paths, delta_t = dt, rf_rate = risk_free)\n",
    "       \n",
    "    lst_paths.append(Xpaths)"
   ]
  },
  {
   "cell_type": "code",
   "execution_count": 22,
   "metadata": {},
   "outputs": [],
   "source": [
    "# The first price in every path is the current spot price of the underlying.\n",
    "# current price of first underlying:\n",
    "# lst_paths[0][0]\n",
    "#lst_paths[0][:, :10]"
   ]
  },
  {
   "cell_type": "code",
   "execution_count": 139,
   "metadata": {},
   "outputs": [
    {
     "data": {
      "text/plain": [
       "Text(0.5, 1.0, 'Simulated Price Paths')"
      ]
     },
     "execution_count": 139,
     "metadata": {},
     "output_type": "execute_result"
    },
    {
     "data": {
      "image/png": "[encoded data removed]",
      "text/plain": [
       "<Figure size 720x432 with 1 Axes>"
      ]
     },
     "metadata": {
      "needs_background": "light"
     },
     "output_type": "display_data"
    }
   ],
   "source": [
    "# Plot first 50 simulated paths\n",
    "plt.figure(figsize=(10, 6))\n",
    "plt.plot(lst_paths[0][:, :50]);\n",
    "plt.xlim(0, d2x)\n",
    "plt.title(\"Simulated Price Paths\")"
   ]
  },
  {
   "cell_type": "markdown",
   "metadata": {},
   "source": [
    "## Delta-Hedging\n",
    "It is typical that a derivatives dealer will trade the above option with a customer, and then hold that option option until expiration and delta hedge it on a daily basis. Delta-hedging with daily rebalancing means at the end of each day we hold a position in the underlying who's size is equal to the negative of the delta of the option position. <br> \n",
    "\n",
    "The BSM manufacturing framework states that **the dealer will break even if**:\n",
    "\n",
    "1. the underlying price follows a geometric brownian motion\n",
    "2. the realized volatility during the life of the option is equal to the implied volatility used to price the option\n",
    "3. the dealer delta-hedges with frequent rebalancing (in order for the result to be deterministic the delta-hedging must be continuous)\n",
    "\n",
    "**If the dealer is *buying* the option and delta hedging, they will:**:\n",
    "- Make money if implied volatility > realized volatility\n",
    "- Lose money if implied volatility < realized volatility\n",
    "\n",
    "**If the dealer is *selling* the option and delta hedging, they will:**:\n",
    "- Lose money if implied volatility > realized volatility\n",
    "- Make money if implied volatility < realized volatility\n",
    "\n",
    "\n",
    "**Notes on Delta Hedging given initial portfolio:**<br>\n",
    "If the initial portfolio is long a call or short a put: hedge with short underlying <br>\n",
    "Rebalancing:\n",
    "- If S goes down, buy delta shares of S\n",
    "- If S goes up, sell delta shares of S\n",
    "<br>\n",
    "\n",
    "If the initial portfolio is short a call or long a put: hedge with long underlying <br>\n",
    "Rebalancing:\n",
    "- If S goes down, sell delta shares of S\n",
    "- If S goes up, buy delta shares of S"
   ]
  },
  {
   "cell_type": "markdown",
   "metadata": {},
   "source": [
    "### Delta-Hedging Simulation: when implied volatility = realized volatility\n",
    "\n",
    "\n",
    "#### Using the `calcPnL` function, we'll do the following: <br>\n",
    "\n",
    "1. Create a collection of dataframes that will track the PnL from delta-hedging the option for each option on each underlying.\n",
    "\n",
    "2. Calculate the prices of the option for each day in the simulation using the `bsm_px()` function. <br>\n",
    "\n",
    "2. Calculate the deltas through time using the `bsm_delta()` function.  <br>\n",
    "\n",
    "3. Calculate the daily PnL on the option and the delta hedge\n",
    "\n",
    "4. Calculate the total PnL of the position (total PnL = option PnL + delta hedge PnL) under each simulated price path scenario \n"
   ]
  },
  {
   "cell_type": "markdown",
   "metadata": {},
   "source": [
    "#### Calculate the daily PnL on the option, the hedge, and the total position"
   ]
  },
  {
   "cell_type": "code",
   "execution_count": 140,
   "metadata": {},
   "outputs": [
    {
     "name": "stdout",
     "output_type": "stream",
     "text": [
      "MSFT\n",
      "GOOG\n"
     ]
    }
   ],
   "source": [
    "df_all_pnl = calcPnL(tickers = tickers, call_put = cp, strikes = strikes, imp_vols = pricing_vol, sim_paths = lst_paths,\n",
    "                  hedge_freq = hedge_frequency, tenor = tenor, n_paths = num_paths, buy_sell = -1)"
   ]
  },
  {
   "cell_type": "code",
   "execution_count": 141,
   "metadata": {},
   "outputs": [
    {
     "data": {
      "text/html": [
       "<div>\n",
       "<style scoped>\n",
       "    .dataframe tbody tr th:only-of-type {\n",
       "        vertical-align: middle;\n",
       "    }\n",
       "\n",
       "    .dataframe tbody tr th {\n",
       "        vertical-align: top;\n",
       "    }\n",
       "\n",
       "    .dataframe thead th {\n",
       "        text-align: right;\n",
       "    }\n",
       "</style>\n",
       "<table border=\"1\" class=\"dataframe\">\n",
       "  <thead>\n",
       "    <tr style=\"text-align: right;\">\n",
       "      <th></th>\n",
       "      <th>underlying</th>\n",
       "      <th>cp</th>\n",
       "      <th>strike</th>\n",
       "      <th>volatility</th>\n",
       "      <th>upx</th>\n",
       "      <th>buy_sell</th>\n",
       "      <th>t2x</th>\n",
       "      <th>option_price</th>\n",
       "      <th>delta</th>\n",
       "      <th>option_pnl</th>\n",
       "      <th>delta_hedge_pnl</th>\n",
       "      <th>total_pnl</th>\n",
       "      <th>scenario</th>\n",
       "    </tr>\n",
       "  </thead>\n",
       "  <tbody>\n",
       "    <tr>\n",
       "      <th>0</th>\n",
       "      <td>MSFT</td>\n",
       "      <td>p</td>\n",
       "      <td>270</td>\n",
       "      <td>0.0156</td>\n",
       "      <td>276.440002</td>\n",
       "      <td>-1</td>\n",
       "      <td>0.091270</td>\n",
       "      <td>0.0</td>\n",
       "      <td>-0.0</td>\n",
       "      <td>NaN</td>\n",
       "      <td>NaN</td>\n",
       "      <td>NaN</td>\n",
       "      <td>0</td>\n",
       "    </tr>\n",
       "    <tr>\n",
       "      <th>1</th>\n",
       "      <td>MSFT</td>\n",
       "      <td>p</td>\n",
       "      <td>270</td>\n",
       "      <td>0.0156</td>\n",
       "      <td>276.900000</td>\n",
       "      <td>-1</td>\n",
       "      <td>0.087302</td>\n",
       "      <td>0.0</td>\n",
       "      <td>-0.0</td>\n",
       "      <td>-0.0</td>\n",
       "      <td>-0.0</td>\n",
       "      <td>-0.0</td>\n",
       "      <td>0</td>\n",
       "    </tr>\n",
       "    <tr>\n",
       "      <th>2</th>\n",
       "      <td>MSFT</td>\n",
       "      <td>p</td>\n",
       "      <td>270</td>\n",
       "      <td>0.0156</td>\n",
       "      <td>276.450000</td>\n",
       "      <td>-1</td>\n",
       "      <td>0.083333</td>\n",
       "      <td>0.0</td>\n",
       "      <td>-0.0</td>\n",
       "      <td>-0.0</td>\n",
       "      <td>0.0</td>\n",
       "      <td>0.0</td>\n",
       "      <td>0</td>\n",
       "    </tr>\n",
       "    <tr>\n",
       "      <th>3</th>\n",
       "      <td>MSFT</td>\n",
       "      <td>p</td>\n",
       "      <td>270</td>\n",
       "      <td>0.0156</td>\n",
       "      <td>276.430000</td>\n",
       "      <td>-1</td>\n",
       "      <td>0.079365</td>\n",
       "      <td>0.0</td>\n",
       "      <td>-0.0</td>\n",
       "      <td>-0.0</td>\n",
       "      <td>0.0</td>\n",
       "      <td>0.0</td>\n",
       "      <td>0</td>\n",
       "    </tr>\n",
       "    <tr>\n",
       "      <th>4</th>\n",
       "      <td>MSFT</td>\n",
       "      <td>p</td>\n",
       "      <td>270</td>\n",
       "      <td>0.0156</td>\n",
       "      <td>276.810000</td>\n",
       "      <td>-1</td>\n",
       "      <td>0.075397</td>\n",
       "      <td>0.0</td>\n",
       "      <td>-0.0</td>\n",
       "      <td>-0.0</td>\n",
       "      <td>-0.0</td>\n",
       "      <td>-0.0</td>\n",
       "      <td>0</td>\n",
       "    </tr>\n",
       "    <tr>\n",
       "      <th>...</th>\n",
       "      <td>...</td>\n",
       "      <td>...</td>\n",
       "      <td>...</td>\n",
       "      <td>...</td>\n",
       "      <td>...</td>\n",
       "      <td>...</td>\n",
       "      <td>...</td>\n",
       "      <td>...</td>\n",
       "      <td>...</td>\n",
       "      <td>...</td>\n",
       "      <td>...</td>\n",
       "      <td>...</td>\n",
       "      <td>...</td>\n",
       "    </tr>\n",
       "    <tr>\n",
       "      <th>23995</th>\n",
       "      <td>GOOG</td>\n",
       "      <td>p</td>\n",
       "      <td>108</td>\n",
       "      <td>0.0625</td>\n",
       "      <td>115.310000</td>\n",
       "      <td>-1</td>\n",
       "      <td>0.015873</td>\n",
       "      <td>0.0</td>\n",
       "      <td>-0.0</td>\n",
       "      <td>-0.0</td>\n",
       "      <td>-0.0</td>\n",
       "      <td>-0.0</td>\n",
       "      <td>499</td>\n",
       "    </tr>\n",
       "    <tr>\n",
       "      <th>23996</th>\n",
       "      <td>GOOG</td>\n",
       "      <td>p</td>\n",
       "      <td>108</td>\n",
       "      <td>0.0625</td>\n",
       "      <td>115.070000</td>\n",
       "      <td>-1</td>\n",
       "      <td>0.011905</td>\n",
       "      <td>0.0</td>\n",
       "      <td>-0.0</td>\n",
       "      <td>-0.0</td>\n",
       "      <td>0.0</td>\n",
       "      <td>0.0</td>\n",
       "      <td>499</td>\n",
       "    </tr>\n",
       "    <tr>\n",
       "      <th>23997</th>\n",
       "      <td>GOOG</td>\n",
       "      <td>p</td>\n",
       "      <td>108</td>\n",
       "      <td>0.0625</td>\n",
       "      <td>114.480000</td>\n",
       "      <td>-1</td>\n",
       "      <td>0.007937</td>\n",
       "      <td>0.0</td>\n",
       "      <td>-0.0</td>\n",
       "      <td>-0.0</td>\n",
       "      <td>0.0</td>\n",
       "      <td>0.0</td>\n",
       "      <td>499</td>\n",
       "    </tr>\n",
       "    <tr>\n",
       "      <th>23998</th>\n",
       "      <td>GOOG</td>\n",
       "      <td>p</td>\n",
       "      <td>108</td>\n",
       "      <td>0.0625</td>\n",
       "      <td>114.690000</td>\n",
       "      <td>-1</td>\n",
       "      <td>0.003968</td>\n",
       "      <td>0.0</td>\n",
       "      <td>-0.0</td>\n",
       "      <td>-0.0</td>\n",
       "      <td>-0.0</td>\n",
       "      <td>-0.0</td>\n",
       "      <td>499</td>\n",
       "    </tr>\n",
       "    <tr>\n",
       "      <th>23999</th>\n",
       "      <td>GOOG</td>\n",
       "      <td>p</td>\n",
       "      <td>108</td>\n",
       "      <td>0.0625</td>\n",
       "      <td>114.890000</td>\n",
       "      <td>-1</td>\n",
       "      <td>0.000000</td>\n",
       "      <td>0.0</td>\n",
       "      <td>0.0</td>\n",
       "      <td>-0.0</td>\n",
       "      <td>-0.0</td>\n",
       "      <td>-0.0</td>\n",
       "      <td>499</td>\n",
       "    </tr>\n",
       "  </tbody>\n",
       "</table>\n",
       "<p>24000 rows × 13 columns</p>\n",
       "</div>"
      ],
      "text/plain": [
       "      underlying cp  strike  volatility         upx  buy_sell       t2x  \\\n",
       "0           MSFT  p     270      0.0156  276.440002        -1  0.091270   \n",
       "1           MSFT  p     270      0.0156  276.900000        -1  0.087302   \n",
       "2           MSFT  p     270      0.0156  276.450000        -1  0.083333   \n",
       "3           MSFT  p     270      0.0156  276.430000        -1  0.079365   \n",
       "4           MSFT  p     270      0.0156  276.810000        -1  0.075397   \n",
       "...          ... ..     ...         ...         ...       ...       ...   \n",
       "23995       GOOG  p     108      0.0625  115.310000        -1  0.015873   \n",
       "23996       GOOG  p     108      0.0625  115.070000        -1  0.011905   \n",
       "23997       GOOG  p     108      0.0625  114.480000        -1  0.007937   \n",
       "23998       GOOG  p     108      0.0625  114.690000        -1  0.003968   \n",
       "23999       GOOG  p     108      0.0625  114.890000        -1  0.000000   \n",
       "\n",
       "       option_price  delta  option_pnl  delta_hedge_pnl  total_pnl  scenario  \n",
       "0               0.0   -0.0         NaN              NaN        NaN         0  \n",
       "1               0.0   -0.0        -0.0             -0.0       -0.0         0  \n",
       "2               0.0   -0.0        -0.0              0.0        0.0         0  \n",
       "3               0.0   -0.0        -0.0              0.0        0.0         0  \n",
       "4               0.0   -0.0        -0.0             -0.0       -0.0         0  \n",
       "...             ...    ...         ...              ...        ...       ...  \n",
       "23995           0.0   -0.0        -0.0             -0.0       -0.0       499  \n",
       "23996           0.0   -0.0        -0.0              0.0        0.0       499  \n",
       "23997           0.0   -0.0        -0.0              0.0        0.0       499  \n",
       "23998           0.0   -0.0        -0.0             -0.0       -0.0       499  \n",
       "23999           0.0    0.0        -0.0             -0.0       -0.0       499  \n",
       "\n",
       "[24000 rows x 13 columns]"
      ]
     },
     "execution_count": 141,
     "metadata": {},
     "output_type": "execute_result"
    }
   ],
   "source": [
    "df_all_pnl"
   ]
  },
  {
   "cell_type": "code",
   "execution_count": 142,
   "metadata": {},
   "outputs": [
    {
     "data": {
      "text/html": [
       "<div>\n",
       "<style scoped>\n",
       "    .dataframe tbody tr th:only-of-type {\n",
       "        vertical-align: middle;\n",
       "    }\n",
       "\n",
       "    .dataframe tbody tr th {\n",
       "        vertical-align: top;\n",
       "    }\n",
       "\n",
       "    .dataframe thead th {\n",
       "        text-align: right;\n",
       "    }\n",
       "</style>\n",
       "<table border=\"1\" class=\"dataframe\">\n",
       "  <thead>\n",
       "    <tr style=\"text-align: right;\">\n",
       "      <th></th>\n",
       "      <th>underlying</th>\n",
       "      <th>scenario</th>\n",
       "      <th>total_pnl</th>\n",
       "    </tr>\n",
       "  </thead>\n",
       "  <tbody>\n",
       "    <tr>\n",
       "      <th>0</th>\n",
       "      <td>GOOG</td>\n",
       "      <td>0</td>\n",
       "      <td>-0.00053</td>\n",
       "    </tr>\n",
       "    <tr>\n",
       "      <th>1</th>\n",
       "      <td>GOOG</td>\n",
       "      <td>1</td>\n",
       "      <td>-0.00057</td>\n",
       "    </tr>\n",
       "    <tr>\n",
       "      <th>2</th>\n",
       "      <td>GOOG</td>\n",
       "      <td>2</td>\n",
       "      <td>-0.00003</td>\n",
       "    </tr>\n",
       "    <tr>\n",
       "      <th>3</th>\n",
       "      <td>GOOG</td>\n",
       "      <td>3</td>\n",
       "      <td>-0.00019</td>\n",
       "    </tr>\n",
       "    <tr>\n",
       "      <th>4</th>\n",
       "      <td>GOOG</td>\n",
       "      <td>4</td>\n",
       "      <td>-0.00054</td>\n",
       "    </tr>\n",
       "    <tr>\n",
       "      <th>...</th>\n",
       "      <td>...</td>\n",
       "      <td>...</td>\n",
       "      <td>...</td>\n",
       "    </tr>\n",
       "    <tr>\n",
       "      <th>995</th>\n",
       "      <td>MSFT</td>\n",
       "      <td>495</td>\n",
       "      <td>0.00000</td>\n",
       "    </tr>\n",
       "    <tr>\n",
       "      <th>996</th>\n",
       "      <td>MSFT</td>\n",
       "      <td>496</td>\n",
       "      <td>0.00000</td>\n",
       "    </tr>\n",
       "    <tr>\n",
       "      <th>997</th>\n",
       "      <td>MSFT</td>\n",
       "      <td>497</td>\n",
       "      <td>0.00000</td>\n",
       "    </tr>\n",
       "    <tr>\n",
       "      <th>998</th>\n",
       "      <td>MSFT</td>\n",
       "      <td>498</td>\n",
       "      <td>0.00000</td>\n",
       "    </tr>\n",
       "    <tr>\n",
       "      <th>999</th>\n",
       "      <td>MSFT</td>\n",
       "      <td>499</td>\n",
       "      <td>0.00000</td>\n",
       "    </tr>\n",
       "  </tbody>\n",
       "</table>\n",
       "<p>1000 rows × 3 columns</p>\n",
       "</div>"
      ],
      "text/plain": [
       "    underlying  scenario  total_pnl\n",
       "0         GOOG         0   -0.00053\n",
       "1         GOOG         1   -0.00057\n",
       "2         GOOG         2   -0.00003\n",
       "3         GOOG         3   -0.00019\n",
       "4         GOOG         4   -0.00054\n",
       "..         ...       ...        ...\n",
       "995       MSFT       495    0.00000\n",
       "996       MSFT       496    0.00000\n",
       "997       MSFT       497    0.00000\n",
       "998       MSFT       498    0.00000\n",
       "999       MSFT       499    0.00000\n",
       "\n",
       "[1000 rows x 3 columns]"
      ]
     },
     "execution_count": 142,
     "metadata": {},
     "output_type": "execute_result"
    }
   ],
   "source": [
    "# Calculate the PnL for each scenario for each option\n",
    "df_scenario_pnl = df_all_pnl.groupby(['underlying', 'scenario'], as_index = False)[['total_pnl']].sum()\n",
    "df_scenario_pnl"
   ]
  },
  {
   "cell_type": "markdown",
   "metadata": {},
   "source": [
    "As the number of simulated price paths is lare, the average of the `total_pnls` approaches zero, which further demonstrates the manufacturing result of the Black-Scholes-Merton framework."
   ]
  },
  {
   "cell_type": "code",
   "execution_count": 143,
   "metadata": {},
   "outputs": [
    {
     "data": {
      "text/html": [
       "<div>\n",
       "<style scoped>\n",
       "    .dataframe tbody tr th:only-of-type {\n",
       "        vertical-align: middle;\n",
       "    }\n",
       "\n",
       "    .dataframe tbody tr th {\n",
       "        vertical-align: top;\n",
       "    }\n",
       "\n",
       "    .dataframe thead th {\n",
       "        text-align: right;\n",
       "    }\n",
       "</style>\n",
       "<table border=\"1\" class=\"dataframe\">\n",
       "  <thead>\n",
       "    <tr style=\"text-align: right;\">\n",
       "      <th></th>\n",
       "      <th>underlying</th>\n",
       "      <th>total_pnl</th>\n",
       "    </tr>\n",
       "  </thead>\n",
       "  <tbody>\n",
       "    <tr>\n",
       "      <th>0</th>\n",
       "      <td>GOOG</td>\n",
       "      <td>-0.000648</td>\n",
       "    </tr>\n",
       "    <tr>\n",
       "      <th>1</th>\n",
       "      <td>MSFT</td>\n",
       "      <td>0.000000</td>\n",
       "    </tr>\n",
       "  </tbody>\n",
       "</table>\n",
       "</div>"
      ],
      "text/plain": [
       "  underlying  total_pnl\n",
       "0       GOOG  -0.000648\n",
       "1       MSFT   0.000000"
      ]
     },
     "execution_count": 143,
     "metadata": {},
     "output_type": "execute_result"
    }
   ],
   "source": [
    "df_scenario_pnl.groupby(['underlying'], as_index = False)['total_pnl'].mean()"
   ]
  },
  {
   "cell_type": "markdown",
   "metadata": {},
   "source": [
    " "
   ]
  },
  {
   "cell_type": "code",
   "execution_count": 144,
   "metadata": {},
   "outputs": [
    {
     "data": {
      "text/plain": [
       "-1.4082681672469416e-05"
      ]
     },
     "execution_count": 144,
     "metadata": {},
     "output_type": "execute_result"
    }
   ],
   "source": [
    "df_all_pnl['total_pnl'].mean()"
   ]
  },
  {
   "cell_type": "markdown",
   "metadata": {},
   "source": [
    " "
   ]
  },
  {
   "cell_type": "markdown",
   "metadata": {},
   "source": [
    " "
   ]
  },
  {
   "cell_type": "markdown",
   "metadata": {},
   "source": [
    "Is the delta-hedging reducing risk?"
   ]
  },
  {
   "cell_type": "code",
   "execution_count": 145,
   "metadata": {},
   "outputs": [
    {
     "name": "stdout",
     "output_type": "stream",
     "text": [
      "1.2537728023317516e-18\n",
      "0.011428723244088996\n"
     ]
    }
   ],
   "source": [
    "print(df_all_pnl.groupby('scenario')['option_pnl'].sum().std())\n",
    "print(df_all_pnl.groupby('scenario')['total_pnl'].sum().std())"
   ]
  },
  {
   "cell_type": "markdown",
   "metadata": {},
   "source": [
    " "
   ]
  },
  {
   "cell_type": "markdown",
   "metadata": {},
   "source": [
    "Calculate the standard deviation, minimum, and maximum of the cumulative PNLs."
   ]
  },
  {
   "cell_type": "code",
   "execution_count": 146,
   "metadata": {},
   "outputs": [
    {
     "name": "stdout",
     "output_type": "stream",
     "text": [
      "underlying\n",
      "GOOG    0.002301\n",
      "MSFT    0.000000\n",
      "Name: total_pnl, dtype: float64\n",
      "underlying\n",
      "GOOG   -0.16872\n",
      "MSFT   -0.00000\n",
      "Name: total_pnl, dtype: float64\n",
      "underlying\n",
      "GOOG    0.06568\n",
      "MSFT   -0.00000\n",
      "Name: total_pnl, dtype: float64\n"
     ]
    }
   ],
   "source": [
    "print(df_all_pnl.groupby('underlying')['total_pnl'].std())\n",
    "print(df_all_pnl.groupby('underlying')['total_pnl'].min())\n",
    "print(df_all_pnl.groupby('underlying')['total_pnl'].max())"
   ]
  },
  {
   "cell_type": "markdown",
   "metadata": {},
   "source": [
    " "
   ]
  },
  {
   "cell_type": "markdown",
   "metadata": {},
   "source": [
    "## Delta Hedging: What If Realized Volatility is Different than Pricing Volatility?"
   ]
  },
  {
   "cell_type": "markdown",
   "metadata": {},
   "source": [
    "As we can see above, if the realized volatility of the underlying during the life of the option is equal to the pricing volatility, then the daily delta-hedging trader will break even on average (however, outcome can vary substantially depending on the scenario).\n",
    "\n",
    "Now let's see what happens when realized volatility differs from pricing volatility.  In particular, we will see what happens when a trader sells an option, delta-hedges daily, but the realized volatility is 5% higher than implied."
   ]
  },
  {
   "cell_type": "code",
   "execution_count": 147,
   "metadata": {},
   "outputs": [
    {
     "data": {
      "text/plain": [
       "[0.0656, 0.1125]"
      ]
     },
     "execution_count": 147,
     "metadata": {},
     "output_type": "execute_result"
    }
   ],
   "source": [
    "# What if actual volatility is 10% higher than the implied volatility?\n",
    "actual_vol = list(map(lambda x : x + .05, pricing_vol))\n",
    "actual_vol"
   ]
  },
  {
   "cell_type": "code",
   "execution_count": 148,
   "metadata": {},
   "outputs": [],
   "source": [
    "# setting the random seed\n",
    "np.random.seed(1)\n",
    "\n",
    "# initializing paths\n",
    "lst_paths = []\n",
    "\n",
    "for i in range(0, len(tickers)):\n",
    "    \n",
    "    Xpaths = simPaths(ticker = tickers[i] , imp_vol = actual_vol[i], spot = spot_prices[i],\n",
    "                       hedge_freq = hedge_frequency, n_paths = num_paths, delta_t = dt, rf_rate = risk_free)\n",
    "       \n",
    "    lst_paths.append(Xpaths)"
   ]
  },
  {
   "cell_type": "code",
   "execution_count": 152,
   "metadata": {},
   "outputs": [
    {
     "name": "stdout",
     "output_type": "stream",
     "text": [
      "MSFT\n",
      "GOOG\n"
     ]
    }
   ],
   "source": [
    "df_all_pnl = calcPnL(tickers = tickers, call_put = cp, strikes = strikes, imp_vols = actual_vol, sim_paths = lst_paths,\n",
    "                  hedge_freq = hedge_frequency, tenor = tenor, n_paths = num_paths, buy_sell = 1)"
   ]
  },
  {
   "cell_type": "code",
   "execution_count": 153,
   "metadata": {},
   "outputs": [
    {
     "data": {
      "text/html": [
       "<div>\n",
       "<style scoped>\n",
       "    .dataframe tbody tr th:only-of-type {\n",
       "        vertical-align: middle;\n",
       "    }\n",
       "\n",
       "    .dataframe tbody tr th {\n",
       "        vertical-align: top;\n",
       "    }\n",
       "\n",
       "    .dataframe thead th {\n",
       "        text-align: right;\n",
       "    }\n",
       "</style>\n",
       "<table border=\"1\" class=\"dataframe\">\n",
       "  <thead>\n",
       "    <tr style=\"text-align: right;\">\n",
       "      <th></th>\n",
       "      <th>underlying</th>\n",
       "      <th>total_pnl</th>\n",
       "    </tr>\n",
       "  </thead>\n",
       "  <tbody>\n",
       "    <tr>\n",
       "      <th>0</th>\n",
       "      <td>GOOG</td>\n",
       "      <td>-0.005898</td>\n",
       "    </tr>\n",
       "    <tr>\n",
       "      <th>1</th>\n",
       "      <td>MSFT</td>\n",
       "      <td>-0.006643</td>\n",
       "    </tr>\n",
       "  </tbody>\n",
       "</table>\n",
       "</div>"
      ],
      "text/plain": [
       "  underlying  total_pnl\n",
       "0       GOOG  -0.005898\n",
       "1       MSFT  -0.006643"
      ]
     },
     "execution_count": 153,
     "metadata": {},
     "output_type": "execute_result"
    }
   ],
   "source": [
    "df_scenario_pnl = df_all_pnl.groupby(['underlying', 'scenario'], as_index = False)[['total_pnl']].sum()\n",
    "df_scenario_pnl.groupby(['underlying'], as_index = False)['total_pnl'].mean()"
   ]
  },
  {
   "cell_type": "markdown",
   "metadata": {},
   "source": [
    "As we can see, since realized is greater than implied, we lose money on average."
   ]
  },
  {
   "cell_type": "code",
   "execution_count": 154,
   "metadata": {},
   "outputs": [
    {
     "data": {
      "text/plain": [
       "-0.00027264876671832897"
      ]
     },
     "execution_count": 154,
     "metadata": {},
     "output_type": "execute_result"
    }
   ],
   "source": [
    "df_all_pnl['total_pnl'].mean()"
   ]
  },
  {
   "cell_type": "markdown",
   "metadata": {},
   "source": [
    " "
   ]
  },
  {
   "cell_type": "markdown",
   "metadata": {},
   "source": [
    " "
   ]
  },
  {
   "cell_type": "markdown",
   "metadata": {},
   "source": [
    "## Increasing Delta-Hedge Frequency Reduces PNL Variability"
   ]
  },
  {
   "cell_type": "markdown",
   "metadata": {},
   "source": [
    "See what happens to the dispersion of the distribution of the delta-hedge PNL outcomes when you double and quadruple the `hedge_frequency`."
   ]
  },
  {
   "cell_type": "code",
   "execution_count": 155,
   "metadata": {},
   "outputs": [],
   "source": [
    "new_hedge_frequency =  d2x*4\n",
    "new_dt = tenor / new_hedge_frequency"
   ]
  },
  {
   "cell_type": "code",
   "execution_count": 156,
   "metadata": {},
   "outputs": [],
   "source": [
    "# setting the random seed\n",
    "np.random.seed(1)\n",
    "\n",
    "# initializing paths\n",
    "lst_paths_act_vol = []\n",
    "\n",
    "for i in range(0, len(tickers)):\n",
    "    \n",
    "    Xpaths = simPaths(ticker = tickers[i] , imp_vol = pricing_vol[i], spot = spot_prices[i],\n",
    "                       hedge_freq = new_hedge_frequency, n_paths = num_paths, delta_t = new_dt, rf_rate = risk_free)\n",
    "       \n",
    "    lst_paths_act_vol.append(Xpaths)"
   ]
  },
  {
   "cell_type": "code",
   "execution_count": 302,
   "metadata": {},
   "outputs": [],
   "source": [
    "#len(lst_paths_act_vol[0])"
   ]
  },
  {
   "cell_type": "code",
   "execution_count": 158,
   "metadata": {},
   "outputs": [
    {
     "name": "stdout",
     "output_type": "stream",
     "text": [
      "MSFT\n",
      "GOOG\n"
     ]
    }
   ],
   "source": [
    "df_all_pnl = calcPnL(tickers = tickers, call_put = cp, strikes = strikes, imp_vols = pricing_vol, sim_paths = lst_paths_act_vol,\n",
    "                  hedge_freq = new_hedge_frequency, tenor = tenor, n_paths = num_paths, buy_sell = -1)"
   ]
  },
  {
   "cell_type": "code",
   "execution_count": 159,
   "metadata": {},
   "outputs": [
    {
     "data": {
      "text/html": [
       "<div>\n",
       "<style scoped>\n",
       "    .dataframe tbody tr th:only-of-type {\n",
       "        vertical-align: middle;\n",
       "    }\n",
       "\n",
       "    .dataframe tbody tr th {\n",
       "        vertical-align: top;\n",
       "    }\n",
       "\n",
       "    .dataframe thead th {\n",
       "        text-align: right;\n",
       "    }\n",
       "</style>\n",
       "<table border=\"1\" class=\"dataframe\">\n",
       "  <thead>\n",
       "    <tr style=\"text-align: right;\">\n",
       "      <th></th>\n",
       "      <th>underlying</th>\n",
       "      <th>scenario</th>\n",
       "      <th>total_pnl</th>\n",
       "    </tr>\n",
       "  </thead>\n",
       "  <tbody>\n",
       "    <tr>\n",
       "      <th>0</th>\n",
       "      <td>GOOG</td>\n",
       "      <td>0</td>\n",
       "      <td>-0.00008</td>\n",
       "    </tr>\n",
       "    <tr>\n",
       "      <th>1</th>\n",
       "      <td>GOOG</td>\n",
       "      <td>1</td>\n",
       "      <td>0.00022</td>\n",
       "    </tr>\n",
       "    <tr>\n",
       "      <th>2</th>\n",
       "      <td>GOOG</td>\n",
       "      <td>2</td>\n",
       "      <td>0.00026</td>\n",
       "    </tr>\n",
       "    <tr>\n",
       "      <th>3</th>\n",
       "      <td>GOOG</td>\n",
       "      <td>3</td>\n",
       "      <td>0.00530</td>\n",
       "    </tr>\n",
       "    <tr>\n",
       "      <th>4</th>\n",
       "      <td>GOOG</td>\n",
       "      <td>4</td>\n",
       "      <td>-0.00021</td>\n",
       "    </tr>\n",
       "    <tr>\n",
       "      <th>...</th>\n",
       "      <td>...</td>\n",
       "      <td>...</td>\n",
       "      <td>...</td>\n",
       "    </tr>\n",
       "    <tr>\n",
       "      <th>995</th>\n",
       "      <td>MSFT</td>\n",
       "      <td>495</td>\n",
       "      <td>0.00000</td>\n",
       "    </tr>\n",
       "    <tr>\n",
       "      <th>996</th>\n",
       "      <td>MSFT</td>\n",
       "      <td>496</td>\n",
       "      <td>0.00000</td>\n",
       "    </tr>\n",
       "    <tr>\n",
       "      <th>997</th>\n",
       "      <td>MSFT</td>\n",
       "      <td>497</td>\n",
       "      <td>0.00000</td>\n",
       "    </tr>\n",
       "    <tr>\n",
       "      <th>998</th>\n",
       "      <td>MSFT</td>\n",
       "      <td>498</td>\n",
       "      <td>0.00000</td>\n",
       "    </tr>\n",
       "    <tr>\n",
       "      <th>999</th>\n",
       "      <td>MSFT</td>\n",
       "      <td>499</td>\n",
       "      <td>0.00000</td>\n",
       "    </tr>\n",
       "  </tbody>\n",
       "</table>\n",
       "<p>1000 rows × 3 columns</p>\n",
       "</div>"
      ],
      "text/plain": [
       "    underlying  scenario  total_pnl\n",
       "0         GOOG         0   -0.00008\n",
       "1         GOOG         1    0.00022\n",
       "2         GOOG         2    0.00026\n",
       "3         GOOG         3    0.00530\n",
       "4         GOOG         4   -0.00021\n",
       "..         ...       ...        ...\n",
       "995       MSFT       495    0.00000\n",
       "996       MSFT       496    0.00000\n",
       "997       MSFT       497    0.00000\n",
       "998       MSFT       498    0.00000\n",
       "999       MSFT       499    0.00000\n",
       "\n",
       "[1000 rows x 3 columns]"
      ]
     },
     "execution_count": 159,
     "metadata": {},
     "output_type": "execute_result"
    }
   ],
   "source": [
    "df_scenario_pnl = df_all_pnl.groupby(['underlying', 'scenario'], as_index = False)[['total_pnl']].sum()\n",
    "df_scenario_pnl "
   ]
  },
  {
   "cell_type": "markdown",
   "metadata": {},
   "source": [
    "#### You can see below that the standard deviation of the PnL is reduced when we increase hedging frequency"
   ]
  },
  {
   "cell_type": "code",
   "execution_count": 162,
   "metadata": {},
   "outputs": [
    {
     "name": "stdout",
     "output_type": "stream",
     "text": [
      "underlying\n",
      "GOOG    0.00055\n",
      "MSFT    0.00000\n",
      "Name: total_pnl, dtype: float64\n",
      "underlying\n",
      "GOOG   -0.02724\n",
      "MSFT   -0.00000\n",
      "Name: total_pnl, dtype: float64\n",
      "underlying\n",
      "GOOG    0.01419\n",
      "MSFT   -0.00000\n",
      "Name: total_pnl, dtype: float64\n"
     ]
    }
   ],
   "source": [
    "print(df_all_pnl.groupby('underlying')['total_pnl'].std())\n",
    "print(df_all_pnl.groupby('underlying')['total_pnl'].min())\n",
    "print(df_all_pnl.groupby('underlying')['total_pnl'].max())"
   ]
  }
 ],
 "metadata": {
  "kernelspec": {
   "display_name": "Python 3 (ipykernel)",
   "language": "python",
   "name": "python3"
  },
  "language_info": {
   "codemirror_mode": {
    "name": "ipython",
    "version": 3
   },
   "file_extension": ".py",
   "mimetype": "text/x-python",
   "name": "python",
   "nbconvert_exporter": "python",
   "pygments_lexer": "ipython3",
   "version": "3.8.11"
  }
 },
 "nbformat": 4,
 "nbformat_minor": 4
}
