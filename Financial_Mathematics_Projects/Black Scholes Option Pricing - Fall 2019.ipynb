{
 "cells": [
  {
   "cell_type": "markdown",
   "id": "8c4db10d",
   "metadata": {},
   "source": [
    "# FM 5091: Implementation of Black-Scholes Option Pricing in Python\n",
    "Created on Thu Sep 19 18:17:09 2019 <br>\n",
    "@author: wrueckl"
   ]
  },
  {
   "cell_type": "markdown",
   "id": "b8779f92",
   "metadata": {},
   "source": [
    "\n",
    "**Parameters:**\n",
    "- S: spot price , expressed in domestic currency\n",
    "- K: strike price, in home currency\n",
    "- T: tenor (in years)\n",
    "- r: risk-free interest rate\n",
    "- sigma: volatility of underlying asset\n",
    "<br>\n",
    "\n",
    "#### From Black-Scholes model, know that:\n",
    "- note: N(d) is used to indicate normal distribution CDF\n",
    "\n",
    "- Price of underlying lognormally distributed\n",
    "- C(S,K,r,t,sigma) = SN(d1)-Ke^(-r(T-t))N(d2)\n",
    "- P(S,K,r,t,sigma) = Ke^(-r(T-t))N(d2)-SN(d1)\n",
    "\n",
    "- Returns (di) are normally distibuted\n",
    "- d1 = [ln(S/K)+(r+(sigma^2)/2)T]/sigma*sqrt(T)\n",
    "- d1 = [ln(S/K)+(r - (sigma^2)/2)T]/sigma*sqrt(T) --> = d1-sigma*sqrt(T)"
   ]
  },
  {
   "cell_type": "markdown",
   "id": "be11c7c6",
   "metadata": {},
   "source": [
    "#### Import packages"
   ]
  },
  {
   "cell_type": "code",
   "execution_count": 1,
   "id": "ae24c063",
   "metadata": {},
   "outputs": [
    {
     "name": "stderr",
     "output_type": "stream",
     "text": [
      "C:\\Users\\whitn\\anaconda3\\lib\\site-packages\\scipy\\__init__.py:146: UserWarning: A NumPy version >=1.16.5 and <1.23.0 is required for this version of SciPy (detected version 1.23.1\n",
      "  warnings.warn(f\"A NumPy version >={np_minversion} and <{np_maxversion}\"\n"
     ]
    }
   ],
   "source": [
    "import numpy as np\n",
    "import sympy as sy\n",
    "import scipy.stats as sp\n",
    "import math"
   ]
  },
  {
   "cell_type": "markdown",
   "id": "aac101b7",
   "metadata": {},
   "source": [
    "#### Assign input values"
   ]
  },
  {
   "cell_type": "code",
   "execution_count": 2,
   "id": "0902519b",
   "metadata": {},
   "outputs": [
    {
     "name": "stdout",
     "output_type": "stream",
     "text": [
      "Creating Black Scholes lambdas for option with following characteristics: \n",
      "spot price =  60 , stike price =  50 , rate =  0.05 , and tenor =  1 , volatility =  0.5\n"
     ]
    }
   ],
   "source": [
    "# ----------------------------#\n",
    "# Benchmark option:\n",
    "# A call option with the following characteristics should price to $10.89 (use as a check)\n",
    "#S = 50\n",
    "#K = 50\n",
    "#r = 0.05\n",
    "#T = 1\n",
    "#sigma = 0.5\n",
    "# ----------------------------#\n",
    "\n",
    "\n",
    "# Calc price of call option with the following characteristics:\n",
    "# Inputs:\n",
    "S = 60\n",
    "K = 50\n",
    "r = 0.05\n",
    "T = 1\n",
    "sigma = 0.5\n",
    "\n",
    "print(\"Creating Black Scholes lambdas for option with following characteristics: \")\n",
    "print(\"spot price = \", S, \", stike price = \", K, \", rate = \", r, \", and tenor = \", T, \", volatility = \", sigma)"
   ]
  },
  {
   "cell_type": "markdown",
   "id": "8437e22a",
   "metadata": {},
   "source": [
    "#### Define functions:"
   ]
  },
  {
   "cell_type": "markdown",
   "id": "d00beb97",
   "metadata": {},
   "source": [
    "Lambda functions to calculate d1 and d2:"
   ]
  },
  {
   "cell_type": "code",
   "execution_count": 3,
   "id": "6934b9d8",
   "metadata": {},
   "outputs": [
    {
     "name": "stdout",
     "output_type": "stream",
     "text": [
      " ----> d1: 0.7146431135879092\n",
      " ----> d2 0.2146431135879092\n"
     ]
    }
   ],
   "source": [
    "# Define anonomyous functions for d1 and d2: ----\n",
    "d1 = lambda S, K, r, T, sigma:  (np.log(S / K)+(r + 0.5 * sigma ** 2)* T) / (sigma * np.sqrt(T))\n",
    "\n",
    "d2 = lambda S, K, r, T, sigma: (np.log(S / K)+(r - 0.5 * sigma ** 2) * T) / (sigma * np.sqrt(T))\n",
    "print(\" ----> d1:\", d1(S, K, r, T, sigma))\n",
    "print(\" ----> d2\", d2(S, K, r, T, sigma))\n"
   ]
  },
  {
   "cell_type": "markdown",
   "id": "91704a75",
   "metadata": {},
   "source": [
    "#### Define lambda functions to calculate European option prices and greeks:"
   ]
  },
  {
   "cell_type": "code",
   "execution_count": 5,
   "id": "e4f5aae9",
   "metadata": {},
   "outputs": [],
   "source": [
    "# Define lamada functions for option prices and greeks: ----\n",
    "\n",
    "callPrice = lambda S, K, r , T, sigma: (S * sp.norm.cdf(d1(S, K, r ,T, sigma), 0, 1) - K * np.exp(-r * T) * sp.norm.cdf(d2(S, K, r ,T, sigma), 0, 1))\n",
    "putPrice = lambda S, K, r , T, sigma: K * np.exp(-r * T) * sp.norm.cdf(-d2(S, K, r ,T, sigma), 0, 1) - (S * sp.norm.cdf(-d1(S, K, r ,T, sigma), 0, 1) )\n",
    "\n",
    "callDelta = lambda d1: sp.norm.cdf(d1)\n",
    "putDelta = lambda d1: (sp.norm.cdf(d1)-1)\n",
    "\n",
    "calcGamma = lambda S, sigma, T, d1: (sp.norm.pdf(d1)/(S*sigma*math.sqrt(T)))\n",
    "\n",
    "calcVega = lambda S, T, d1: (S*sp.norm.pdf(d1)*math.sqrt(T))\n",
    "\n",
    "callTheta = lambda S, sigma, T, r, K, d1, d2: (-S * sp.norm.pdf(d1) * sigma)/(2 * math.sqrt(T)) - r * K * math.exp(-r * T) * sp.norm.cdf(d2)\n",
    "putTheta = lambda S, sigma, T, r, K, d1, d2: (-S * sp.norm.pdf(d1) * sigma)/(2 * math.sqrt(T)) +  r * K * math.exp(-r * T) * sp.norm.cdf(-d2)\n",
    "\n",
    "callRho = lambda K, T, r, d2: K * T * math.exp(-r * T) * sp.norm.cdf(d2)\n",
    "putRho = lambda K, T, r, d2: -K * T * math.exp(-r * T) * sp.norm.cdf(-d2)"
   ]
  },
  {
   "cell_type": "markdown",
   "id": "fb486240",
   "metadata": {},
   "source": [
    "#### Price option and calculate greeks"
   ]
  },
  {
   "cell_type": "code",
   "execution_count": 6,
   "id": "6b4a7d09",
   "metadata": {},
   "outputs": [
    {
     "name": "stdout",
     "output_type": "stream",
     "text": [
      " ---->  Call price = $ 17.9327\n",
      " ---->  Put price = $ 5.4942\n",
      " ---->  Put delta = -0.23741479849765668\n",
      " ---->  Call delta = 0.7625852015023433\n",
      " ----> Call and put gamma = 0.0103\n",
      " ----> Call and put vega = 18.5422\n",
      " ----> Call theta = -6.0267\n",
      " ----> Put theta = -3.6486\n",
      " ----> Call rho = 27.8224\n",
      " ----> Put rho = -19.7391\n"
     ]
    }
   ],
   "source": [
    "# Calculate call and put option prices and greeks:-----\n",
    "call_price = round(callPrice(S, K, r, T, sigma), 4)\n",
    "put_price = round(putPrice(S, K, r, T, sigma), 4)\n",
    "print(\" ---->  Call price = $\", call_price)\n",
    "print(\" ---->  Put price = $\", put_price)\n",
    "\n",
    "\n",
    "call_delta = callDelta(d1(S, K, r ,T, sigma))\n",
    "put_delta = putDelta(d1(S, K, r ,T, sigma))\n",
    "print(\" ---->  Put delta =\", put_delta)\n",
    "print(\" ---->  Call delta =\", call_delta)\n",
    "\n",
    "\n",
    "gamma = round(calcGamma(S, sigma, T, d1(S, K, r ,T, sigma)), 4)\n",
    "print(\" ----> Call and put gamma =\", gamma)\n",
    "\n",
    "\n",
    "vega = round(calcVega(S, T, d1(S, K, r ,T, sigma)), 4)\n",
    "print(\" ----> Call and put vega =\", vega)\n",
    "\n",
    "\n",
    "call_theta = round(callTheta(S, sigma, T, r, K, d1(S, K, r ,T, sigma),  d2(S, K, r ,T, sigma)), 4)\n",
    "put_theta = round(putTheta(S, sigma, T, r, K, d1(S, K, r ,T, sigma), d2(S, K, r ,T, sigma)), 4)\n",
    "print(\" ----> Call theta =\", call_theta)\n",
    "print(\" ----> Put theta =\", put_theta)\n",
    "\n",
    "\n",
    "call_rho = round(callRho(K, T, r, d2(S, K, r ,T, sigma)), 4)\n",
    "put_rho = round(putRho(K, T, r, d2(S, K, r ,T, sigma)), 4)\n",
    "print(\" ----> Call rho =\", call_rho)\n",
    "print(\" ----> Put rho =\", put_rho)"
   ]
  }
 ],
 "metadata": {
  "kernelspec": {
   "display_name": "Python 3 (ipykernel)",
   "language": "python",
   "name": "python3"
  },
  "language_info": {
   "codemirror_mode": {
    "name": "ipython",
    "version": 3
   },
   "file_extension": ".py",
   "mimetype": "text/x-python",
   "name": "python",
   "nbconvert_exporter": "python",
   "pygments_lexer": "ipython3",
   "version": "3.8.11"
  }
 },
 "nbformat": 4,
 "nbformat_minor": 5
}
