{
 "cells": [
  {
   "cell_type": "markdown",
   "id": "d5da8972",
   "metadata": {},
   "source": [
    "# Simple BSM Option Pricer\n",
    "Summer 2022 <br>\n",
    "Whitney Rueckl"
   ]
  },
  {
   "cell_type": "markdown",
   "id": "e22448c7",
   "metadata": {},
   "source": [
    "**This notebook contains code for simple European option pricing.**"
   ]
  },
  {
   "cell_type": "markdown",
   "id": "5aec7a3d",
   "metadata": {},
   "source": [
    "The **Black-Scholes-Merton (BSM)** option pricing framework assumes that the price process of the underlying asset follows a *geometric brownian motion (GBM)*. Therefore it assumes the following:\n",
    "\n",
    "1. The stochastic price process is continuous.\n",
    "\n",
    "1. The log returns are normally distributed.\n",
    "\n",
    "2. The returns during any two disjoint periods are independent.\n",
    "\n",
    "GBMs are one of the simplest stochastic processes that reasonably model asset price dynamics.\n",
    "\n",
    "The price process of a geometric brownian motion is determined by the current risk-free rate $r$ and the annualized volatility of the underlying $\\sigma$.  Prices that are separated by $\\Delta t$ units of time are related by following equation:\n",
    "\n",
    "$$S_{t} =  S_{t - \\Delta t} \\cdot \\exp\\bigg(\\bigg(r - \\frac{1}{2}\\sigma^2\\bigg)\\Delta t + \\sigma \\sqrt{\\Delta t} z_{t}\\bigg)$$\n",
    "\n",
    "where $z_{t}$ is a standard normal random variable.\n"
   ]
  },
  {
   "cell_type": "code",
   "execution_count": 1,
   "id": "382585ae",
   "metadata": {},
   "outputs": [],
   "source": [
    "import pandas as pd\n",
    "import numpy as np\n",
    "import math\n",
    "\n",
    "# Supress scientific notation for large numbers\n",
    "pd.options.display.float_format = '{:.2f}'.format\n",
    "\n",
    "# OS - for a function to get the working directory\n",
    "import os\n",
    "import time\n",
    "\n",
    "#matplotlib - functions for plotting\n",
    "import matplotlib.pyplot as plt\n",
    "import matplotlib as mpl\n",
    "\n",
    "#render plotting automatically\n",
    "%matplotlib inline"
   ]
  },
  {
   "cell_type": "code",
   "execution_count": 2,
   "id": "5678efe3",
   "metadata": {},
   "outputs": [],
   "source": [
    "\"\"\" \n",
    "Stores common attributes of a stock option \n",
    "\"\"\"\n",
    "class StockOption(object):\n",
    "    def __init__(\n",
    "        self, S0, K, r=0.05, T=1, N=2, div=0, sigma=0, is_put=False, n_paths=100):\n",
    "        \n",
    "        \"\"\"\n",
    "        Initialize the stock option base class (European option only).\n",
    "        \n",
    "        Parameters:\n",
    "        \n",
    "        S0: initial stock price\n",
    "        K: strike price\n",
    "        r: risk-free interest rate\n",
    "        T: time to maturity\n",
    "        N: number of time steps\n",
    "        div: Dividend yield\n",
    "        is_put: True for a put option,\n",
    "                False for a call option            \n",
    "        \"\"\"\n",
    "\n",
    "        self.S0 = S0\n",
    "        self.K = K\n",
    "        self.r = r\n",
    "        self.T = T\n",
    "        self.N = max(1, N)\n",
    "        self.is_put = is_put\n",
    "        #self.STs = [] # Declare the stock prices tree (array)\n",
    "        self.n_paths = n_paths\n",
    "\n",
    "        \"\"\" Optional parameters used by derived classes \"\"\"\n",
    "        self.div = div\n",
    "        self.sigma = sigma\n",
    "        self.is_call = not is_put # understand the not part and how thats different than\n",
    "\n",
    "\n",
    "    @property\n",
    "    def dt(self):\n",
    "        \"\"\" single time step, in years \"\"\"\n",
    "        return self.T/float(self.N)\n",
    "\n",
    "    @property\n",
    "    def df(self):\n",
    "        \"\"\" the discount factor \"\"\"\n",
    "        return math.exp(-(self.r-self.div)*self.dt)  "
   ]
  },
  {
   "cell_type": "code",
   "execution_count": 3,
   "id": "2b6a30bc",
   "metadata": {},
   "outputs": [],
   "source": [
    "stock = StockOption(S0 = 50, K = 60, r=0.05, T=1, N=2,\n",
    "        div=0, sigma=0, is_put=False, n_paths = 100)"
   ]
  },
  {
   "cell_type": "code",
   "execution_count": 4,
   "id": "2a1ab9ad",
   "metadata": {},
   "outputs": [
    {
     "data": {
      "text/plain": [
       "50"
      ]
     },
     "execution_count": 4,
     "metadata": {},
     "output_type": "execute_result"
    }
   ],
   "source": [
    "stock.S0"
   ]
  },
  {
   "cell_type": "code",
   "execution_count": 5,
   "id": "70a19b22",
   "metadata": {},
   "outputs": [
    {
     "data": {
      "text/plain": [
       "0.5"
      ]
     },
     "execution_count": 5,
     "metadata": {},
     "output_type": "execute_result"
    }
   ],
   "source": [
    "stock.df"
   ]
  },
  {
   "cell_type": "code",
   "execution_count": 15,
   "id": "f58fa8a5",
   "metadata": {},
   "outputs": [],
   "source": [
    "class BSMOptionPricer(StockOption):\n",
    "    \n",
    "    ''' \n",
    "    Inherits from the StockOption class.\n",
    "    \n",
    "    Methods:\n",
    "    \n",
    "    - simPaths: simulate price paths of the underlying using geometric brownian motion\n",
    "    - calcPayoff: calculate the payoff of the option\n",
    "    - calcPrice: calculates the options price    \n",
    "    \n",
    "    '''\n",
    "\n",
    "    \n",
    "    def simPaths(self):\n",
    "        price_paths = np.zeros((self.N + 1, self.n_paths))\n",
    "        price_paths[0] = self.S0\n",
    "\n",
    "        for t in range(1, self.N + 1):\n",
    "                z = np.random.standard_normal(self.n_paths)\n",
    "                #print(z)\n",
    "                price_paths[t] = price_paths[t - 1] * np.exp((self.r- 0.5 * self.sigma ** 2) * self.dt + self.sigma * np.sqrt(self.dt) * z) # memorize this line\n",
    "                #price_paths[t] = np.round(price_paths[t], 2)\n",
    "                #print(price_paths[t])\n",
    "\n",
    "        return price_paths          \n",
    "\n",
    "        \n",
    "    def calcPayoff(self):\n",
    "        \n",
    "        #sim_paths = self.simPaths()\n",
    "        self.sim_paths = self.simPaths()\n",
    "        \n",
    "        if self.is_put == False:        \n",
    "            sim_payoff = np.maximum(0, (self.sim_paths[-1] - self.K))\n",
    "        else:\n",
    "            sim_payoff = np.maximum(0, (self.K - self.sim_paths[-1]))\n",
    "\n",
    "        return sim_payoff \n",
    "    \n",
    "    \n",
    "    def calcPrice(self):\n",
    "        \n",
    "        payoff = self.calcPayoff()\n",
    "        \n",
    "        price = np.exp(-self.r * self.T) * np.sum(payoff) / self.n_paths\n",
    "        \n",
    "        return price"
   ]
  },
  {
   "cell_type": "markdown",
   "id": "2a3576ae",
   "metadata": {},
   "source": [
    "Instantiate the `BSMOPtionPricer`"
   ]
  },
  {
   "cell_type": "code",
   "execution_count": 16,
   "id": "58a671f8",
   "metadata": {},
   "outputs": [],
   "source": [
    "optpricer = BSMOptionPricer(S0 = 50, K = 50, r=0.05, T=1, N=2, div=0, sigma=.2, is_put=False, n_paths = 1000)"
   ]
  },
  {
   "cell_type": "markdown",
   "id": "3342258c",
   "metadata": {},
   "source": [
    "Calculate the option price using the `.calcPrice()` method"
   ]
  },
  {
   "cell_type": "code",
   "execution_count": 17,
   "id": "591999dc",
   "metadata": {},
   "outputs": [
    {
     "data": {
      "text/plain": [
       "5.153379851031563"
      ]
     },
     "execution_count": 17,
     "metadata": {},
     "output_type": "execute_result"
    }
   ],
   "source": [
    "optpricer.calcPrice()"
   ]
  },
  {
   "cell_type": "code",
   "execution_count": 20,
   "id": "75028e86",
   "metadata": {},
   "outputs": [],
   "source": [
    "optpricer = BSMOptionPricer(S0 = 50, K = 50, r=0.05, T=1, N=2, div=0, sigma=.2, is_put=True, n_paths = 1000)"
   ]
  },
  {
   "cell_type": "code",
   "execution_count": 21,
   "id": "ff7b8dd6",
   "metadata": {},
   "outputs": [
    {
     "data": {
      "text/plain": [
       "2.613056176078671"
      ]
     },
     "execution_count": 21,
     "metadata": {},
     "output_type": "execute_result"
    }
   ],
   "source": [
    "optpricer.calcPrice()"
   ]
  },
  {
   "cell_type": "markdown",
   "id": "b63d5a90",
   "metadata": {},
   "source": [
    "View simulated stock price paths"
   ]
  },
  {
   "cell_type": "code",
   "execution_count": 10,
   "id": "95024cdb",
   "metadata": {},
   "outputs": [
    {
     "data": {
      "text/plain": [
       "array([[50.        , 50.        , 50.        , ..., 50.        ,\n",
       "        50.        , 50.        ],\n",
       "       [47.51372062, 56.38168965, 40.47727001, ..., 34.05213183,\n",
       "        57.73984185, 52.42540857],\n",
       "       [58.47460184, 64.78876423, 33.78895213, ..., 37.6369312 ,\n",
       "        55.43717076, 61.37393875]])"
      ]
     },
     "execution_count": 10,
     "metadata": {},
     "output_type": "execute_result"
    }
   ],
   "source": [
    "optpricer.sim_paths"
   ]
  }
 ],
 "metadata": {
  "kernelspec": {
   "display_name": "Python 3 (ipykernel)",
   "language": "python",
   "name": "python3"
  },
  "language_info": {
   "codemirror_mode": {
    "name": "ipython",
    "version": 3
   },
   "file_extension": ".py",
   "mimetype": "text/x-python",
   "name": "python",
   "nbconvert_exporter": "python",
   "pygments_lexer": "ipython3",
   "version": "3.8.11"
  }
 },
 "nbformat": 4,
 "nbformat_minor": 5
}
