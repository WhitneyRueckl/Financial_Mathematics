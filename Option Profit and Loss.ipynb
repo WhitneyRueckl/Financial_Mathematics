{
 "cells": [
  {
   "cell_type": "markdown",
   "metadata": {},
   "source": [
    "# Option PNL Exercise - Simple"
   ]
  },
  {
   "cell_type": "markdown",
   "metadata": {},
   "source": [
    "Whitney Rueckl (Fall 2019)"
   ]
  },
  {
   "cell_type": "markdown",
   "metadata": {},
   "source": [
    "**Objective:** The goal of this exercise is to calculate the delta-hedged PNL of a short option position. We'll Calculate the PNL of selling this option starting on 1/2/2018 and then delta-hedging it through its expiration on 12/31/2018. Note: we will assume that the risk-free rate and dividend yield are both zero.\n",
    "\n",
    "**Data:** The data file `option_pnl.csv` contains the price data for a particular option that traded in the market. \n",
    "\n",
    "**Questions to answer**:\n",
    "1. What was the implied volatility of the option at the time of execution?\n",
    "1. What was the realized volatility of the underlying over the life of the delta-hedged option position?\n",
    "1. Based on the difference between implied volatility and realized volatility, would you expect to make or lose money?\n",
    "1. What is the cumulative PNL for holding this delta-hedged option position?\n",
    "1. How does the actual PNL compare with the PNL that would be predicted by the vega at the time of execution?  What could explain the discrepancies?"
   ]
  },
  {
   "cell_type": "markdown",
   "metadata": {},
   "source": []
  },
  {
   "cell_type": "code",
   "execution_count": 11,
   "metadata": {},
   "outputs": [],
   "source": [
    "import numpy as np\n",
    "import pandas as pd\n",
    "import os as os\n",
    "\n",
    "import matplotlib.pyplot as plt\n",
    "import matplotlib as mpl\n",
    "import plotly.express as px\n",
    "\n",
    "from py_vollib.black_scholes_merton import black_scholes_merton\n",
    "from py_vollib.black_scholes_merton.greeks.analytical import delta\n",
    "from py_vollib.black_scholes_merton.greeks.analytical import vega\n",
    "from py_vollib.black_scholes_merton.implied_volatility import implied_volatility\n",
    "\n",
    "pd.options.display.max_rows = 10\n",
    "\n",
    "import warnings\n",
    "warnings.filterwarnings('ignore')\n",
    "\n",
    "# Supress scientific notation for large numbers\n",
    "pd.options.display.float_format = '{:.2f}'.format\n"
   ]
  },
  {
   "cell_type": "code",
   "execution_count": 5,
   "metadata": {},
   "outputs": [
    {
     "data": {
      "text/plain": [
       "'C:\\\\Users\\\\whitn\\\\OneDrive\\\\Documents\\\\School\\\\Python Projects\\\\01_option_pnl'"
      ]
     },
     "execution_count": 5,
     "metadata": {},
     "output_type": "execute_result"
    }
   ],
   "source": [
    "os.getcwd()"
   ]
  },
  {
   "cell_type": "code",
   "execution_count": 8,
   "metadata": {},
   "outputs": [
    {
     "data": {
      "text/html": [
       "<div>\n",
       "<style scoped>\n",
       "    .dataframe tbody tr th:only-of-type {\n",
       "        vertical-align: middle;\n",
       "    }\n",
       "\n",
       "    .dataframe tbody tr th {\n",
       "        vertical-align: top;\n",
       "    }\n",
       "\n",
       "    .dataframe thead th {\n",
       "        text-align: right;\n",
       "    }\n",
       "</style>\n",
       "<table border=\"1\" class=\"dataframe\">\n",
       "  <thead>\n",
       "    <tr style=\"text-align: right;\">\n",
       "      <th></th>\n",
       "      <th>underlying</th>\n",
       "      <th>buy_sell</th>\n",
       "      <th>expiration</th>\n",
       "      <th>cp</th>\n",
       "      <th>strike</th>\n",
       "      <th>trade_date</th>\n",
       "      <th>d2x</th>\n",
       "      <th>t2x</th>\n",
       "      <th>upx</th>\n",
       "      <th>option_price</th>\n",
       "      <th>volatility</th>\n",
       "    </tr>\n",
       "  </thead>\n",
       "  <tbody>\n",
       "    <tr>\n",
       "      <th>0</th>\n",
       "      <td>SPY</td>\n",
       "      <td>-1</td>\n",
       "      <td>2018-12-31</td>\n",
       "      <td>p</td>\n",
       "      <td>269</td>\n",
       "      <td>2018-01-02</td>\n",
       "      <td>251</td>\n",
       "      <td>1.00</td>\n",
       "      <td>269.68</td>\n",
       "      <td>13.88</td>\n",
       "      <td>0.13</td>\n",
       "    </tr>\n",
       "    <tr>\n",
       "      <th>1</th>\n",
       "      <td>SPY</td>\n",
       "      <td>-1</td>\n",
       "      <td>2018-12-31</td>\n",
       "      <td>p</td>\n",
       "      <td>269</td>\n",
       "      <td>2018-01-03</td>\n",
       "      <td>250</td>\n",
       "      <td>0.99</td>\n",
       "      <td>271.59</td>\n",
       "      <td>12.97</td>\n",
       "      <td>0.13</td>\n",
       "    </tr>\n",
       "    <tr>\n",
       "      <th>2</th>\n",
       "      <td>SPY</td>\n",
       "      <td>-1</td>\n",
       "      <td>2018-12-31</td>\n",
       "      <td>p</td>\n",
       "      <td>269</td>\n",
       "      <td>2018-01-04</td>\n",
       "      <td>249</td>\n",
       "      <td>0.99</td>\n",
       "      <td>272.70</td>\n",
       "      <td>12.61</td>\n",
       "      <td>0.13</td>\n",
       "    </tr>\n",
       "    <tr>\n",
       "      <th>3</th>\n",
       "      <td>SPY</td>\n",
       "      <td>-1</td>\n",
       "      <td>2018-12-31</td>\n",
       "      <td>p</td>\n",
       "      <td>269</td>\n",
       "      <td>2018-01-05</td>\n",
       "      <td>248</td>\n",
       "      <td>0.98</td>\n",
       "      <td>274.45</td>\n",
       "      <td>12.08</td>\n",
       "      <td>0.14</td>\n",
       "    </tr>\n",
       "    <tr>\n",
       "      <th>4</th>\n",
       "      <td>SPY</td>\n",
       "      <td>-1</td>\n",
       "      <td>2018-12-31</td>\n",
       "      <td>p</td>\n",
       "      <td>269</td>\n",
       "      <td>2018-01-08</td>\n",
       "      <td>247</td>\n",
       "      <td>0.98</td>\n",
       "      <td>275.11</td>\n",
       "      <td>11.85</td>\n",
       "      <td>0.14</td>\n",
       "    </tr>\n",
       "  </tbody>\n",
       "</table>\n",
       "</div>"
      ],
      "text/plain": [
       "  underlying  buy_sell  expiration cp  strike  trade_date  d2x  t2x    upx  \\\n",
       "0        SPY        -1  2018-12-31  p     269  2018-01-02  251 1.00 269.68   \n",
       "1        SPY        -1  2018-12-31  p     269  2018-01-03  250 0.99 271.59   \n",
       "2        SPY        -1  2018-12-31  p     269  2018-01-04  249 0.99 272.70   \n",
       "3        SPY        -1  2018-12-31  p     269  2018-01-05  248 0.98 274.45   \n",
       "4        SPY        -1  2018-12-31  p     269  2018-01-08  247 0.98 275.11   \n",
       "\n",
       "   option_price  volatility  \n",
       "0         13.88        0.13  \n",
       "1         12.97        0.13  \n",
       "2         12.61        0.13  \n",
       "3         12.08        0.14  \n",
       "4         11.85        0.14  "
      ]
     },
     "execution_count": 8,
     "metadata": {},
     "output_type": "execute_result"
    }
   ],
   "source": [
    "df_option_data = pd.read_csv(str(os.getcwd()) + '\\\\option_pnl.csv')\n",
    "# Read option data\n",
    "\n",
    "df_option_data.head()"
   ]
  },
  {
   "cell_type": "code",
   "execution_count": 17,
   "metadata": {},
   "outputs": [
    {
     "data": {
      "application/vnd.plotly.v1+json": {
       "config": {
        "plotlyServerURL": "https://plot.ly"
       },
       "data": [
        {
         "hovertemplate": "trade_date=%{x}<br>upx=%{y}<extra></extra>",
         "legendgroup": "",
         "line": {
          "color": "#636efa",
          "dash": "solid"
         },
         "marker": {
          "symbol": "circle"
         },
         "mode": "lines",
         "name": "",
         "orientation": "v",
         "showlegend": false,
         "type": "scatter",
         "x": [
          "2018-01-02",
          "2018-01-03",
          "2018-01-04",
          "2018-01-05",
          "2018-01-08",
          "2018-01-09",
          "2018-01-10",
          "2018-01-11",
          "2018-01-12",
          "2018-01-16",
          "2018-01-17",
          "2018-01-18",
          "2018-01-19",
          "2018-01-22",
          "2018-01-23",
          "2018-01-24",
          "2018-01-25",
          "2018-01-26",
          "2018-01-29",
          "2018-01-30",
          "2018-01-31",
          "2018-02-01",
          "2018-02-02",
          "2018-02-05",
          "2018-02-06",
          "2018-02-07",
          "2018-02-08",
          "2018-02-09",
          "2018-02-12",
          "2018-02-13",
          "2018-02-14",
          "2018-02-15",
          "2018-02-16",
          "2018-02-20",
          "2018-02-21",
          "2018-02-22",
          "2018-02-23",
          "2018-02-26",
          "2018-02-27",
          "2018-02-28",
          "2018-03-01",
          "2018-03-02",
          "2018-03-05",
          "2018-03-06",
          "2018-03-07",
          "2018-03-08",
          "2018-03-09",
          "2018-03-12",
          "2018-03-13",
          "2018-03-14",
          "2018-03-15",
          "2018-03-16",
          "2018-03-19",
          "2018-03-20",
          "2018-03-21",
          "2018-03-22",
          "2018-03-23",
          "2018-03-26",
          "2018-03-27",
          "2018-03-28",
          "2018-03-29",
          "2018-04-02",
          "2018-04-03",
          "2018-04-04",
          "2018-04-05",
          "2018-04-06",
          "2018-04-09",
          "2018-04-10",
          "2018-04-11",
          "2018-04-12",
          "2018-04-13",
          "2018-04-16",
          "2018-04-17",
          "2018-04-18",
          "2018-04-19",
          "2018-04-20",
          "2018-04-23",
          "2018-04-24",
          "2018-04-25",
          "2018-04-26",
          "2018-04-27",
          "2018-04-30",
          "2018-05-01",
          "2018-05-02",
          "2018-05-03",
          "2018-05-04",
          "2018-05-07",
          "2018-05-08",
          "2018-05-09",
          "2018-05-10",
          "2018-05-11",
          "2018-05-14",
          "2018-05-15",
          "2018-05-16",
          "2018-05-17",
          "2018-05-18",
          "2018-05-21",
          "2018-05-22",
          "2018-05-23",
          "2018-05-24",
          "2018-05-25",
          "2018-05-29",
          "2018-05-30",
          "2018-05-31",
          "2018-06-01",
          "2018-06-04",
          "2018-06-05",
          "2018-06-06",
          "2018-06-07",
          "2018-06-08",
          "2018-06-11",
          "2018-06-12",
          "2018-06-13",
          "2018-06-14",
          "2018-06-15",
          "2018-06-18",
          "2018-06-19",
          "2018-06-20",
          "2018-06-21",
          "2018-06-22",
          "2018-06-25",
          "2018-06-26",
          "2018-06-27",
          "2018-06-28",
          "2018-06-29",
          "2018-07-02",
          "2018-07-03",
          "2018-07-05",
          "2018-07-06",
          "2018-07-09",
          "2018-07-10",
          "2018-07-11",
          "2018-07-12",
          "2018-07-13",
          "2018-07-16",
          "2018-07-17",
          "2018-07-18",
          "2018-07-19",
          "2018-07-20",
          "2018-07-23",
          "2018-07-24",
          "2018-07-25",
          "2018-07-26",
          "2018-07-27",
          "2018-07-30",
          "2018-07-31",
          "2018-08-01",
          "2018-08-02",
          "2018-08-03",
          "2018-08-06",
          "2018-08-07",
          "2018-08-08",
          "2018-08-09",
          "2018-08-10",
          "2018-08-13",
          "2018-08-14",
          "2018-08-15",
          "2018-08-16",
          "2018-08-17",
          "2018-08-20",
          "2018-08-21",
          "2018-08-22",
          "2018-08-23",
          "2018-08-24",
          "2018-08-27",
          "2018-08-28",
          "2018-08-29",
          "2018-08-30",
          "2018-08-31",
          "2018-09-04",
          "2018-09-05",
          "2018-09-06",
          "2018-09-07",
          "2018-09-10",
          "2018-09-11",
          "2018-09-12",
          "2018-09-13",
          "2018-09-14",
          "2018-09-17",
          "2018-09-18",
          "2018-09-19",
          "2018-09-20",
          "2018-09-21",
          "2018-09-24",
          "2018-09-25",
          "2018-09-26",
          "2018-09-27",
          "2018-09-28",
          "2018-10-01",
          "2018-10-02",
          "2018-10-03",
          "2018-10-04",
          "2018-10-05",
          "2018-10-08",
          "2018-10-09",
          "2018-10-10",
          "2018-10-11",
          "2018-10-12",
          "2018-10-15",
          "2018-10-16",
          "2018-10-17",
          "2018-10-18",
          "2018-10-19",
          "2018-10-22",
          "2018-10-23",
          "2018-10-24",
          "2018-10-25",
          "2018-10-26",
          "2018-10-29",
          "2018-10-30",
          "2018-10-31",
          "2018-11-01",
          "2018-11-02",
          "2018-11-05",
          "2018-11-06",
          "2018-11-07",
          "2018-11-08",
          "2018-11-09",
          "2018-11-12",
          "2018-11-13",
          "2018-11-14",
          "2018-11-15",
          "2018-11-16",
          "2018-11-19",
          "2018-11-20",
          "2018-11-21",
          "2018-11-23",
          "2018-11-26",
          "2018-11-27",
          "2018-11-28",
          "2018-11-29",
          "2018-11-30",
          "2018-12-03",
          "2018-12-04",
          "2018-12-05",
          "2018-12-06",
          "2018-12-07",
          "2018-12-10",
          "2018-12-11",
          "2018-12-12",
          "2018-12-13",
          "2018-12-14",
          "2018-12-17",
          "2018-12-18",
          "2018-12-19",
          "2018-12-20",
          "2018-12-21",
          "2018-12-24",
          "2018-12-26",
          "2018-12-27",
          "2018-12-28",
          "2018-12-31"
         ],
         "xaxis": "x",
         "y": [
          269.677,
          271.587,
          272.699,
          274.455,
          275.112,
          275.624,
          275.399,
          277.366,
          279.353,
          278.706,
          280.972,
          280.706,
          281.972,
          284.376,
          284.66700000000003,
          284.66700000000003,
          284.828,
          288.13,
          286.375,
          283.41,
          283.508,
          283.282,
          277.034,
          263.732,
          270.02,
          268.45,
          260.017,
          263.181,
          266.219,
          267.063,
          270.86,
          274.29400000000004,
          274.296,
          272.462,
          270.941,
          272.016,
          275.911,
          279.357,
          276.022,
          272.863,
          269.029,
          270.15,
          272.91200000000003,
          273.711,
          273.5,
          275.164,
          279.715,
          279.708,
          277.907,
          276.105,
          276.289,
          276.617,
          272.493,
          273.004,
          272.43,
          265.458,
          259.956,
          266.459,
          262.409,
          261.133,
          264.635,
          258.526,
          261.755,
          265.03700000000003,
          267.056,
          261.056,
          261.865,
          266.017,
          264.83,
          266.951,
          266.247,
          268.633,
          271.33,
          271.546,
          269.814,
          267.732,
          267.877,
          264.203,
          264.892,
          267.861,
          267.67400000000004,
          265.152,
          265.892,
          263.54900000000004,
          263.536,
          266.675,
          267.611,
          267.427,
          270.193,
          272.456,
          273.233,
          273.281,
          271.579,
          272.805,
          272.465,
          271.819,
          273.798,
          273.041,
          273.684,
          273.172,
          272.389,
          269.462,
          272.769,
          271.172,
          273.838,
          275.137,
          275.568,
          277.69,
          277.899,
          278.365,
          278.61400000000003,
          278.928,
          278.22900000000004,
          278.86,
          278.427,
          277.958,
          276.505,
          277.219,
          275.312,
          276.215,
          271.678,
          272.957,
          270.676,
          271.889,
          272.584,
          272.954,
          271.48900000000003,
          273.876,
          276.277,
          278.775,
          279.764,
          277.659,
          279.94,
          280.345,
          280.092,
          281.195,
          281.756,
          280.58,
          280.337,
          280.973,
          282.052,
          284.471,
          283.689,
          281.805,
          280.22900000000004,
          282.149,
          281.159,
          282.833,
          283.943,
          285.022,
          285.901,
          285.591,
          285.314,
          283.654,
          282.498,
          283.954,
          282.202,
          284.346,
          285.189,
          285.909,
          286.374,
          286.213,
          285.95,
          287.511,
          289.79200000000003,
          289.944,
          291.416,
          290.306,
          290.48,
          289.92900000000003,
          288.867,
          287.89,
          287.335,
          287.931,
          288.988,
          288.999,
          290.688,
          290.797,
          289.375,
          290.626,
          291.038,
          293.395,
          293.435,
          292.308,
          291.845,
          290.647,
          291.54200000000003,
          291.791,
          292.557,
          292.511,
          292.71,
          290.482,
          288.85,
          288.888,
          288.175,
          278.404,
          273.278,
          276.627,
          274.997,
          280.922,
          281.04,
          277.307,
          276.41900000000004,
          275.49,
          274.03,
          266.404,
          269.026,
          266.117,
          263.576,
          268.066,
          271.04,
          273.397,
          272.087,
          273.811,
          275.502,
          281.095,
          280.528,
          277.551,
          272.668,
          271.867,
          269.57,
          272.823,
          273.76,
          269.118,
          263.623,
          264.548,
          262.543,
          267.21,
          267.779,
          273.663,
          273.551,
          275.517,
          278.56,
          269.644,
          269.644,
          269.288,
          262.877,
          263.757,
          263.575,
          264.452,
          264.285,
          259.66700000000003,
          254.578,
          253.554,
          250.295,
          246.751,
          240.424,
          233.499,
          246.641,
          248.723,
          247.808,
          250.08
         ],
         "yaxis": "y"
        }
       ],
       "layout": {
        "legend": {
         "tracegroupgap": 0
        },
        "template": {
         "data": {
          "bar": [
           {
            "error_x": {
             "color": "#2a3f5f"
            },
            "error_y": {
             "color": "#2a3f5f"
            },
            "marker": {
             "line": {
              "color": "#E5ECF6",
              "width": 0.5
             },
             "pattern": {
              "fillmode": "overlay",
              "size": 10,
              "solidity": 0.2
             }
            },
            "type": "bar"
           }
          ],
          "barpolar": [
           {
            "marker": {
             "line": {
              "color": "#E5ECF6",
              "width": 0.5
             },
             "pattern": {
              "fillmode": "overlay",
              "size": 10,
              "solidity": 0.2
             }
            },
            "type": "barpolar"
           }
          ],
          "carpet": [
           {
            "aaxis": {
             "endlinecolor": "#2a3f5f",
             "gridcolor": "white",
             "linecolor": "white",
             "minorgridcolor": "white",
             "startlinecolor": "#2a3f5f"
            },
            "baxis": {
             "endlinecolor": "#2a3f5f",
             "gridcolor": "white",
             "linecolor": "white",
             "minorgridcolor": "white",
             "startlinecolor": "#2a3f5f"
            },
            "type": "carpet"
           }
          ],
          "choropleth": [
           {
            "colorbar": {
             "outlinewidth": 0,
             "ticks": ""
            },
            "type": "choropleth"
           }
          ],
          "contour": [
           {
            "colorbar": {
             "outlinewidth": 0,
             "ticks": ""
            },
            "colorscale": [
             [
              0,
              "#0d0887"
             ],
             [
              0.1111111111111111,
              "#46039f"
             ],
             [
              0.2222222222222222,
              "#7201a8"
             ],
             [
              0.3333333333333333,
              "#9c179e"
             ],
             [
              0.4444444444444444,
              "#bd3786"
             ],
             [
              0.5555555555555556,
              "#d8576b"
             ],
             [
              0.6666666666666666,
              "#ed7953"
             ],
             [
              0.7777777777777778,
              "#fb9f3a"
             ],
             [
              0.8888888888888888,
              "#fdca26"
             ],
             [
              1,
              "#f0f921"
             ]
            ],
            "type": "contour"
           }
          ],
          "contourcarpet": [
           {
            "colorbar": {
             "outlinewidth": 0,
             "ticks": ""
            },
            "type": "contourcarpet"
           }
          ],
          "heatmap": [
           {
            "colorbar": {
             "outlinewidth": 0,
             "ticks": ""
            },
            "colorscale": [
             [
              0,
              "#0d0887"
             ],
             [
              0.1111111111111111,
              "#46039f"
             ],
             [
              0.2222222222222222,
              "#7201a8"
             ],
             [
              0.3333333333333333,
              "#9c179e"
             ],
             [
              0.4444444444444444,
              "#bd3786"
             ],
             [
              0.5555555555555556,
              "#d8576b"
             ],
             [
              0.6666666666666666,
              "#ed7953"
             ],
             [
              0.7777777777777778,
              "#fb9f3a"
             ],
             [
              0.8888888888888888,
              "#fdca26"
             ],
             [
              1,
              "#f0f921"
             ]
            ],
            "type": "heatmap"
           }
          ],
          "heatmapgl": [
           {
            "colorbar": {
             "outlinewidth": 0,
             "ticks": ""
            },
            "colorscale": [
             [
              0,
              "#0d0887"
             ],
             [
              0.1111111111111111,
              "#46039f"
             ],
             [
              0.2222222222222222,
              "#7201a8"
             ],
             [
              0.3333333333333333,
              "#9c179e"
             ],
             [
              0.4444444444444444,
              "#bd3786"
             ],
             [
              0.5555555555555556,
              "#d8576b"
             ],
             [
              0.6666666666666666,
              "#ed7953"
             ],
             [
              0.7777777777777778,
              "#fb9f3a"
             ],
             [
              0.8888888888888888,
              "#fdca26"
             ],
             [
              1,
              "#f0f921"
             ]
            ],
            "type": "heatmapgl"
           }
          ],
          "histogram": [
           {
            "marker": {
             "pattern": {
              "fillmode": "overlay",
              "size": 10,
              "solidity": 0.2
             }
            },
            "type": "histogram"
           }
          ],
          "histogram2d": [
           {
            "colorbar": {
             "outlinewidth": 0,
             "ticks": ""
            },
            "colorscale": [
             [
              0,
              "#0d0887"
             ],
             [
              0.1111111111111111,
              "#46039f"
             ],
             [
              0.2222222222222222,
              "#7201a8"
             ],
             [
              0.3333333333333333,
              "#9c179e"
             ],
             [
              0.4444444444444444,
              "#bd3786"
             ],
             [
              0.5555555555555556,
              "#d8576b"
             ],
             [
              0.6666666666666666,
              "#ed7953"
             ],
             [
              0.7777777777777778,
              "#fb9f3a"
             ],
             [
              0.8888888888888888,
              "#fdca26"
             ],
             [
              1,
              "#f0f921"
             ]
            ],
            "type": "histogram2d"
           }
          ],
          "histogram2dcontour": [
           {
            "colorbar": {
             "outlinewidth": 0,
             "ticks": ""
            },
            "colorscale": [
             [
              0,
              "#0d0887"
             ],
             [
              0.1111111111111111,
              "#46039f"
             ],
             [
              0.2222222222222222,
              "#7201a8"
             ],
             [
              0.3333333333333333,
              "#9c179e"
             ],
             [
              0.4444444444444444,
              "#bd3786"
             ],
             [
              0.5555555555555556,
              "#d8576b"
             ],
             [
              0.6666666666666666,
              "#ed7953"
             ],
             [
              0.7777777777777778,
              "#fb9f3a"
             ],
             [
              0.8888888888888888,
              "#fdca26"
             ],
             [
              1,
              "#f0f921"
             ]
            ],
            "type": "histogram2dcontour"
           }
          ],
          "mesh3d": [
           {
            "colorbar": {
             "outlinewidth": 0,
             "ticks": ""
            },
            "type": "mesh3d"
           }
          ],
          "parcoords": [
           {
            "line": {
             "colorbar": {
              "outlinewidth": 0,
              "ticks": ""
             }
            },
            "type": "parcoords"
           }
          ],
          "pie": [
           {
            "automargin": true,
            "type": "pie"
           }
          ],
          "scatter": [
           {
            "fillpattern": {
             "fillmode": "overlay",
             "size": 10,
             "solidity": 0.2
            },
            "type": "scatter"
           }
          ],
          "scatter3d": [
           {
            "line": {
             "colorbar": {
              "outlinewidth": 0,
              "ticks": ""
             }
            },
            "marker": {
             "colorbar": {
              "outlinewidth": 0,
              "ticks": ""
             }
            },
            "type": "scatter3d"
           }
          ],
          "scattercarpet": [
           {
            "marker": {
             "colorbar": {
              "outlinewidth": 0,
              "ticks": ""
             }
            },
            "type": "scattercarpet"
           }
          ],
          "scattergeo": [
           {
            "marker": {
             "colorbar": {
              "outlinewidth": 0,
              "ticks": ""
             }
            },
            "type": "scattergeo"
           }
          ],
          "scattergl": [
           {
            "marker": {
             "colorbar": {
              "outlinewidth": 0,
              "ticks": ""
             }
            },
            "type": "scattergl"
           }
          ],
          "scattermapbox": [
           {
            "marker": {
             "colorbar": {
              "outlinewidth": 0,
              "ticks": ""
             }
            },
            "type": "scattermapbox"
           }
          ],
          "scatterpolar": [
           {
            "marker": {
             "colorbar": {
              "outlinewidth": 0,
              "ticks": ""
             }
            },
            "type": "scatterpolar"
           }
          ],
          "scatterpolargl": [
           {
            "marker": {
             "colorbar": {
              "outlinewidth": 0,
              "ticks": ""
             }
            },
            "type": "scatterpolargl"
           }
          ],
          "scatterternary": [
           {
            "marker": {
             "colorbar": {
              "outlinewidth": 0,
              "ticks": ""
             }
            },
            "type": "scatterternary"
           }
          ],
          "surface": [
           {
            "colorbar": {
             "outlinewidth": 0,
             "ticks": ""
            },
            "colorscale": [
             [
              0,
              "#0d0887"
             ],
             [
              0.1111111111111111,
              "#46039f"
             ],
             [
              0.2222222222222222,
              "#7201a8"
             ],
             [
              0.3333333333333333,
              "#9c179e"
             ],
             [
              0.4444444444444444,
              "#bd3786"
             ],
             [
              0.5555555555555556,
              "#d8576b"
             ],
             [
              0.6666666666666666,
              "#ed7953"
             ],
             [
              0.7777777777777778,
              "#fb9f3a"
             ],
             [
              0.8888888888888888,
              "#fdca26"
             ],
             [
              1,
              "#f0f921"
             ]
            ],
            "type": "surface"
           }
          ],
          "table": [
           {
            "cells": {
             "fill": {
              "color": "#EBF0F8"
             },
             "line": {
              "color": "white"
             }
            },
            "header": {
             "fill": {
              "color": "#C8D4E3"
             },
             "line": {
              "color": "white"
             }
            },
            "type": "table"
           }
          ]
         },
         "layout": {
          "annotationdefaults": {
           "arrowcolor": "#2a3f5f",
           "arrowhead": 0,
           "arrowwidth": 1
          },
          "autotypenumbers": "strict",
          "coloraxis": {
           "colorbar": {
            "outlinewidth": 0,
            "ticks": ""
           }
          },
          "colorscale": {
           "diverging": [
            [
             0,
             "#8e0152"
            ],
            [
             0.1,
             "#c51b7d"
            ],
            [
             0.2,
             "#de77ae"
            ],
            [
             0.3,
             "#f1b6da"
            ],
            [
             0.4,
             "#fde0ef"
            ],
            [
             0.5,
             "#f7f7f7"
            ],
            [
             0.6,
             "#e6f5d0"
            ],
            [
             0.7,
             "#b8e186"
            ],
            [
             0.8,
             "#7fbc41"
            ],
            [
             0.9,
             "#4d9221"
            ],
            [
             1,
             "#276419"
            ]
           ],
           "sequential": [
            [
             0,
             "#0d0887"
            ],
            [
             0.1111111111111111,
             "#46039f"
            ],
            [
             0.2222222222222222,
             "#7201a8"
            ],
            [
             0.3333333333333333,
             "#9c179e"
            ],
            [
             0.4444444444444444,
             "#bd3786"
            ],
            [
             0.5555555555555556,
             "#d8576b"
            ],
            [
             0.6666666666666666,
             "#ed7953"
            ],
            [
             0.7777777777777778,
             "#fb9f3a"
            ],
            [
             0.8888888888888888,
             "#fdca26"
            ],
            [
             1,
             "#f0f921"
            ]
           ],
           "sequentialminus": [
            [
             0,
             "#0d0887"
            ],
            [
             0.1111111111111111,
             "#46039f"
            ],
            [
             0.2222222222222222,
             "#7201a8"
            ],
            [
             0.3333333333333333,
             "#9c179e"
            ],
            [
             0.4444444444444444,
             "#bd3786"
            ],
            [
             0.5555555555555556,
             "#d8576b"
            ],
            [
             0.6666666666666666,
             "#ed7953"
            ],
            [
             0.7777777777777778,
             "#fb9f3a"
            ],
            [
             0.8888888888888888,
             "#fdca26"
            ],
            [
             1,
             "#f0f921"
            ]
           ]
          },
          "colorway": [
           "#636efa",
           "#EF553B",
           "#00cc96",
           "#ab63fa",
           "#FFA15A",
           "#19d3f3",
           "#FF6692",
           "#B6E880",
           "#FF97FF",
           "#FECB52"
          ],
          "font": {
           "color": "#2a3f5f"
          },
          "geo": {
           "bgcolor": "white",
           "lakecolor": "white",
           "landcolor": "#E5ECF6",
           "showlakes": true,
           "showland": true,
           "subunitcolor": "white"
          },
          "hoverlabel": {
           "align": "left"
          },
          "hovermode": "closest",
          "mapbox": {
           "style": "light"
          },
          "paper_bgcolor": "white",
          "plot_bgcolor": "#E5ECF6",
          "polar": {
           "angularaxis": {
            "gridcolor": "white",
            "linecolor": "white",
            "ticks": ""
           },
           "bgcolor": "#E5ECF6",
           "radialaxis": {
            "gridcolor": "white",
            "linecolor": "white",
            "ticks": ""
           }
          },
          "scene": {
           "xaxis": {
            "backgroundcolor": "#E5ECF6",
            "gridcolor": "white",
            "gridwidth": 2,
            "linecolor": "white",
            "showbackground": true,
            "ticks": "",
            "zerolinecolor": "white"
           },
           "yaxis": {
            "backgroundcolor": "#E5ECF6",
            "gridcolor": "white",
            "gridwidth": 2,
            "linecolor": "white",
            "showbackground": true,
            "ticks": "",
            "zerolinecolor": "white"
           },
           "zaxis": {
            "backgroundcolor": "#E5ECF6",
            "gridcolor": "white",
            "gridwidth": 2,
            "linecolor": "white",
            "showbackground": true,
            "ticks": "",
            "zerolinecolor": "white"
           }
          },
          "shapedefaults": {
           "line": {
            "color": "#2a3f5f"
           }
          },
          "ternary": {
           "aaxis": {
            "gridcolor": "white",
            "linecolor": "white",
            "ticks": ""
           },
           "baxis": {
            "gridcolor": "white",
            "linecolor": "white",
            "ticks": ""
           },
           "bgcolor": "#E5ECF6",
           "caxis": {
            "gridcolor": "white",
            "linecolor": "white",
            "ticks": ""
           }
          },
          "title": {
           "x": 0.05
          },
          "xaxis": {
           "automargin": true,
           "gridcolor": "white",
           "linecolor": "white",
           "ticks": "",
           "title": {
            "standoff": 15
           },
           "zerolinecolor": "white",
           "zerolinewidth": 2
          },
          "yaxis": {
           "automargin": true,
           "gridcolor": "white",
           "linecolor": "white",
           "ticks": "",
           "title": {
            "standoff": 15
           },
           "zerolinecolor": "white",
           "zerolinewidth": 2
          }
         }
        },
        "title": {
         "text": "SPY Price"
        },
        "xaxis": {
         "anchor": "y",
         "domain": [
          0,
          1
         ],
         "title": {
          "text": "trade_date"
         }
        },
        "yaxis": {
         "anchor": "x",
         "domain": [
          0,
          1
         ],
         "title": {
          "text": "upx"
         }
        }
       }
      },
      "text/html": [
       "<div>                            <div id=\"57b70375-60fc-4517-b5ee-bed1bf9866b1\" class=\"plotly-graph-div\" style=\"height:525px; width:100%;\"></div>            <script type=\"text/javascript\">                require([\"plotly\"], function(Plotly) {                    window.PLOTLYENV=window.PLOTLYENV || {};                                    if (document.getElementById(\"57b70375-60fc-4517-b5ee-bed1bf9866b1\")) {                    Plotly.newPlot(                        \"57b70375-60fc-4517-b5ee-bed1bf9866b1\",                        [{\"hovertemplate\":\"trade_date=%{x}<br>upx=%{y}<extra></extra>\",\"legendgroup\":\"\",\"line\":{\"color\":\"#636efa\",\"dash\":\"solid\"},\"marker\":{\"symbol\":\"circle\"},\"mode\":\"lines\",\"name\":\"\",\"orientation\":\"v\",\"showlegend\":false,\"x\":[\"2018-01-02\",\"2018-01-03\",\"2018-01-04\",\"2018-01-05\",\"2018-01-08\",\"2018-01-09\",\"2018-01-10\",\"2018-01-11\",\"2018-01-12\",\"2018-01-16\",\"2018-01-17\",\"2018-01-18\",\"2018-01-19\",\"2018-01-22\",\"2018-01-23\",\"2018-01-24\",\"2018-01-25\",\"2018-01-26\",\"2018-01-29\",\"2018-01-30\",\"2018-01-31\",\"2018-02-01\",\"2018-02-02\",\"2018-02-05\",\"2018-02-06\",\"2018-02-07\",\"2018-02-08\",\"2018-02-09\",\"2018-02-12\",\"2018-02-13\",\"2018-02-14\",\"2018-02-15\",\"2018-02-16\",\"2018-02-20\",\"2018-02-21\",\"2018-02-22\",\"2018-02-23\",\"2018-02-26\",\"2018-02-27\",\"2018-02-28\",\"2018-03-01\",\"2018-03-02\",\"2018-03-05\",\"2018-03-06\",\"2018-03-07\",\"2018-03-08\",\"2018-03-09\",\"2018-03-12\",\"2018-03-13\",\"2018-03-14\",\"2018-03-15\",\"2018-03-16\",\"2018-03-19\",\"2018-03-20\",\"2018-03-21\",\"2018-03-22\",\"2018-03-23\",\"2018-03-26\",\"2018-03-27\",\"2018-03-28\",\"2018-03-29\",\"2018-04-02\",\"2018-04-03\",\"2018-04-04\",\"2018-04-05\",\"2018-04-06\",\"2018-04-09\",\"2018-04-10\",\"2018-04-11\",\"2018-04-12\",\"2018-04-13\",\"2018-04-16\",\"2018-04-17\",\"2018-04-18\",\"2018-04-19\",\"2018-04-20\",\"2018-04-23\",\"2018-04-24\",\"2018-04-25\",\"2018-04-26\",\"2018-04-27\",\"2018-04-30\",\"2018-05-01\",\"2018-05-02\",\"2018-05-03\",\"2018-05-04\",\"2018-05-07\",\"2018-05-08\",\"2018-05-09\",\"2018-05-10\",\"2018-05-11\",\"2018-05-14\",\"2018-05-15\",\"2018-05-16\",\"2018-05-17\",\"2018-05-18\",\"2018-05-21\",\"2018-05-22\",\"2018-05-23\",\"2018-05-24\",\"2018-05-25\",\"2018-05-29\",\"2018-05-30\",\"2018-05-31\",\"2018-06-01\",\"2018-06-04\",\"2018-06-05\",\"2018-06-06\",\"2018-06-07\",\"2018-06-08\",\"2018-06-11\",\"2018-06-12\",\"2018-06-13\",\"2018-06-14\",\"2018-06-15\",\"2018-06-18\",\"2018-06-19\",\"2018-06-20\",\"2018-06-21\",\"2018-06-22\",\"2018-06-25\",\"2018-06-26\",\"2018-06-27\",\"2018-06-28\",\"2018-06-29\",\"2018-07-02\",\"2018-07-03\",\"2018-07-05\",\"2018-07-06\",\"2018-07-09\",\"2018-07-10\",\"2018-07-11\",\"2018-07-12\",\"2018-07-13\",\"2018-07-16\",\"2018-07-17\",\"2018-07-18\",\"2018-07-19\",\"2018-07-20\",\"2018-07-23\",\"2018-07-24\",\"2018-07-25\",\"2018-07-26\",\"2018-07-27\",\"2018-07-30\",\"2018-07-31\",\"2018-08-01\",\"2018-08-02\",\"2018-08-03\",\"2018-08-06\",\"2018-08-07\",\"2018-08-08\",\"2018-08-09\",\"2018-08-10\",\"2018-08-13\",\"2018-08-14\",\"2018-08-15\",\"2018-08-16\",\"2018-08-17\",\"2018-08-20\",\"2018-08-21\",\"2018-08-22\",\"2018-08-23\",\"2018-08-24\",\"2018-08-27\",\"2018-08-28\",\"2018-08-29\",\"2018-08-30\",\"2018-08-31\",\"2018-09-04\",\"2018-09-05\",\"2018-09-06\",\"2018-09-07\",\"2018-09-10\",\"2018-09-11\",\"2018-09-12\",\"2018-09-13\",\"2018-09-14\",\"2018-09-17\",\"2018-09-18\",\"2018-09-19\",\"2018-09-20\",\"2018-09-21\",\"2018-09-24\",\"2018-09-25\",\"2018-09-26\",\"2018-09-27\",\"2018-09-28\",\"2018-10-01\",\"2018-10-02\",\"2018-10-03\",\"2018-10-04\",\"2018-10-05\",\"2018-10-08\",\"2018-10-09\",\"2018-10-10\",\"2018-10-11\",\"2018-10-12\",\"2018-10-15\",\"2018-10-16\",\"2018-10-17\",\"2018-10-18\",\"2018-10-19\",\"2018-10-22\",\"2018-10-23\",\"2018-10-24\",\"2018-10-25\",\"2018-10-26\",\"2018-10-29\",\"2018-10-30\",\"2018-10-31\",\"2018-11-01\",\"2018-11-02\",\"2018-11-05\",\"2018-11-06\",\"2018-11-07\",\"2018-11-08\",\"2018-11-09\",\"2018-11-12\",\"2018-11-13\",\"2018-11-14\",\"2018-11-15\",\"2018-11-16\",\"2018-11-19\",\"2018-11-20\",\"2018-11-21\",\"2018-11-23\",\"2018-11-26\",\"2018-11-27\",\"2018-11-28\",\"2018-11-29\",\"2018-11-30\",\"2018-12-03\",\"2018-12-04\",\"2018-12-05\",\"2018-12-06\",\"2018-12-07\",\"2018-12-10\",\"2018-12-11\",\"2018-12-12\",\"2018-12-13\",\"2018-12-14\",\"2018-12-17\",\"2018-12-18\",\"2018-12-19\",\"2018-12-20\",\"2018-12-21\",\"2018-12-24\",\"2018-12-26\",\"2018-12-27\",\"2018-12-28\",\"2018-12-31\"],\"xaxis\":\"x\",\"y\":[269.677,271.587,272.699,274.455,275.112,275.624,275.399,277.366,279.353,278.706,280.972,280.706,281.972,284.376,284.66700000000003,284.66700000000003,284.828,288.13,286.375,283.41,283.508,283.282,277.034,263.732,270.02,268.45,260.017,263.181,266.219,267.063,270.86,274.29400000000004,274.296,272.462,270.941,272.016,275.911,279.357,276.022,272.863,269.029,270.15,272.91200000000003,273.711,273.5,275.164,279.715,279.708,277.907,276.105,276.289,276.617,272.493,273.004,272.43,265.458,259.956,266.459,262.409,261.133,264.635,258.526,261.755,265.03700000000003,267.056,261.056,261.865,266.017,264.83,266.951,266.247,268.633,271.33,271.546,269.814,267.732,267.877,264.203,264.892,267.861,267.67400000000004,265.152,265.892,263.54900000000004,263.536,266.675,267.611,267.427,270.193,272.456,273.233,273.281,271.579,272.805,272.465,271.819,273.798,273.041,273.684,273.172,272.389,269.462,272.769,271.172,273.838,275.137,275.568,277.69,277.899,278.365,278.61400000000003,278.928,278.22900000000004,278.86,278.427,277.958,276.505,277.219,275.312,276.215,271.678,272.957,270.676,271.889,272.584,272.954,271.48900000000003,273.876,276.277,278.775,279.764,277.659,279.94,280.345,280.092,281.195,281.756,280.58,280.337,280.973,282.052,284.471,283.689,281.805,280.22900000000004,282.149,281.159,282.833,283.943,285.022,285.901,285.591,285.314,283.654,282.498,283.954,282.202,284.346,285.189,285.909,286.374,286.213,285.95,287.511,289.79200000000003,289.944,291.416,290.306,290.48,289.92900000000003,288.867,287.89,287.335,287.931,288.988,288.999,290.688,290.797,289.375,290.626,291.038,293.395,293.435,292.308,291.845,290.647,291.54200000000003,291.791,292.557,292.511,292.71,290.482,288.85,288.888,288.175,278.404,273.278,276.627,274.997,280.922,281.04,277.307,276.41900000000004,275.49,274.03,266.404,269.026,266.117,263.576,268.066,271.04,273.397,272.087,273.811,275.502,281.095,280.528,277.551,272.668,271.867,269.57,272.823,273.76,269.118,263.623,264.548,262.543,267.21,267.779,273.663,273.551,275.517,278.56,269.644,269.644,269.288,262.877,263.757,263.575,264.452,264.285,259.66700000000003,254.578,253.554,250.295,246.751,240.424,233.499,246.641,248.723,247.808,250.08],\"yaxis\":\"y\",\"type\":\"scatter\"}],                        {\"template\":{\"data\":{\"histogram2dcontour\":[{\"type\":\"histogram2dcontour\",\"colorbar\":{\"outlinewidth\":0,\"ticks\":\"\"},\"colorscale\":[[0.0,\"#0d0887\"],[0.1111111111111111,\"#46039f\"],[0.2222222222222222,\"#7201a8\"],[0.3333333333333333,\"#9c179e\"],[0.4444444444444444,\"#bd3786\"],[0.5555555555555556,\"#d8576b\"],[0.6666666666666666,\"#ed7953\"],[0.7777777777777778,\"#fb9f3a\"],[0.8888888888888888,\"#fdca26\"],[1.0,\"#f0f921\"]]}],\"choropleth\":[{\"type\":\"choropleth\",\"colorbar\":{\"outlinewidth\":0,\"ticks\":\"\"}}],\"histogram2d\":[{\"type\":\"histogram2d\",\"colorbar\":{\"outlinewidth\":0,\"ticks\":\"\"},\"colorscale\":[[0.0,\"#0d0887\"],[0.1111111111111111,\"#46039f\"],[0.2222222222222222,\"#7201a8\"],[0.3333333333333333,\"#9c179e\"],[0.4444444444444444,\"#bd3786\"],[0.5555555555555556,\"#d8576b\"],[0.6666666666666666,\"#ed7953\"],[0.7777777777777778,\"#fb9f3a\"],[0.8888888888888888,\"#fdca26\"],[1.0,\"#f0f921\"]]}],\"heatmap\":[{\"type\":\"heatmap\",\"colorbar\":{\"outlinewidth\":0,\"ticks\":\"\"},\"colorscale\":[[0.0,\"#0d0887\"],[0.1111111111111111,\"#46039f\"],[0.2222222222222222,\"#7201a8\"],[0.3333333333333333,\"#9c179e\"],[0.4444444444444444,\"#bd3786\"],[0.5555555555555556,\"#d8576b\"],[0.6666666666666666,\"#ed7953\"],[0.7777777777777778,\"#fb9f3a\"],[0.8888888888888888,\"#fdca26\"],[1.0,\"#f0f921\"]]}],\"heatmapgl\":[{\"type\":\"heatmapgl\",\"colorbar\":{\"outlinewidth\":0,\"ticks\":\"\"},\"colorscale\":[[0.0,\"#0d0887\"],[0.1111111111111111,\"#46039f\"],[0.2222222222222222,\"#7201a8\"],[0.3333333333333333,\"#9c179e\"],[0.4444444444444444,\"#bd3786\"],[0.5555555555555556,\"#d8576b\"],[0.6666666666666666,\"#ed7953\"],[0.7777777777777778,\"#fb9f3a\"],[0.8888888888888888,\"#fdca26\"],[1.0,\"#f0f921\"]]}],\"contourcarpet\":[{\"type\":\"contourcarpet\",\"colorbar\":{\"outlinewidth\":0,\"ticks\":\"\"}}],\"contour\":[{\"type\":\"contour\",\"colorbar\":{\"outlinewidth\":0,\"ticks\":\"\"},\"colorscale\":[[0.0,\"#0d0887\"],[0.1111111111111111,\"#46039f\"],[0.2222222222222222,\"#7201a8\"],[0.3333333333333333,\"#9c179e\"],[0.4444444444444444,\"#bd3786\"],[0.5555555555555556,\"#d8576b\"],[0.6666666666666666,\"#ed7953\"],[0.7777777777777778,\"#fb9f3a\"],[0.8888888888888888,\"#fdca26\"],[1.0,\"#f0f921\"]]}],\"surface\":[{\"type\":\"surface\",\"colorbar\":{\"outlinewidth\":0,\"ticks\":\"\"},\"colorscale\":[[0.0,\"#0d0887\"],[0.1111111111111111,\"#46039f\"],[0.2222222222222222,\"#7201a8\"],[0.3333333333333333,\"#9c179e\"],[0.4444444444444444,\"#bd3786\"],[0.5555555555555556,\"#d8576b\"],[0.6666666666666666,\"#ed7953\"],[0.7777777777777778,\"#fb9f3a\"],[0.8888888888888888,\"#fdca26\"],[1.0,\"#f0f921\"]]}],\"mesh3d\":[{\"type\":\"mesh3d\",\"colorbar\":{\"outlinewidth\":0,\"ticks\":\"\"}}],\"scatter\":[{\"fillpattern\":{\"fillmode\":\"overlay\",\"size\":10,\"solidity\":0.2},\"type\":\"scatter\"}],\"parcoords\":[{\"type\":\"parcoords\",\"line\":{\"colorbar\":{\"outlinewidth\":0,\"ticks\":\"\"}}}],\"scatterpolargl\":[{\"type\":\"scatterpolargl\",\"marker\":{\"colorbar\":{\"outlinewidth\":0,\"ticks\":\"\"}}}],\"bar\":[{\"error_x\":{\"color\":\"#2a3f5f\"},\"error_y\":{\"color\":\"#2a3f5f\"},\"marker\":{\"line\":{\"color\":\"#E5ECF6\",\"width\":0.5},\"pattern\":{\"fillmode\":\"overlay\",\"size\":10,\"solidity\":0.2}},\"type\":\"bar\"}],\"scattergeo\":[{\"type\":\"scattergeo\",\"marker\":{\"colorbar\":{\"outlinewidth\":0,\"ticks\":\"\"}}}],\"scatterpolar\":[{\"type\":\"scatterpolar\",\"marker\":{\"colorbar\":{\"outlinewidth\":0,\"ticks\":\"\"}}}],\"histogram\":[{\"marker\":{\"pattern\":{\"fillmode\":\"overlay\",\"size\":10,\"solidity\":0.2}},\"type\":\"histogram\"}],\"scattergl\":[{\"type\":\"scattergl\",\"marker\":{\"colorbar\":{\"outlinewidth\":0,\"ticks\":\"\"}}}],\"scatter3d\":[{\"type\":\"scatter3d\",\"line\":{\"colorbar\":{\"outlinewidth\":0,\"ticks\":\"\"}},\"marker\":{\"colorbar\":{\"outlinewidth\":0,\"ticks\":\"\"}}}],\"scattermapbox\":[{\"type\":\"scattermapbox\",\"marker\":{\"colorbar\":{\"outlinewidth\":0,\"ticks\":\"\"}}}],\"scatterternary\":[{\"type\":\"scatterternary\",\"marker\":{\"colorbar\":{\"outlinewidth\":0,\"ticks\":\"\"}}}],\"scattercarpet\":[{\"type\":\"scattercarpet\",\"marker\":{\"colorbar\":{\"outlinewidth\":0,\"ticks\":\"\"}}}],\"carpet\":[{\"aaxis\":{\"endlinecolor\":\"#2a3f5f\",\"gridcolor\":\"white\",\"linecolor\":\"white\",\"minorgridcolor\":\"white\",\"startlinecolor\":\"#2a3f5f\"},\"baxis\":{\"endlinecolor\":\"#2a3f5f\",\"gridcolor\":\"white\",\"linecolor\":\"white\",\"minorgridcolor\":\"white\",\"startlinecolor\":\"#2a3f5f\"},\"type\":\"carpet\"}],\"table\":[{\"cells\":{\"fill\":{\"color\":\"#EBF0F8\"},\"line\":{\"color\":\"white\"}},\"header\":{\"fill\":{\"color\":\"#C8D4E3\"},\"line\":{\"color\":\"white\"}},\"type\":\"table\"}],\"barpolar\":[{\"marker\":{\"line\":{\"color\":\"#E5ECF6\",\"width\":0.5},\"pattern\":{\"fillmode\":\"overlay\",\"size\":10,\"solidity\":0.2}},\"type\":\"barpolar\"}],\"pie\":[{\"automargin\":true,\"type\":\"pie\"}]},\"layout\":{\"autotypenumbers\":\"strict\",\"colorway\":[\"#636efa\",\"#EF553B\",\"#00cc96\",\"#ab63fa\",\"#FFA15A\",\"#19d3f3\",\"#FF6692\",\"#B6E880\",\"#FF97FF\",\"#FECB52\"],\"font\":{\"color\":\"#2a3f5f\"},\"hovermode\":\"closest\",\"hoverlabel\":{\"align\":\"left\"},\"paper_bgcolor\":\"white\",\"plot_bgcolor\":\"#E5ECF6\",\"polar\":{\"bgcolor\":\"#E5ECF6\",\"angularaxis\":{\"gridcolor\":\"white\",\"linecolor\":\"white\",\"ticks\":\"\"},\"radialaxis\":{\"gridcolor\":\"white\",\"linecolor\":\"white\",\"ticks\":\"\"}},\"ternary\":{\"bgcolor\":\"#E5ECF6\",\"aaxis\":{\"gridcolor\":\"white\",\"linecolor\":\"white\",\"ticks\":\"\"},\"baxis\":{\"gridcolor\":\"white\",\"linecolor\":\"white\",\"ticks\":\"\"},\"caxis\":{\"gridcolor\":\"white\",\"linecolor\":\"white\",\"ticks\":\"\"}},\"coloraxis\":{\"colorbar\":{\"outlinewidth\":0,\"ticks\":\"\"}},\"colorscale\":{\"sequential\":[[0.0,\"#0d0887\"],[0.1111111111111111,\"#46039f\"],[0.2222222222222222,\"#7201a8\"],[0.3333333333333333,\"#9c179e\"],[0.4444444444444444,\"#bd3786\"],[0.5555555555555556,\"#d8576b\"],[0.6666666666666666,\"#ed7953\"],[0.7777777777777778,\"#fb9f3a\"],[0.8888888888888888,\"#fdca26\"],[1.0,\"#f0f921\"]],\"sequentialminus\":[[0.0,\"#0d0887\"],[0.1111111111111111,\"#46039f\"],[0.2222222222222222,\"#7201a8\"],[0.3333333333333333,\"#9c179e\"],[0.4444444444444444,\"#bd3786\"],[0.5555555555555556,\"#d8576b\"],[0.6666666666666666,\"#ed7953\"],[0.7777777777777778,\"#fb9f3a\"],[0.8888888888888888,\"#fdca26\"],[1.0,\"#f0f921\"]],\"diverging\":[[0,\"#8e0152\"],[0.1,\"#c51b7d\"],[0.2,\"#de77ae\"],[0.3,\"#f1b6da\"],[0.4,\"#fde0ef\"],[0.5,\"#f7f7f7\"],[0.6,\"#e6f5d0\"],[0.7,\"#b8e186\"],[0.8,\"#7fbc41\"],[0.9,\"#4d9221\"],[1,\"#276419\"]]},\"xaxis\":{\"gridcolor\":\"white\",\"linecolor\":\"white\",\"ticks\":\"\",\"title\":{\"standoff\":15},\"zerolinecolor\":\"white\",\"automargin\":true,\"zerolinewidth\":2},\"yaxis\":{\"gridcolor\":\"white\",\"linecolor\":\"white\",\"ticks\":\"\",\"title\":{\"standoff\":15},\"zerolinecolor\":\"white\",\"automargin\":true,\"zerolinewidth\":2},\"scene\":{\"xaxis\":{\"backgroundcolor\":\"#E5ECF6\",\"gridcolor\":\"white\",\"linecolor\":\"white\",\"showbackground\":true,\"ticks\":\"\",\"zerolinecolor\":\"white\",\"gridwidth\":2},\"yaxis\":{\"backgroundcolor\":\"#E5ECF6\",\"gridcolor\":\"white\",\"linecolor\":\"white\",\"showbackground\":true,\"ticks\":\"\",\"zerolinecolor\":\"white\",\"gridwidth\":2},\"zaxis\":{\"backgroundcolor\":\"#E5ECF6\",\"gridcolor\":\"white\",\"linecolor\":\"white\",\"showbackground\":true,\"ticks\":\"\",\"zerolinecolor\":\"white\",\"gridwidth\":2}},\"shapedefaults\":{\"line\":{\"color\":\"#2a3f5f\"}},\"annotationdefaults\":{\"arrowcolor\":\"#2a3f5f\",\"arrowhead\":0,\"arrowwidth\":1},\"geo\":{\"bgcolor\":\"white\",\"landcolor\":\"#E5ECF6\",\"subunitcolor\":\"white\",\"showland\":true,\"showlakes\":true,\"lakecolor\":\"white\"},\"title\":{\"x\":0.05},\"mapbox\":{\"style\":\"light\"}}},\"xaxis\":{\"anchor\":\"y\",\"domain\":[0.0,1.0],\"title\":{\"text\":\"trade_date\"}},\"yaxis\":{\"anchor\":\"x\",\"domain\":[0.0,1.0],\"title\":{\"text\":\"upx\"}},\"legend\":{\"tracegroupgap\":0},\"title\":{\"text\":\"SPY Price\"}},                        {\"responsive\": true}                    ).then(function(){\n",
       "                            \n",
       "var gd = document.getElementById('57b70375-60fc-4517-b5ee-bed1bf9866b1');\n",
       "var x = new MutationObserver(function (mutations, observer) {{\n",
       "        var display = window.getComputedStyle(gd).display;\n",
       "        if (!display || display === 'none') {{\n",
       "            console.log([gd, 'removed!']);\n",
       "            Plotly.purge(gd);\n",
       "            observer.disconnect();\n",
       "        }}\n",
       "}});\n",
       "\n",
       "// Listen for the removal of the full notebook cells\n",
       "var notebookContainer = gd.closest('#notebook-container');\n",
       "if (notebookContainer) {{\n",
       "    x.observe(notebookContainer, {childList: true});\n",
       "}}\n",
       "\n",
       "// Listen for the clearing of the current output cell\n",
       "var outputEl = gd.closest('.output');\n",
       "if (outputEl) {{\n",
       "    x.observe(outputEl, {childList: true});\n",
       "}}\n",
       "\n",
       "                        })                };                });            </script>        </div>"
      ]
     },
     "metadata": {},
     "output_type": "display_data"
    }
   ],
   "source": [
    "# plot underlying price\n",
    "fig = px.line(df_option_data, x='trade_date', y='upx', title = \"SPY Price\")\n",
    "fig.show()"
   ]
  },
  {
   "cell_type": "markdown",
   "metadata": {},
   "source": [
    "### 1. What is the the implied volatility of the option at the time of execution?"
   ]
  },
  {
   "cell_type": "code",
   "execution_count": 19,
   "metadata": {},
   "outputs": [],
   "source": [
    "opt_px = df_option_data['option_price'][0]\n",
    "spot_px = df_option_data['upx'][0]\n",
    "strike_px = df_option_data['strike'][0]"
   ]
  },
  {
   "cell_type": "code",
   "execution_count": 20,
   "metadata": {},
   "outputs": [
    {
     "name": "stdout",
     "output_type": "stream",
     "text": [
      "The implied volatility (pricing volatility) is:\n"
     ]
    },
    {
     "data": {
      "text/plain": [
       "0.1327"
      ]
     },
     "execution_count": 20,
     "metadata": {},
     "output_type": "execute_result"
    }
   ],
   "source": [
    "implied_vol = implied_volatility(price = opt_px, S = spot_px, K = strike_px, t = 251/252, r = 0, q = 0, flag = 'p')\n",
    "implied_vol = np.round(implied_vol, 4)\n",
    "print(\"The implied volatility (pricing volatility) is:\")\n",
    "implied_vol"
   ]
  },
  {
   "cell_type": "markdown",
   "metadata": {},
   "source": [
    "#### The implied volatility (pricing volatility) is: 0.1327"
   ]
  },
  {
   "cell_type": "markdown",
   "metadata": {},
   "source": [
    "### 2. Realized volatility of the underlying over the life of the delta-hedged option position?"
   ]
  },
  {
   "cell_type": "code",
   "execution_count": 22,
   "metadata": {},
   "outputs": [
    {
     "data": {
      "text/html": [
       "<div>\n",
       "<style scoped>\n",
       "    .dataframe tbody tr th:only-of-type {\n",
       "        vertical-align: middle;\n",
       "    }\n",
       "\n",
       "    .dataframe tbody tr th {\n",
       "        vertical-align: top;\n",
       "    }\n",
       "\n",
       "    .dataframe thead th {\n",
       "        text-align: right;\n",
       "    }\n",
       "</style>\n",
       "<table border=\"1\" class=\"dataframe\">\n",
       "  <thead>\n",
       "    <tr style=\"text-align: right;\">\n",
       "      <th></th>\n",
       "      <th>underlying</th>\n",
       "      <th>buy_sell</th>\n",
       "      <th>expiration</th>\n",
       "      <th>cp</th>\n",
       "      <th>strike</th>\n",
       "      <th>trade_date</th>\n",
       "      <th>d2x</th>\n",
       "      <th>t2x</th>\n",
       "      <th>upx</th>\n",
       "      <th>option_price</th>\n",
       "      <th>volatility</th>\n",
       "      <th>ret</th>\n",
       "    </tr>\n",
       "  </thead>\n",
       "  <tbody>\n",
       "    <tr>\n",
       "      <th>0</th>\n",
       "      <td>SPY</td>\n",
       "      <td>-1</td>\n",
       "      <td>2018-12-31</td>\n",
       "      <td>p</td>\n",
       "      <td>269</td>\n",
       "      <td>2018-01-02</td>\n",
       "      <td>251</td>\n",
       "      <td>1.00</td>\n",
       "      <td>269.68</td>\n",
       "      <td>13.88</td>\n",
       "      <td>0.13</td>\n",
       "      <td>NaN</td>\n",
       "    </tr>\n",
       "    <tr>\n",
       "      <th>1</th>\n",
       "      <td>SPY</td>\n",
       "      <td>-1</td>\n",
       "      <td>2018-12-31</td>\n",
       "      <td>p</td>\n",
       "      <td>269</td>\n",
       "      <td>2018-01-03</td>\n",
       "      <td>250</td>\n",
       "      <td>0.99</td>\n",
       "      <td>271.59</td>\n",
       "      <td>12.97</td>\n",
       "      <td>0.13</td>\n",
       "      <td>0.01</td>\n",
       "    </tr>\n",
       "    <tr>\n",
       "      <th>2</th>\n",
       "      <td>SPY</td>\n",
       "      <td>-1</td>\n",
       "      <td>2018-12-31</td>\n",
       "      <td>p</td>\n",
       "      <td>269</td>\n",
       "      <td>2018-01-04</td>\n",
       "      <td>249</td>\n",
       "      <td>0.99</td>\n",
       "      <td>272.70</td>\n",
       "      <td>12.61</td>\n",
       "      <td>0.13</td>\n",
       "      <td>0.00</td>\n",
       "    </tr>\n",
       "    <tr>\n",
       "      <th>3</th>\n",
       "      <td>SPY</td>\n",
       "      <td>-1</td>\n",
       "      <td>2018-12-31</td>\n",
       "      <td>p</td>\n",
       "      <td>269</td>\n",
       "      <td>2018-01-05</td>\n",
       "      <td>248</td>\n",
       "      <td>0.98</td>\n",
       "      <td>274.45</td>\n",
       "      <td>12.08</td>\n",
       "      <td>0.14</td>\n",
       "      <td>0.01</td>\n",
       "    </tr>\n",
       "    <tr>\n",
       "      <th>4</th>\n",
       "      <td>SPY</td>\n",
       "      <td>-1</td>\n",
       "      <td>2018-12-31</td>\n",
       "      <td>p</td>\n",
       "      <td>269</td>\n",
       "      <td>2018-01-08</td>\n",
       "      <td>247</td>\n",
       "      <td>0.98</td>\n",
       "      <td>275.11</td>\n",
       "      <td>11.85</td>\n",
       "      <td>0.14</td>\n",
       "      <td>0.00</td>\n",
       "    </tr>\n",
       "  </tbody>\n",
       "</table>\n",
       "</div>"
      ],
      "text/plain": [
       "  underlying  buy_sell  expiration cp  strike  trade_date  d2x  t2x    upx  \\\n",
       "0        SPY        -1  2018-12-31  p     269  2018-01-02  251 1.00 269.68   \n",
       "1        SPY        -1  2018-12-31  p     269  2018-01-03  250 0.99 271.59   \n",
       "2        SPY        -1  2018-12-31  p     269  2018-01-04  249 0.99 272.70   \n",
       "3        SPY        -1  2018-12-31  p     269  2018-01-05  248 0.98 274.45   \n",
       "4        SPY        -1  2018-12-31  p     269  2018-01-08  247 0.98 275.11   \n",
       "\n",
       "   option_price  volatility  ret  \n",
       "0         13.88        0.13  NaN  \n",
       "1         12.97        0.13 0.01  \n",
       "2         12.61        0.13 0.00  \n",
       "3         12.08        0.14 0.01  \n",
       "4         11.85        0.14 0.00  "
      ]
     },
     "execution_count": 22,
     "metadata": {},
     "output_type": "execute_result"
    }
   ],
   "source": [
    "# Calculate daily returns of underlying\n",
    "df_option_data['ret'] = df_option_data['upx'] / df_option_data['upx'].shift(1) - 1\n",
    "df_option_data.head()"
   ]
  },
  {
   "cell_type": "code",
   "execution_count": 24,
   "metadata": {},
   "outputs": [
    {
     "data": {
      "application/vnd.plotly.v1+json": {
       "config": {
        "plotlyServerURL": "https://plot.ly"
       },
       "data": [
        {
         "hovertemplate": "trade_date=%{x}<br>ret=%{y}<extra></extra>",
         "legendgroup": "",
         "line": {
          "color": "#636efa",
          "dash": "solid"
         },
         "marker": {
          "symbol": "circle"
         },
         "mode": "lines",
         "name": "",
         "orientation": "v",
         "showlegend": false,
         "type": "scatter",
         "x": [
          "2018-01-02",
          "2018-01-03",
          "2018-01-04",
          "2018-01-05",
          "2018-01-08",
          "2018-01-09",
          "2018-01-10",
          "2018-01-11",
          "2018-01-12",
          "2018-01-16",
          "2018-01-17",
          "2018-01-18",
          "2018-01-19",
          "2018-01-22",
          "2018-01-23",
          "2018-01-24",
          "2018-01-25",
          "2018-01-26",
          "2018-01-29",
          "2018-01-30",
          "2018-01-31",
          "2018-02-01",
          "2018-02-02",
          "2018-02-05",
          "2018-02-06",
          "2018-02-07",
          "2018-02-08",
          "2018-02-09",
          "2018-02-12",
          "2018-02-13",
          "2018-02-14",
          "2018-02-15",
          "2018-02-16",
          "2018-02-20",
          "2018-02-21",
          "2018-02-22",
          "2018-02-23",
          "2018-02-26",
          "2018-02-27",
          "2018-02-28",
          "2018-03-01",
          "2018-03-02",
          "2018-03-05",
          "2018-03-06",
          "2018-03-07",
          "2018-03-08",
          "2018-03-09",
          "2018-03-12",
          "2018-03-13",
          "2018-03-14",
          "2018-03-15",
          "2018-03-16",
          "2018-03-19",
          "2018-03-20",
          "2018-03-21",
          "2018-03-22",
          "2018-03-23",
          "2018-03-26",
          "2018-03-27",
          "2018-03-28",
          "2018-03-29",
          "2018-04-02",
          "2018-04-03",
          "2018-04-04",
          "2018-04-05",
          "2018-04-06",
          "2018-04-09",
          "2018-04-10",
          "2018-04-11",
          "2018-04-12",
          "2018-04-13",
          "2018-04-16",
          "2018-04-17",
          "2018-04-18",
          "2018-04-19",
          "2018-04-20",
          "2018-04-23",
          "2018-04-24",
          "2018-04-25",
          "2018-04-26",
          "2018-04-27",
          "2018-04-30",
          "2018-05-01",
          "2018-05-02",
          "2018-05-03",
          "2018-05-04",
          "2018-05-07",
          "2018-05-08",
          "2018-05-09",
          "2018-05-10",
          "2018-05-11",
          "2018-05-14",
          "2018-05-15",
          "2018-05-16",
          "2018-05-17",
          "2018-05-18",
          "2018-05-21",
          "2018-05-22",
          "2018-05-23",
          "2018-05-24",
          "2018-05-25",
          "2018-05-29",
          "2018-05-30",
          "2018-05-31",
          "2018-06-01",
          "2018-06-04",
          "2018-06-05",
          "2018-06-06",
          "2018-06-07",
          "2018-06-08",
          "2018-06-11",
          "2018-06-12",
          "2018-06-13",
          "2018-06-14",
          "2018-06-15",
          "2018-06-18",
          "2018-06-19",
          "2018-06-20",
          "2018-06-21",
          "2018-06-22",
          "2018-06-25",
          "2018-06-26",
          "2018-06-27",
          "2018-06-28",
          "2018-06-29",
          "2018-07-02",
          "2018-07-03",
          "2018-07-05",
          "2018-07-06",
          "2018-07-09",
          "2018-07-10",
          "2018-07-11",
          "2018-07-12",
          "2018-07-13",
          "2018-07-16",
          "2018-07-17",
          "2018-07-18",
          "2018-07-19",
          "2018-07-20",
          "2018-07-23",
          "2018-07-24",
          "2018-07-25",
          "2018-07-26",
          "2018-07-27",
          "2018-07-30",
          "2018-07-31",
          "2018-08-01",
          "2018-08-02",
          "2018-08-03",
          "2018-08-06",
          "2018-08-07",
          "2018-08-08",
          "2018-08-09",
          "2018-08-10",
          "2018-08-13",
          "2018-08-14",
          "2018-08-15",
          "2018-08-16",
          "2018-08-17",
          "2018-08-20",
          "2018-08-21",
          "2018-08-22",
          "2018-08-23",
          "2018-08-24",
          "2018-08-27",
          "2018-08-28",
          "2018-08-29",
          "2018-08-30",
          "2018-08-31",
          "2018-09-04",
          "2018-09-05",
          "2018-09-06",
          "2018-09-07",
          "2018-09-10",
          "2018-09-11",
          "2018-09-12",
          "2018-09-13",
          "2018-09-14",
          "2018-09-17",
          "2018-09-18",
          "2018-09-19",
          "2018-09-20",
          "2018-09-21",
          "2018-09-24",
          "2018-09-25",
          "2018-09-26",
          "2018-09-27",
          "2018-09-28",
          "2018-10-01",
          "2018-10-02",
          "2018-10-03",
          "2018-10-04",
          "2018-10-05",
          "2018-10-08",
          "2018-10-09",
          "2018-10-10",
          "2018-10-11",
          "2018-10-12",
          "2018-10-15",
          "2018-10-16",
          "2018-10-17",
          "2018-10-18",
          "2018-10-19",
          "2018-10-22",
          "2018-10-23",
          "2018-10-24",
          "2018-10-25",
          "2018-10-26",
          "2018-10-29",
          "2018-10-30",
          "2018-10-31",
          "2018-11-01",
          "2018-11-02",
          "2018-11-05",
          "2018-11-06",
          "2018-11-07",
          "2018-11-08",
          "2018-11-09",
          "2018-11-12",
          "2018-11-13",
          "2018-11-14",
          "2018-11-15",
          "2018-11-16",
          "2018-11-19",
          "2018-11-20",
          "2018-11-21",
          "2018-11-23",
          "2018-11-26",
          "2018-11-27",
          "2018-11-28",
          "2018-11-29",
          "2018-11-30",
          "2018-12-03",
          "2018-12-04",
          "2018-12-05",
          "2018-12-06",
          "2018-12-07",
          "2018-12-10",
          "2018-12-11",
          "2018-12-12",
          "2018-12-13",
          "2018-12-14",
          "2018-12-17",
          "2018-12-18",
          "2018-12-19",
          "2018-12-20",
          "2018-12-21",
          "2018-12-24",
          "2018-12-26",
          "2018-12-27",
          "2018-12-28",
          "2018-12-31"
         ],
         "xaxis": "x",
         "y": [
          null,
          0.007082546898697251,
          0.004094452238140978,
          0.0064393342109798635,
          0.0023938350549270737,
          0.0018610602227455697,
          -0.000816329492351997,
          0.007142364351359287,
          0.007163819646243574,
          -0.0023160660526286847,
          0.008130431350598766,
          -0.0009467135515280889,
          0.00451005678539107,
          0.008525669215383003,
          0.0010232931049034555,
          0,
          0.0005655731082279125,
          0.011592961366157839,
          -0.006091000590011442,
          -0.010353557398515845,
          0.00034578878656343903,
          -0.0007971556358198351,
          -0.02205576069076043,
          -0.048015767017766664,
          0.023842385451897874,
          -0.005814384119694815,
          -0.031413671074687954,
          0.012168435140779144,
          0.011543386490666219,
          0.003170322178356999,
          0.014217619063666698,
          0.012678136306579102,
          7.29144640398971e-06,
          -0.006686207600548277,
          -0.005582429843427716,
          0.00396765347437289,
          0.014319010646432595,
          0.012489534668788327,
          -0.011938129347036308,
          -0.011444739912035984,
          -0.014051007282042671,
          0.004166837032438808,
          0.010223949657597764,
          0.0029276836489418034,
          -0.0007708860805740736,
          0.006084095063985329,
          0.016539227515227184,
          -2.5025472355610923e-05,
          -0.006438857665851727,
          -0.006484183557808776,
          0.0006664131399285456,
          0.0011871627172996835,
          -0.014908700477555659,
          0.0018752775300650004,
          -0.0021025332962154586,
          -0.02559189516573057,
          -0.020726442601089468,
          0.025015771899859818,
          -0.015199336483286419,
          -0.004862638095492144,
          0.013410790669888595,
          -0.02308462599429395,
          0.012490039686530396,
          0.012538442436629715,
          0.007617804306568221,
          -0.022467197891078983,
          0.0030989519490072226,
          0.0158554980619785,
          -0.004462120841901118,
          0.008008911377110017,
          -0.0026371880981903573,
          0.008961603323229816,
          0.010039719617470633,
          0.0007960785759038025,
          -0.006378293180529182,
          -0.007716426871845039,
          0.0005415863624818051,
          -0.013715249909473481,
          0.0026078432114700068,
          0.011208341512767506,
          -0.0006981232803578985,
          -0.009421908739735807,
          0.0027908520395849568,
          -0.008811848419658985,
          -4.9326690672479856e-05,
          0.011911086151417782,
          0.003509890315927633,
          -0.0006875651598774457,
          0.010343009494179656,
          0.008375494553893192,
          0.0028518366268315276,
          0.0001756742413983048,
          -0.006228021706595088,
          0.004514340210399093,
          -0.0012463114678984422,
          -0.002370946727102363,
          0.007280580091899358,
          -0.0027648120146970268,
          0.002354957680348546,
          -0.0018707706698235516,
          -0.002866325977772255,
          -0.010745661535524587,
          0.012272602444871605,
          -0.005854770886720928,
          0.009831398521971346,
          0.004743680570264086,
          0.0015664923292759703,
          0.007700458688962408,
          0.0007526378335553918,
          0.0016768682147110248,
          0.0008945090079572893,
          0.0011270072573523748,
          -0.0025060230597141464,
          0.0022679159972540663,
          -0.0015527504841138517,
          -0.0016844630729059284,
          -0.005227408457393001,
          0.002582231786043554,
          -0.006879037872584481,
          0.0032799151508104973,
          -0.01642561048458624,
          0.004707779061977835,
          -0.008356627600684341,
          0.0044813725635077795,
          0.0025561902099753286,
          0.0013573797434920376,
          -0.005367204730467368,
          0.008792253093127034,
          0.008766741152930635,
          0.009041650227850972,
          0.0035476638866469568,
          -0.007524198967701401,
          0.008215112782225642,
          0.0014467385868401905,
          -0.0009024594695822286,
          0.003937991802693386,
          0.0019950568111095635,
          -0.00417382415991141,
          -0.0008660631548934594,
          0.002268698031298033,
          0.0038402266409940378,
          0.008576432714534787,
          -0.002748962108615527,
          -0.0066410752619946445,
          -0.005592519650112537,
          0.006851539276805596,
          -0.0035087843657075624,
          0.0059539264259727,
          0.003924577400798102,
          0.0038000584624378053,
          0.0030839724652833578,
          -0.0010842914155599903,
          -0.0009699185198412952,
          -0.00581815122987317,
          -0.004075387620128823,
          0.005154018789513604,
          -0.006170013452883261,
          0.0075973947739562675,
          0.002964697938427241,
          0.0025246415534960764,
          0.0016263916141150414,
          -0.0005622018758686398,
          -0.000918896066915309,
          0.005458996328029597,
          0.007933609496680205,
          0.0005245141342755666,
          0.005076842424744044,
          -0.0038089878386911025,
          0.0005993675638809037,
          -0.0018968603690443508,
          -0.0036629657605827814,
          -0.0033821793420502066,
          -0.0019278196533398795,
          0.0020742339081560868,
          0.003671018403714754,
          3.806386424365371e-05,
          0.005844310879968395,
          0.0003749724790842457,
          -0.004890009181662935,
          0.004323110151187803,
          0.0014176295307373188,
          0.008098598808403024,
          0.00013633497503362513,
          -0.0038407142978854614,
          -0.0015839457011096458,
          -0.0041049187068479265,
          0.0030793367899892843,
          0.0008540793436278005,
          0.002625166643248189,
          -0.00015723431673142496,
          0.0006803162957973452,
          -0.007611629257626817,
          -0.005618248290771954,
          0.00013155617102289519,
          -0.0024680845171830557,
          -0.03390648043723432,
          -0.018412091780290463,
          0.012254919898418315,
          -0.005892411080624771,
          0.02154568958934111,
          0.00042004542186080407,
          -0.013282806717904938,
          -0.0032022271345475417,
          -0.003360839884378519,
          -0.0052996479001053975,
          -0.027829069809874762,
          0.00984219456164337,
          -0.010813081263520985,
          -0.009548431704851645,
          0.017034934895437948,
          0.011094282751263007,
          0.00869613341204234,
          -0.004791566842357486,
          0.006336208639148522,
          0.006175792791378143,
          0.02030112304084919,
          -0.002017111652644177,
          -0.010612131409342473,
          -0.017593163058320704,
          -0.0029376384467557637,
          -0.00844898424597329,
          0.01206736654672258,
          0.0034344611707957107,
          -0.016956458211572212,
          -0.020418552456543226,
          0.003508798549443748,
          -0.007578964875939342,
          0.017776135718720276,
          0.0021294113244265667,
          0.021973343690132596,
          -0.000409262487073625,
          0.007186959652861757,
          0.011044690527263423,
          -0.03200746697300405,
          0,
          -0.0013202593048612377,
          -0.023807224978461772,
          0.0033475731996333025,
          -0.0006900290797969832,
          0.00332732618799203,
          -0.0006314945623401291,
          -0.017473560739353355,
          -0.019598177666010796,
          -0.004022342857591732,
          -0.012853277802756025,
          -0.014159292035398119,
          -0.025641233470178437,
          -0.028803280870462245,
          0.05628289628649363,
          0.008441418904399534,
          -0.0036787912657857413,
          0.009168388429752206
         ],
         "yaxis": "y"
        }
       ],
       "layout": {
        "legend": {
         "tracegroupgap": 0
        },
        "template": {
         "data": {
          "bar": [
           {
            "error_x": {
             "color": "#2a3f5f"
            },
            "error_y": {
             "color": "#2a3f5f"
            },
            "marker": {
             "line": {
              "color": "#E5ECF6",
              "width": 0.5
             },
             "pattern": {
              "fillmode": "overlay",
              "size": 10,
              "solidity": 0.2
             }
            },
            "type": "bar"
           }
          ],
          "barpolar": [
           {
            "marker": {
             "line": {
              "color": "#E5ECF6",
              "width": 0.5
             },
             "pattern": {
              "fillmode": "overlay",
              "size": 10,
              "solidity": 0.2
             }
            },
            "type": "barpolar"
           }
          ],
          "carpet": [
           {
            "aaxis": {
             "endlinecolor": "#2a3f5f",
             "gridcolor": "white",
             "linecolor": "white",
             "minorgridcolor": "white",
             "startlinecolor": "#2a3f5f"
            },
            "baxis": {
             "endlinecolor": "#2a3f5f",
             "gridcolor": "white",
             "linecolor": "white",
             "minorgridcolor": "white",
             "startlinecolor": "#2a3f5f"
            },
            "type": "carpet"
           }
          ],
          "choropleth": [
           {
            "colorbar": {
             "outlinewidth": 0,
             "ticks": ""
            },
            "type": "choropleth"
           }
          ],
          "contour": [
           {
            "colorbar": {
             "outlinewidth": 0,
             "ticks": ""
            },
            "colorscale": [
             [
              0,
              "#0d0887"
             ],
             [
              0.1111111111111111,
              "#46039f"
             ],
             [
              0.2222222222222222,
              "#7201a8"
             ],
             [
              0.3333333333333333,
              "#9c179e"
             ],
             [
              0.4444444444444444,
              "#bd3786"
             ],
             [
              0.5555555555555556,
              "#d8576b"
             ],
             [
              0.6666666666666666,
              "#ed7953"
             ],
             [
              0.7777777777777778,
              "#fb9f3a"
             ],
             [
              0.8888888888888888,
              "#fdca26"
             ],
             [
              1,
              "#f0f921"
             ]
            ],
            "type": "contour"
           }
          ],
          "contourcarpet": [
           {
            "colorbar": {
             "outlinewidth": 0,
             "ticks": ""
            },
            "type": "contourcarpet"
           }
          ],
          "heatmap": [
           {
            "colorbar": {
             "outlinewidth": 0,
             "ticks": ""
            },
            "colorscale": [
             [
              0,
              "#0d0887"
             ],
             [
              0.1111111111111111,
              "#46039f"
             ],
             [
              0.2222222222222222,
              "#7201a8"
             ],
             [
              0.3333333333333333,
              "#9c179e"
             ],
             [
              0.4444444444444444,
              "#bd3786"
             ],
             [
              0.5555555555555556,
              "#d8576b"
             ],
             [
              0.6666666666666666,
              "#ed7953"
             ],
             [
              0.7777777777777778,
              "#fb9f3a"
             ],
             [
              0.8888888888888888,
              "#fdca26"
             ],
             [
              1,
              "#f0f921"
             ]
            ],
            "type": "heatmap"
           }
          ],
          "heatmapgl": [
           {
            "colorbar": {
             "outlinewidth": 0,
             "ticks": ""
            },
            "colorscale": [
             [
              0,
              "#0d0887"
             ],
             [
              0.1111111111111111,
              "#46039f"
             ],
             [
              0.2222222222222222,
              "#7201a8"
             ],
             [
              0.3333333333333333,
              "#9c179e"
             ],
             [
              0.4444444444444444,
              "#bd3786"
             ],
             [
              0.5555555555555556,
              "#d8576b"
             ],
             [
              0.6666666666666666,
              "#ed7953"
             ],
             [
              0.7777777777777778,
              "#fb9f3a"
             ],
             [
              0.8888888888888888,
              "#fdca26"
             ],
             [
              1,
              "#f0f921"
             ]
            ],
            "type": "heatmapgl"
           }
          ],
          "histogram": [
           {
            "marker": {
             "pattern": {
              "fillmode": "overlay",
              "size": 10,
              "solidity": 0.2
             }
            },
            "type": "histogram"
           }
          ],
          "histogram2d": [
           {
            "colorbar": {
             "outlinewidth": 0,
             "ticks": ""
            },
            "colorscale": [
             [
              0,
              "#0d0887"
             ],
             [
              0.1111111111111111,
              "#46039f"
             ],
             [
              0.2222222222222222,
              "#7201a8"
             ],
             [
              0.3333333333333333,
              "#9c179e"
             ],
             [
              0.4444444444444444,
              "#bd3786"
             ],
             [
              0.5555555555555556,
              "#d8576b"
             ],
             [
              0.6666666666666666,
              "#ed7953"
             ],
             [
              0.7777777777777778,
              "#fb9f3a"
             ],
             [
              0.8888888888888888,
              "#fdca26"
             ],
             [
              1,
              "#f0f921"
             ]
            ],
            "type": "histogram2d"
           }
          ],
          "histogram2dcontour": [
           {
            "colorbar": {
             "outlinewidth": 0,
             "ticks": ""
            },
            "colorscale": [
             [
              0,
              "#0d0887"
             ],
             [
              0.1111111111111111,
              "#46039f"
             ],
             [
              0.2222222222222222,
              "#7201a8"
             ],
             [
              0.3333333333333333,
              "#9c179e"
             ],
             [
              0.4444444444444444,
              "#bd3786"
             ],
             [
              0.5555555555555556,
              "#d8576b"
             ],
             [
              0.6666666666666666,
              "#ed7953"
             ],
             [
              0.7777777777777778,
              "#fb9f3a"
             ],
             [
              0.8888888888888888,
              "#fdca26"
             ],
             [
              1,
              "#f0f921"
             ]
            ],
            "type": "histogram2dcontour"
           }
          ],
          "mesh3d": [
           {
            "colorbar": {
             "outlinewidth": 0,
             "ticks": ""
            },
            "type": "mesh3d"
           }
          ],
          "parcoords": [
           {
            "line": {
             "colorbar": {
              "outlinewidth": 0,
              "ticks": ""
             }
            },
            "type": "parcoords"
           }
          ],
          "pie": [
           {
            "automargin": true,
            "type": "pie"
           }
          ],
          "scatter": [
           {
            "fillpattern": {
             "fillmode": "overlay",
             "size": 10,
             "solidity": 0.2
            },
            "type": "scatter"
           }
          ],
          "scatter3d": [
           {
            "line": {
             "colorbar": {
              "outlinewidth": 0,
              "ticks": ""
             }
            },
            "marker": {
             "colorbar": {
              "outlinewidth": 0,
              "ticks": ""
             }
            },
            "type": "scatter3d"
           }
          ],
          "scattercarpet": [
           {
            "marker": {
             "colorbar": {
              "outlinewidth": 0,
              "ticks": ""
             }
            },
            "type": "scattercarpet"
           }
          ],
          "scattergeo": [
           {
            "marker": {
             "colorbar": {
              "outlinewidth": 0,
              "ticks": ""
             }
            },
            "type": "scattergeo"
           }
          ],
          "scattergl": [
           {
            "marker": {
             "colorbar": {
              "outlinewidth": 0,
              "ticks": ""
             }
            },
            "type": "scattergl"
           }
          ],
          "scattermapbox": [
           {
            "marker": {
             "colorbar": {
              "outlinewidth": 0,
              "ticks": ""
             }
            },
            "type": "scattermapbox"
           }
          ],
          "scatterpolar": [
           {
            "marker": {
             "colorbar": {
              "outlinewidth": 0,
              "ticks": ""
             }
            },
            "type": "scatterpolar"
           }
          ],
          "scatterpolargl": [
           {
            "marker": {
             "colorbar": {
              "outlinewidth": 0,
              "ticks": ""
             }
            },
            "type": "scatterpolargl"
           }
          ],
          "scatterternary": [
           {
            "marker": {
             "colorbar": {
              "outlinewidth": 0,
              "ticks": ""
             }
            },
            "type": "scatterternary"
           }
          ],
          "surface": [
           {
            "colorbar": {
             "outlinewidth": 0,
             "ticks": ""
            },
            "colorscale": [
             [
              0,
              "#0d0887"
             ],
             [
              0.1111111111111111,
              "#46039f"
             ],
             [
              0.2222222222222222,
              "#7201a8"
             ],
             [
              0.3333333333333333,
              "#9c179e"
             ],
             [
              0.4444444444444444,
              "#bd3786"
             ],
             [
              0.5555555555555556,
              "#d8576b"
             ],
             [
              0.6666666666666666,
              "#ed7953"
             ],
             [
              0.7777777777777778,
              "#fb9f3a"
             ],
             [
              0.8888888888888888,
              "#fdca26"
             ],
             [
              1,
              "#f0f921"
             ]
            ],
            "type": "surface"
           }
          ],
          "table": [
           {
            "cells": {
             "fill": {
              "color": "#EBF0F8"
             },
             "line": {
              "color": "white"
             }
            },
            "header": {
             "fill": {
              "color": "#C8D4E3"
             },
             "line": {
              "color": "white"
             }
            },
            "type": "table"
           }
          ]
         },
         "layout": {
          "annotationdefaults": {
           "arrowcolor": "#2a3f5f",
           "arrowhead": 0,
           "arrowwidth": 1
          },
          "autotypenumbers": "strict",
          "coloraxis": {
           "colorbar": {
            "outlinewidth": 0,
            "ticks": ""
           }
          },
          "colorscale": {
           "diverging": [
            [
             0,
             "#8e0152"
            ],
            [
             0.1,
             "#c51b7d"
            ],
            [
             0.2,
             "#de77ae"
            ],
            [
             0.3,
             "#f1b6da"
            ],
            [
             0.4,
             "#fde0ef"
            ],
            [
             0.5,
             "#f7f7f7"
            ],
            [
             0.6,
             "#e6f5d0"
            ],
            [
             0.7,
             "#b8e186"
            ],
            [
             0.8,
             "#7fbc41"
            ],
            [
             0.9,
             "#4d9221"
            ],
            [
             1,
             "#276419"
            ]
           ],
           "sequential": [
            [
             0,
             "#0d0887"
            ],
            [
             0.1111111111111111,
             "#46039f"
            ],
            [
             0.2222222222222222,
             "#7201a8"
            ],
            [
             0.3333333333333333,
             "#9c179e"
            ],
            [
             0.4444444444444444,
             "#bd3786"
            ],
            [
             0.5555555555555556,
             "#d8576b"
            ],
            [
             0.6666666666666666,
             "#ed7953"
            ],
            [
             0.7777777777777778,
             "#fb9f3a"
            ],
            [
             0.8888888888888888,
             "#fdca26"
            ],
            [
             1,
             "#f0f921"
            ]
           ],
           "sequentialminus": [
            [
             0,
             "#0d0887"
            ],
            [
             0.1111111111111111,
             "#46039f"
            ],
            [
             0.2222222222222222,
             "#7201a8"
            ],
            [
             0.3333333333333333,
             "#9c179e"
            ],
            [
             0.4444444444444444,
             "#bd3786"
            ],
            [
             0.5555555555555556,
             "#d8576b"
            ],
            [
             0.6666666666666666,
             "#ed7953"
            ],
            [
             0.7777777777777778,
             "#fb9f3a"
            ],
            [
             0.8888888888888888,
             "#fdca26"
            ],
            [
             1,
             "#f0f921"
            ]
           ]
          },
          "colorway": [
           "#636efa",
           "#EF553B",
           "#00cc96",
           "#ab63fa",
           "#FFA15A",
           "#19d3f3",
           "#FF6692",
           "#B6E880",
           "#FF97FF",
           "#FECB52"
          ],
          "font": {
           "color": "#2a3f5f"
          },
          "geo": {
           "bgcolor": "white",
           "lakecolor": "white",
           "landcolor": "#E5ECF6",
           "showlakes": true,
           "showland": true,
           "subunitcolor": "white"
          },
          "hoverlabel": {
           "align": "left"
          },
          "hovermode": "closest",
          "mapbox": {
           "style": "light"
          },
          "paper_bgcolor": "white",
          "plot_bgcolor": "#E5ECF6",
          "polar": {
           "angularaxis": {
            "gridcolor": "white",
            "linecolor": "white",
            "ticks": ""
           },
           "bgcolor": "#E5ECF6",
           "radialaxis": {
            "gridcolor": "white",
            "linecolor": "white",
            "ticks": ""
           }
          },
          "scene": {
           "xaxis": {
            "backgroundcolor": "#E5ECF6",
            "gridcolor": "white",
            "gridwidth": 2,
            "linecolor": "white",
            "showbackground": true,
            "ticks": "",
            "zerolinecolor": "white"
           },
           "yaxis": {
            "backgroundcolor": "#E5ECF6",
            "gridcolor": "white",
            "gridwidth": 2,
            "linecolor": "white",
            "showbackground": true,
            "ticks": "",
            "zerolinecolor": "white"
           },
           "zaxis": {
            "backgroundcolor": "#E5ECF6",
            "gridcolor": "white",
            "gridwidth": 2,
            "linecolor": "white",
            "showbackground": true,
            "ticks": "",
            "zerolinecolor": "white"
           }
          },
          "shapedefaults": {
           "line": {
            "color": "#2a3f5f"
           }
          },
          "ternary": {
           "aaxis": {
            "gridcolor": "white",
            "linecolor": "white",
            "ticks": ""
           },
           "baxis": {
            "gridcolor": "white",
            "linecolor": "white",
            "ticks": ""
           },
           "bgcolor": "#E5ECF6",
           "caxis": {
            "gridcolor": "white",
            "linecolor": "white",
            "ticks": ""
           }
          },
          "title": {
           "x": 0.05
          },
          "xaxis": {
           "automargin": true,
           "gridcolor": "white",
           "linecolor": "white",
           "ticks": "",
           "title": {
            "standoff": 15
           },
           "zerolinecolor": "white",
           "zerolinewidth": 2
          },
          "yaxis": {
           "automargin": true,
           "gridcolor": "white",
           "linecolor": "white",
           "ticks": "",
           "title": {
            "standoff": 15
           },
           "zerolinecolor": "white",
           "zerolinewidth": 2
          }
         }
        },
        "title": {
         "text": "SPY Daily Returns"
        },
        "xaxis": {
         "anchor": "y",
         "domain": [
          0,
          1
         ],
         "title": {
          "text": "trade_date"
         }
        },
        "yaxis": {
         "anchor": "x",
         "domain": [
          0,
          1
         ],
         "title": {
          "text": "ret"
         }
        }
       }
      },
      "text/html": [
       "<div>                            <div id=\"ec93c5e7-a22a-4712-a46c-24fe19444f4f\" class=\"plotly-graph-div\" style=\"height:525px; width:100%;\"></div>            <script type=\"text/javascript\">                require([\"plotly\"], function(Plotly) {                    window.PLOTLYENV=window.PLOTLYENV || {};                                    if (document.getElementById(\"ec93c5e7-a22a-4712-a46c-24fe19444f4f\")) {                    Plotly.newPlot(                        \"ec93c5e7-a22a-4712-a46c-24fe19444f4f\",                        [{\"hovertemplate\":\"trade_date=%{x}<br>ret=%{y}<extra></extra>\",\"legendgroup\":\"\",\"line\":{\"color\":\"#636efa\",\"dash\":\"solid\"},\"marker\":{\"symbol\":\"circle\"},\"mode\":\"lines\",\"name\":\"\",\"orientation\":\"v\",\"showlegend\":false,\"x\":[\"2018-01-02\",\"2018-01-03\",\"2018-01-04\",\"2018-01-05\",\"2018-01-08\",\"2018-01-09\",\"2018-01-10\",\"2018-01-11\",\"2018-01-12\",\"2018-01-16\",\"2018-01-17\",\"2018-01-18\",\"2018-01-19\",\"2018-01-22\",\"2018-01-23\",\"2018-01-24\",\"2018-01-25\",\"2018-01-26\",\"2018-01-29\",\"2018-01-30\",\"2018-01-31\",\"2018-02-01\",\"2018-02-02\",\"2018-02-05\",\"2018-02-06\",\"2018-02-07\",\"2018-02-08\",\"2018-02-09\",\"2018-02-12\",\"2018-02-13\",\"2018-02-14\",\"2018-02-15\",\"2018-02-16\",\"2018-02-20\",\"2018-02-21\",\"2018-02-22\",\"2018-02-23\",\"2018-02-26\",\"2018-02-27\",\"2018-02-28\",\"2018-03-01\",\"2018-03-02\",\"2018-03-05\",\"2018-03-06\",\"2018-03-07\",\"2018-03-08\",\"2018-03-09\",\"2018-03-12\",\"2018-03-13\",\"2018-03-14\",\"2018-03-15\",\"2018-03-16\",\"2018-03-19\",\"2018-03-20\",\"2018-03-21\",\"2018-03-22\",\"2018-03-23\",\"2018-03-26\",\"2018-03-27\",\"2018-03-28\",\"2018-03-29\",\"2018-04-02\",\"2018-04-03\",\"2018-04-04\",\"2018-04-05\",\"2018-04-06\",\"2018-04-09\",\"2018-04-10\",\"2018-04-11\",\"2018-04-12\",\"2018-04-13\",\"2018-04-16\",\"2018-04-17\",\"2018-04-18\",\"2018-04-19\",\"2018-04-20\",\"2018-04-23\",\"2018-04-24\",\"2018-04-25\",\"2018-04-26\",\"2018-04-27\",\"2018-04-30\",\"2018-05-01\",\"2018-05-02\",\"2018-05-03\",\"2018-05-04\",\"2018-05-07\",\"2018-05-08\",\"2018-05-09\",\"2018-05-10\",\"2018-05-11\",\"2018-05-14\",\"2018-05-15\",\"2018-05-16\",\"2018-05-17\",\"2018-05-18\",\"2018-05-21\",\"2018-05-22\",\"2018-05-23\",\"2018-05-24\",\"2018-05-25\",\"2018-05-29\",\"2018-05-30\",\"2018-05-31\",\"2018-06-01\",\"2018-06-04\",\"2018-06-05\",\"2018-06-06\",\"2018-06-07\",\"2018-06-08\",\"2018-06-11\",\"2018-06-12\",\"2018-06-13\",\"2018-06-14\",\"2018-06-15\",\"2018-06-18\",\"2018-06-19\",\"2018-06-20\",\"2018-06-21\",\"2018-06-22\",\"2018-06-25\",\"2018-06-26\",\"2018-06-27\",\"2018-06-28\",\"2018-06-29\",\"2018-07-02\",\"2018-07-03\",\"2018-07-05\",\"2018-07-06\",\"2018-07-09\",\"2018-07-10\",\"2018-07-11\",\"2018-07-12\",\"2018-07-13\",\"2018-07-16\",\"2018-07-17\",\"2018-07-18\",\"2018-07-19\",\"2018-07-20\",\"2018-07-23\",\"2018-07-24\",\"2018-07-25\",\"2018-07-26\",\"2018-07-27\",\"2018-07-30\",\"2018-07-31\",\"2018-08-01\",\"2018-08-02\",\"2018-08-03\",\"2018-08-06\",\"2018-08-07\",\"2018-08-08\",\"2018-08-09\",\"2018-08-10\",\"2018-08-13\",\"2018-08-14\",\"2018-08-15\",\"2018-08-16\",\"2018-08-17\",\"2018-08-20\",\"2018-08-21\",\"2018-08-22\",\"2018-08-23\",\"2018-08-24\",\"2018-08-27\",\"2018-08-28\",\"2018-08-29\",\"2018-08-30\",\"2018-08-31\",\"2018-09-04\",\"2018-09-05\",\"2018-09-06\",\"2018-09-07\",\"2018-09-10\",\"2018-09-11\",\"2018-09-12\",\"2018-09-13\",\"2018-09-14\",\"2018-09-17\",\"2018-09-18\",\"2018-09-19\",\"2018-09-20\",\"2018-09-21\",\"2018-09-24\",\"2018-09-25\",\"2018-09-26\",\"2018-09-27\",\"2018-09-28\",\"2018-10-01\",\"2018-10-02\",\"2018-10-03\",\"2018-10-04\",\"2018-10-05\",\"2018-10-08\",\"2018-10-09\",\"2018-10-10\",\"2018-10-11\",\"2018-10-12\",\"2018-10-15\",\"2018-10-16\",\"2018-10-17\",\"2018-10-18\",\"2018-10-19\",\"2018-10-22\",\"2018-10-23\",\"2018-10-24\",\"2018-10-25\",\"2018-10-26\",\"2018-10-29\",\"2018-10-30\",\"2018-10-31\",\"2018-11-01\",\"2018-11-02\",\"2018-11-05\",\"2018-11-06\",\"2018-11-07\",\"2018-11-08\",\"2018-11-09\",\"2018-11-12\",\"2018-11-13\",\"2018-11-14\",\"2018-11-15\",\"2018-11-16\",\"2018-11-19\",\"2018-11-20\",\"2018-11-21\",\"2018-11-23\",\"2018-11-26\",\"2018-11-27\",\"2018-11-28\",\"2018-11-29\",\"2018-11-30\",\"2018-12-03\",\"2018-12-04\",\"2018-12-05\",\"2018-12-06\",\"2018-12-07\",\"2018-12-10\",\"2018-12-11\",\"2018-12-12\",\"2018-12-13\",\"2018-12-14\",\"2018-12-17\",\"2018-12-18\",\"2018-12-19\",\"2018-12-20\",\"2018-12-21\",\"2018-12-24\",\"2018-12-26\",\"2018-12-27\",\"2018-12-28\",\"2018-12-31\"],\"xaxis\":\"x\",\"y\":[null,0.007082546898697251,0.004094452238140978,0.0064393342109798635,0.0023938350549270737,0.0018610602227455697,-0.000816329492351997,0.007142364351359287,0.007163819646243574,-0.0023160660526286847,0.008130431350598766,-0.0009467135515280889,0.00451005678539107,0.008525669215383003,0.0010232931049034555,0.0,0.0005655731082279125,0.011592961366157839,-0.006091000590011442,-0.010353557398515845,0.00034578878656343903,-0.0007971556358198351,-0.02205576069076043,-0.048015767017766664,0.023842385451897874,-0.005814384119694815,-0.031413671074687954,0.012168435140779144,0.011543386490666219,0.003170322178356999,0.014217619063666698,0.012678136306579102,7.29144640398971e-06,-0.006686207600548277,-0.005582429843427716,0.00396765347437289,0.014319010646432595,0.012489534668788327,-0.011938129347036308,-0.011444739912035984,-0.014051007282042671,0.004166837032438808,0.010223949657597764,0.0029276836489418034,-0.0007708860805740736,0.006084095063985329,0.016539227515227184,-2.5025472355610923e-05,-0.006438857665851727,-0.006484183557808776,0.0006664131399285456,0.0011871627172996835,-0.014908700477555659,0.0018752775300650004,-0.0021025332962154586,-0.02559189516573057,-0.020726442601089468,0.025015771899859818,-0.015199336483286419,-0.004862638095492144,0.013410790669888595,-0.02308462599429395,0.012490039686530396,0.012538442436629715,0.007617804306568221,-0.022467197891078983,0.0030989519490072226,0.0158554980619785,-0.004462120841901118,0.008008911377110017,-0.0026371880981903573,0.008961603323229816,0.010039719617470633,0.0007960785759038025,-0.006378293180529182,-0.007716426871845039,0.0005415863624818051,-0.013715249909473481,0.0026078432114700068,0.011208341512767506,-0.0006981232803578985,-0.009421908739735807,0.0027908520395849568,-0.008811848419658985,-4.9326690672479856e-05,0.011911086151417782,0.003509890315927633,-0.0006875651598774457,0.010343009494179656,0.008375494553893192,0.0028518366268315276,0.0001756742413983048,-0.006228021706595088,0.004514340210399093,-0.0012463114678984422,-0.002370946727102363,0.007280580091899358,-0.0027648120146970268,0.002354957680348546,-0.0018707706698235516,-0.002866325977772255,-0.010745661535524587,0.012272602444871605,-0.005854770886720928,0.009831398521971346,0.004743680570264086,0.0015664923292759703,0.007700458688962408,0.0007526378335553918,0.0016768682147110248,0.0008945090079572893,0.0011270072573523748,-0.0025060230597141464,0.0022679159972540663,-0.0015527504841138517,-0.0016844630729059284,-0.005227408457393001,0.002582231786043554,-0.006879037872584481,0.0032799151508104973,-0.01642561048458624,0.004707779061977835,-0.008356627600684341,0.0044813725635077795,0.0025561902099753286,0.0013573797434920376,-0.005367204730467368,0.008792253093127034,0.008766741152930635,0.009041650227850972,0.0035476638866469568,-0.007524198967701401,0.008215112782225642,0.0014467385868401905,-0.0009024594695822286,0.003937991802693386,0.0019950568111095635,-0.00417382415991141,-0.0008660631548934594,0.002268698031298033,0.0038402266409940378,0.008576432714534787,-0.002748962108615527,-0.0066410752619946445,-0.005592519650112537,0.006851539276805596,-0.0035087843657075624,0.0059539264259727,0.003924577400798102,0.0038000584624378053,0.0030839724652833578,-0.0010842914155599903,-0.0009699185198412952,-0.00581815122987317,-0.004075387620128823,0.005154018789513604,-0.006170013452883261,0.0075973947739562675,0.002964697938427241,0.0025246415534960764,0.0016263916141150414,-0.0005622018758686398,-0.000918896066915309,0.005458996328029597,0.007933609496680205,0.0005245141342755666,0.005076842424744044,-0.0038089878386911025,0.0005993675638809037,-0.0018968603690443508,-0.0036629657605827814,-0.0033821793420502066,-0.0019278196533398795,0.0020742339081560868,0.003671018403714754,3.806386424365371e-05,0.005844310879968395,0.0003749724790842457,-0.004890009181662935,0.004323110151187803,0.0014176295307373188,0.008098598808403024,0.00013633497503362513,-0.0038407142978854614,-0.0015839457011096458,-0.0041049187068479265,0.0030793367899892843,0.0008540793436278005,0.002625166643248189,-0.00015723431673142496,0.0006803162957973452,-0.007611629257626817,-0.005618248290771954,0.00013155617102289519,-0.0024680845171830557,-0.03390648043723432,-0.018412091780290463,0.012254919898418315,-0.005892411080624771,0.02154568958934111,0.00042004542186080407,-0.013282806717904938,-0.0032022271345475417,-0.003360839884378519,-0.0052996479001053975,-0.027829069809874762,0.00984219456164337,-0.010813081263520985,-0.009548431704851645,0.017034934895437948,0.011094282751263007,0.00869613341204234,-0.004791566842357486,0.006336208639148522,0.006175792791378143,0.02030112304084919,-0.002017111652644177,-0.010612131409342473,-0.017593163058320704,-0.0029376384467557637,-0.00844898424597329,0.01206736654672258,0.0034344611707957107,-0.016956458211572212,-0.020418552456543226,0.003508798549443748,-0.007578964875939342,0.017776135718720276,0.0021294113244265667,0.021973343690132596,-0.000409262487073625,0.007186959652861757,0.011044690527263423,-0.03200746697300405,0.0,-0.0013202593048612377,-0.023807224978461772,0.0033475731996333025,-0.0006900290797969832,0.00332732618799203,-0.0006314945623401291,-0.017473560739353355,-0.019598177666010796,-0.004022342857591732,-0.012853277802756025,-0.014159292035398119,-0.025641233470178437,-0.028803280870462245,0.05628289628649363,0.008441418904399534,-0.0036787912657857413,0.009168388429752206],\"yaxis\":\"y\",\"type\":\"scatter\"}],                        {\"template\":{\"data\":{\"histogram2dcontour\":[{\"type\":\"histogram2dcontour\",\"colorbar\":{\"outlinewidth\":0,\"ticks\":\"\"},\"colorscale\":[[0.0,\"#0d0887\"],[0.1111111111111111,\"#46039f\"],[0.2222222222222222,\"#7201a8\"],[0.3333333333333333,\"#9c179e\"],[0.4444444444444444,\"#bd3786\"],[0.5555555555555556,\"#d8576b\"],[0.6666666666666666,\"#ed7953\"],[0.7777777777777778,\"#fb9f3a\"],[0.8888888888888888,\"#fdca26\"],[1.0,\"#f0f921\"]]}],\"choropleth\":[{\"type\":\"choropleth\",\"colorbar\":{\"outlinewidth\":0,\"ticks\":\"\"}}],\"histogram2d\":[{\"type\":\"histogram2d\",\"colorbar\":{\"outlinewidth\":0,\"ticks\":\"\"},\"colorscale\":[[0.0,\"#0d0887\"],[0.1111111111111111,\"#46039f\"],[0.2222222222222222,\"#7201a8\"],[0.3333333333333333,\"#9c179e\"],[0.4444444444444444,\"#bd3786\"],[0.5555555555555556,\"#d8576b\"],[0.6666666666666666,\"#ed7953\"],[0.7777777777777778,\"#fb9f3a\"],[0.8888888888888888,\"#fdca26\"],[1.0,\"#f0f921\"]]}],\"heatmap\":[{\"type\":\"heatmap\",\"colorbar\":{\"outlinewidth\":0,\"ticks\":\"\"},\"colorscale\":[[0.0,\"#0d0887\"],[0.1111111111111111,\"#46039f\"],[0.2222222222222222,\"#7201a8\"],[0.3333333333333333,\"#9c179e\"],[0.4444444444444444,\"#bd3786\"],[0.5555555555555556,\"#d8576b\"],[0.6666666666666666,\"#ed7953\"],[0.7777777777777778,\"#fb9f3a\"],[0.8888888888888888,\"#fdca26\"],[1.0,\"#f0f921\"]]}],\"heatmapgl\":[{\"type\":\"heatmapgl\",\"colorbar\":{\"outlinewidth\":0,\"ticks\":\"\"},\"colorscale\":[[0.0,\"#0d0887\"],[0.1111111111111111,\"#46039f\"],[0.2222222222222222,\"#7201a8\"],[0.3333333333333333,\"#9c179e\"],[0.4444444444444444,\"#bd3786\"],[0.5555555555555556,\"#d8576b\"],[0.6666666666666666,\"#ed7953\"],[0.7777777777777778,\"#fb9f3a\"],[0.8888888888888888,\"#fdca26\"],[1.0,\"#f0f921\"]]}],\"contourcarpet\":[{\"type\":\"contourcarpet\",\"colorbar\":{\"outlinewidth\":0,\"ticks\":\"\"}}],\"contour\":[{\"type\":\"contour\",\"colorbar\":{\"outlinewidth\":0,\"ticks\":\"\"},\"colorscale\":[[0.0,\"#0d0887\"],[0.1111111111111111,\"#46039f\"],[0.2222222222222222,\"#7201a8\"],[0.3333333333333333,\"#9c179e\"],[0.4444444444444444,\"#bd3786\"],[0.5555555555555556,\"#d8576b\"],[0.6666666666666666,\"#ed7953\"],[0.7777777777777778,\"#fb9f3a\"],[0.8888888888888888,\"#fdca26\"],[1.0,\"#f0f921\"]]}],\"surface\":[{\"type\":\"surface\",\"colorbar\":{\"outlinewidth\":0,\"ticks\":\"\"},\"colorscale\":[[0.0,\"#0d0887\"],[0.1111111111111111,\"#46039f\"],[0.2222222222222222,\"#7201a8\"],[0.3333333333333333,\"#9c179e\"],[0.4444444444444444,\"#bd3786\"],[0.5555555555555556,\"#d8576b\"],[0.6666666666666666,\"#ed7953\"],[0.7777777777777778,\"#fb9f3a\"],[0.8888888888888888,\"#fdca26\"],[1.0,\"#f0f921\"]]}],\"mesh3d\":[{\"type\":\"mesh3d\",\"colorbar\":{\"outlinewidth\":0,\"ticks\":\"\"}}],\"scatter\":[{\"fillpattern\":{\"fillmode\":\"overlay\",\"size\":10,\"solidity\":0.2},\"type\":\"scatter\"}],\"parcoords\":[{\"type\":\"parcoords\",\"line\":{\"colorbar\":{\"outlinewidth\":0,\"ticks\":\"\"}}}],\"scatterpolargl\":[{\"type\":\"scatterpolargl\",\"marker\":{\"colorbar\":{\"outlinewidth\":0,\"ticks\":\"\"}}}],\"bar\":[{\"error_x\":{\"color\":\"#2a3f5f\"},\"error_y\":{\"color\":\"#2a3f5f\"},\"marker\":{\"line\":{\"color\":\"#E5ECF6\",\"width\":0.5},\"pattern\":{\"fillmode\":\"overlay\",\"size\":10,\"solidity\":0.2}},\"type\":\"bar\"}],\"scattergeo\":[{\"type\":\"scattergeo\",\"marker\":{\"colorbar\":{\"outlinewidth\":0,\"ticks\":\"\"}}}],\"scatterpolar\":[{\"type\":\"scatterpolar\",\"marker\":{\"colorbar\":{\"outlinewidth\":0,\"ticks\":\"\"}}}],\"histogram\":[{\"marker\":{\"pattern\":{\"fillmode\":\"overlay\",\"size\":10,\"solidity\":0.2}},\"type\":\"histogram\"}],\"scattergl\":[{\"type\":\"scattergl\",\"marker\":{\"colorbar\":{\"outlinewidth\":0,\"ticks\":\"\"}}}],\"scatter3d\":[{\"type\":\"scatter3d\",\"line\":{\"colorbar\":{\"outlinewidth\":0,\"ticks\":\"\"}},\"marker\":{\"colorbar\":{\"outlinewidth\":0,\"ticks\":\"\"}}}],\"scattermapbox\":[{\"type\":\"scattermapbox\",\"marker\":{\"colorbar\":{\"outlinewidth\":0,\"ticks\":\"\"}}}],\"scatterternary\":[{\"type\":\"scatterternary\",\"marker\":{\"colorbar\":{\"outlinewidth\":0,\"ticks\":\"\"}}}],\"scattercarpet\":[{\"type\":\"scattercarpet\",\"marker\":{\"colorbar\":{\"outlinewidth\":0,\"ticks\":\"\"}}}],\"carpet\":[{\"aaxis\":{\"endlinecolor\":\"#2a3f5f\",\"gridcolor\":\"white\",\"linecolor\":\"white\",\"minorgridcolor\":\"white\",\"startlinecolor\":\"#2a3f5f\"},\"baxis\":{\"endlinecolor\":\"#2a3f5f\",\"gridcolor\":\"white\",\"linecolor\":\"white\",\"minorgridcolor\":\"white\",\"startlinecolor\":\"#2a3f5f\"},\"type\":\"carpet\"}],\"table\":[{\"cells\":{\"fill\":{\"color\":\"#EBF0F8\"},\"line\":{\"color\":\"white\"}},\"header\":{\"fill\":{\"color\":\"#C8D4E3\"},\"line\":{\"color\":\"white\"}},\"type\":\"table\"}],\"barpolar\":[{\"marker\":{\"line\":{\"color\":\"#E5ECF6\",\"width\":0.5},\"pattern\":{\"fillmode\":\"overlay\",\"size\":10,\"solidity\":0.2}},\"type\":\"barpolar\"}],\"pie\":[{\"automargin\":true,\"type\":\"pie\"}]},\"layout\":{\"autotypenumbers\":\"strict\",\"colorway\":[\"#636efa\",\"#EF553B\",\"#00cc96\",\"#ab63fa\",\"#FFA15A\",\"#19d3f3\",\"#FF6692\",\"#B6E880\",\"#FF97FF\",\"#FECB52\"],\"font\":{\"color\":\"#2a3f5f\"},\"hovermode\":\"closest\",\"hoverlabel\":{\"align\":\"left\"},\"paper_bgcolor\":\"white\",\"plot_bgcolor\":\"#E5ECF6\",\"polar\":{\"bgcolor\":\"#E5ECF6\",\"angularaxis\":{\"gridcolor\":\"white\",\"linecolor\":\"white\",\"ticks\":\"\"},\"radialaxis\":{\"gridcolor\":\"white\",\"linecolor\":\"white\",\"ticks\":\"\"}},\"ternary\":{\"bgcolor\":\"#E5ECF6\",\"aaxis\":{\"gridcolor\":\"white\",\"linecolor\":\"white\",\"ticks\":\"\"},\"baxis\":{\"gridcolor\":\"white\",\"linecolor\":\"white\",\"ticks\":\"\"},\"caxis\":{\"gridcolor\":\"white\",\"linecolor\":\"white\",\"ticks\":\"\"}},\"coloraxis\":{\"colorbar\":{\"outlinewidth\":0,\"ticks\":\"\"}},\"colorscale\":{\"sequential\":[[0.0,\"#0d0887\"],[0.1111111111111111,\"#46039f\"],[0.2222222222222222,\"#7201a8\"],[0.3333333333333333,\"#9c179e\"],[0.4444444444444444,\"#bd3786\"],[0.5555555555555556,\"#d8576b\"],[0.6666666666666666,\"#ed7953\"],[0.7777777777777778,\"#fb9f3a\"],[0.8888888888888888,\"#fdca26\"],[1.0,\"#f0f921\"]],\"sequentialminus\":[[0.0,\"#0d0887\"],[0.1111111111111111,\"#46039f\"],[0.2222222222222222,\"#7201a8\"],[0.3333333333333333,\"#9c179e\"],[0.4444444444444444,\"#bd3786\"],[0.5555555555555556,\"#d8576b\"],[0.6666666666666666,\"#ed7953\"],[0.7777777777777778,\"#fb9f3a\"],[0.8888888888888888,\"#fdca26\"],[1.0,\"#f0f921\"]],\"diverging\":[[0,\"#8e0152\"],[0.1,\"#c51b7d\"],[0.2,\"#de77ae\"],[0.3,\"#f1b6da\"],[0.4,\"#fde0ef\"],[0.5,\"#f7f7f7\"],[0.6,\"#e6f5d0\"],[0.7,\"#b8e186\"],[0.8,\"#7fbc41\"],[0.9,\"#4d9221\"],[1,\"#276419\"]]},\"xaxis\":{\"gridcolor\":\"white\",\"linecolor\":\"white\",\"ticks\":\"\",\"title\":{\"standoff\":15},\"zerolinecolor\":\"white\",\"automargin\":true,\"zerolinewidth\":2},\"yaxis\":{\"gridcolor\":\"white\",\"linecolor\":\"white\",\"ticks\":\"\",\"title\":{\"standoff\":15},\"zerolinecolor\":\"white\",\"automargin\":true,\"zerolinewidth\":2},\"scene\":{\"xaxis\":{\"backgroundcolor\":\"#E5ECF6\",\"gridcolor\":\"white\",\"linecolor\":\"white\",\"showbackground\":true,\"ticks\":\"\",\"zerolinecolor\":\"white\",\"gridwidth\":2},\"yaxis\":{\"backgroundcolor\":\"#E5ECF6\",\"gridcolor\":\"white\",\"linecolor\":\"white\",\"showbackground\":true,\"ticks\":\"\",\"zerolinecolor\":\"white\",\"gridwidth\":2},\"zaxis\":{\"backgroundcolor\":\"#E5ECF6\",\"gridcolor\":\"white\",\"linecolor\":\"white\",\"showbackground\":true,\"ticks\":\"\",\"zerolinecolor\":\"white\",\"gridwidth\":2}},\"shapedefaults\":{\"line\":{\"color\":\"#2a3f5f\"}},\"annotationdefaults\":{\"arrowcolor\":\"#2a3f5f\",\"arrowhead\":0,\"arrowwidth\":1},\"geo\":{\"bgcolor\":\"white\",\"landcolor\":\"#E5ECF6\",\"subunitcolor\":\"white\",\"showland\":true,\"showlakes\":true,\"lakecolor\":\"white\"},\"title\":{\"x\":0.05},\"mapbox\":{\"style\":\"light\"}}},\"xaxis\":{\"anchor\":\"y\",\"domain\":[0.0,1.0],\"title\":{\"text\":\"trade_date\"}},\"yaxis\":{\"anchor\":\"x\",\"domain\":[0.0,1.0],\"title\":{\"text\":\"ret\"}},\"legend\":{\"tracegroupgap\":0},\"title\":{\"text\":\"SPY Daily Returns\"}},                        {\"responsive\": true}                    ).then(function(){\n",
       "                            \n",
       "var gd = document.getElementById('ec93c5e7-a22a-4712-a46c-24fe19444f4f');\n",
       "var x = new MutationObserver(function (mutations, observer) {{\n",
       "        var display = window.getComputedStyle(gd).display;\n",
       "        if (!display || display === 'none') {{\n",
       "            console.log([gd, 'removed!']);\n",
       "            Plotly.purge(gd);\n",
       "            observer.disconnect();\n",
       "        }}\n",
       "}});\n",
       "\n",
       "// Listen for the removal of the full notebook cells\n",
       "var notebookContainer = gd.closest('#notebook-container');\n",
       "if (notebookContainer) {{\n",
       "    x.observe(notebookContainer, {childList: true});\n",
       "}}\n",
       "\n",
       "// Listen for the clearing of the current output cell\n",
       "var outputEl = gd.closest('.output');\n",
       "if (outputEl) {{\n",
       "    x.observe(outputEl, {childList: true});\n",
       "}}\n",
       "\n",
       "                        })                };                });            </script>        </div>"
      ]
     },
     "metadata": {},
     "output_type": "display_data"
    }
   ],
   "source": [
    "# plot underlying price\n",
    "fig = px.line(df_option_data, x='trade_date', y='ret', title = \"SPY Daily Returns\")\n",
    "fig.show()"
   ]
  },
  {
   "cell_type": "markdown",
   "metadata": {},
   "source": []
  },
  {
   "cell_type": "code",
   "execution_count": 33,
   "metadata": {},
   "outputs": [
    {
     "name": "stdout",
     "output_type": "stream",
     "text": [
      "Realized volatility (pricing volatility) is:\n"
     ]
    },
    {
     "data": {
      "text/plain": [
       "0.1719"
      ]
     },
     "execution_count": 33,
     "metadata": {},
     "output_type": "execute_result"
    }
   ],
   "source": [
    "# Calculate standard deviation of daily returns of the underlying (realized volatility)\n",
    "real_vol = df_option_data['ret'].std() * np.sqrt(252)\n",
    "df_option_data['realized_vol'] = df_option_data['ret'].rolling(251).std() * np.sqrt(252)\n",
    "print(\"Realized volatility (pricing volatility) is:\")\n",
    "np.round(real_vol, 6)\n",
    "#df_option_data['ret'].std() * np.sqrt(252)\n",
    "#df_option_data['ret'].std()"
   ]
  },
  {
   "cell_type": "markdown",
   "metadata": {},
   "source": [
    "#### Realized volatility (pricing volatility) is: 0.1719. "
   ]
  },
  {
   "cell_type": "markdown",
   "metadata": {},
   "source": [
    "### 3. This is greater than the implied volatility, and given we have a short position we lost money. <br>\n",
    "\n",
    "#### Pricing volatility is greater than implied volatility. Given we have a short position we lost money on the option. (On a short position, if realized vol = implied vol, break even. If realized vol > implied then lose money)"
   ]
  },
  {
   "cell_type": "markdown",
   "metadata": {},
   "source": [
    "### 4. What is the cumulative profit-and-loss on the delta hedged position?"
   ]
  },
  {
   "cell_type": "code",
   "execution_count": 38,
   "metadata": {},
   "outputs": [
    {
     "data": {
      "text/html": [
       "<div>\n",
       "<style scoped>\n",
       "    .dataframe tbody tr th:only-of-type {\n",
       "        vertical-align: middle;\n",
       "    }\n",
       "\n",
       "    .dataframe tbody tr th {\n",
       "        vertical-align: top;\n",
       "    }\n",
       "\n",
       "    .dataframe thead th {\n",
       "        text-align: right;\n",
       "    }\n",
       "</style>\n",
       "<table border=\"1\" class=\"dataframe\">\n",
       "  <thead>\n",
       "    <tr style=\"text-align: right;\">\n",
       "      <th></th>\n",
       "      <th>underlying</th>\n",
       "      <th>cp</th>\n",
       "      <th>strike</th>\n",
       "      <th>volatility</th>\n",
       "      <th>upx</th>\n",
       "      <th>d2x</th>\n",
       "      <th>buy_sell</th>\n",
       "      <th>t2x</th>\n",
       "    </tr>\n",
       "  </thead>\n",
       "  <tbody>\n",
       "    <tr>\n",
       "      <th>0</th>\n",
       "      <td>SPY</td>\n",
       "      <td>p</td>\n",
       "      <td>269</td>\n",
       "      <td>0.13</td>\n",
       "      <td>269.68</td>\n",
       "      <td>251</td>\n",
       "      <td>-1</td>\n",
       "      <td>1.00</td>\n",
       "    </tr>\n",
       "    <tr>\n",
       "      <th>1</th>\n",
       "      <td>SPY</td>\n",
       "      <td>p</td>\n",
       "      <td>269</td>\n",
       "      <td>0.13</td>\n",
       "      <td>271.59</td>\n",
       "      <td>250</td>\n",
       "      <td>-1</td>\n",
       "      <td>0.99</td>\n",
       "    </tr>\n",
       "    <tr>\n",
       "      <th>2</th>\n",
       "      <td>SPY</td>\n",
       "      <td>p</td>\n",
       "      <td>269</td>\n",
       "      <td>0.13</td>\n",
       "      <td>272.70</td>\n",
       "      <td>249</td>\n",
       "      <td>-1</td>\n",
       "      <td>0.99</td>\n",
       "    </tr>\n",
       "    <tr>\n",
       "      <th>3</th>\n",
       "      <td>SPY</td>\n",
       "      <td>p</td>\n",
       "      <td>269</td>\n",
       "      <td>0.14</td>\n",
       "      <td>274.45</td>\n",
       "      <td>248</td>\n",
       "      <td>-1</td>\n",
       "      <td>0.98</td>\n",
       "    </tr>\n",
       "    <tr>\n",
       "      <th>4</th>\n",
       "      <td>SPY</td>\n",
       "      <td>p</td>\n",
       "      <td>269</td>\n",
       "      <td>0.14</td>\n",
       "      <td>275.11</td>\n",
       "      <td>247</td>\n",
       "      <td>-1</td>\n",
       "      <td>0.98</td>\n",
       "    </tr>\n",
       "    <tr>\n",
       "      <th>...</th>\n",
       "      <td>...</td>\n",
       "      <td>...</td>\n",
       "      <td>...</td>\n",
       "      <td>...</td>\n",
       "      <td>...</td>\n",
       "      <td>...</td>\n",
       "      <td>...</td>\n",
       "      <td>...</td>\n",
       "    </tr>\n",
       "    <tr>\n",
       "      <th>247</th>\n",
       "      <td>SPY</td>\n",
       "      <td>p</td>\n",
       "      <td>269</td>\n",
       "      <td>0.59</td>\n",
       "      <td>233.50</td>\n",
       "      <td>4</td>\n",
       "      <td>-1</td>\n",
       "      <td>0.02</td>\n",
       "    </tr>\n",
       "    <tr>\n",
       "      <th>248</th>\n",
       "      <td>SPY</td>\n",
       "      <td>p</td>\n",
       "      <td>269</td>\n",
       "      <td>0.43</td>\n",
       "      <td>246.64</td>\n",
       "      <td>3</td>\n",
       "      <td>-1</td>\n",
       "      <td>0.01</td>\n",
       "    </tr>\n",
       "    <tr>\n",
       "      <th>249</th>\n",
       "      <td>SPY</td>\n",
       "      <td>p</td>\n",
       "      <td>269</td>\n",
       "      <td>0.40</td>\n",
       "      <td>248.72</td>\n",
       "      <td>2</td>\n",
       "      <td>-1</td>\n",
       "      <td>0.01</td>\n",
       "    </tr>\n",
       "    <tr>\n",
       "      <th>250</th>\n",
       "      <td>SPY</td>\n",
       "      <td>p</td>\n",
       "      <td>269</td>\n",
       "      <td>0.52</td>\n",
       "      <td>247.81</td>\n",
       "      <td>1</td>\n",
       "      <td>-1</td>\n",
       "      <td>0.00</td>\n",
       "    </tr>\n",
       "    <tr>\n",
       "      <th>251</th>\n",
       "      <td>SPY</td>\n",
       "      <td>p</td>\n",
       "      <td>269</td>\n",
       "      <td>0.00</td>\n",
       "      <td>250.08</td>\n",
       "      <td>0</td>\n",
       "      <td>-1</td>\n",
       "      <td>0.00</td>\n",
       "    </tr>\n",
       "  </tbody>\n",
       "</table>\n",
       "<p>252 rows × 8 columns</p>\n",
       "</div>"
      ],
      "text/plain": [
       "    underlying cp  strike  volatility    upx  d2x  buy_sell  t2x\n",
       "0          SPY  p     269        0.13 269.68  251        -1 1.00\n",
       "1          SPY  p     269        0.13 271.59  250        -1 0.99\n",
       "2          SPY  p     269        0.13 272.70  249        -1 0.99\n",
       "3          SPY  p     269        0.14 274.45  248        -1 0.98\n",
       "4          SPY  p     269        0.14 275.11  247        -1 0.98\n",
       "..         ... ..     ...         ...    ...  ...       ...  ...\n",
       "247        SPY  p     269        0.59 233.50    4        -1 0.02\n",
       "248        SPY  p     269        0.43 246.64    3        -1 0.01\n",
       "249        SPY  p     269        0.40 248.72    2        -1 0.01\n",
       "250        SPY  p     269        0.52 247.81    1        -1 0.00\n",
       "251        SPY  p     269        0.00 250.08    0        -1 0.00\n",
       "\n",
       "[252 rows x 8 columns]"
      ]
     },
     "execution_count": 38,
     "metadata": {},
     "output_type": "execute_result"
    }
   ],
   "source": [
    "df_path = \\\n",
    "    (\n",
    "    pd.DataFrame(\n",
    "        {'underlying':'SPY',\n",
    "         'cp':'p',\n",
    "         'strike':269,\n",
    "         'volatility': df_option_data['volatility'],\n",
    "         'upx':df_option_data['upx'], \n",
    "         'd2x':list(range(251, -1, -1)),\n",
    "         'buy_sell':-1,\n",
    "        }       \n",
    "    )\n",
    "    .assign(t2x = lambda df: df.d2x / 252)\n",
    "    )\n",
    "df_path\n",
    "\n",
    "# t2x = time to expiration\n",
    "# d2x = trading days to expiration"
   ]
  },
  {
   "cell_type": "code",
   "execution_count": 39,
   "metadata": {},
   "outputs": [],
   "source": [
    "# Function to calculate price of the option (vectorized)\n",
    "def bsm_px(row):\n",
    "    cp = row['cp']\n",
    "    upx = row['upx']\n",
    "    strike = row['strike']\n",
    "    t2x = row['t2x']\n",
    "    rf = 0\n",
    "    volatility = row['volatility']\n",
    "    q = 0\n",
    "    px = black_scholes_merton(cp, upx, strike, t2x, rf, volatility, q)\n",
    "    px = np.round(px, 2)\n",
    "    return(px)"
   ]
  },
  {
   "cell_type": "code",
   "execution_count": 40,
   "metadata": {},
   "outputs": [],
   "source": [
    "def bsm_delta(row):\n",
    "    cp = row['cp']\n",
    "    upx = row['upx']\n",
    "    strike = row['strike']\n",
    "    t2x = row['t2x']\n",
    "    rf = 0\n",
    "    volatility = row['volatility']\n",
    "    q = 0\n",
    "    if t2x == 0:\n",
    "        return(0)\n",
    "    diff = delta(cp, upx, strike, t2x, rf, volatility, q)\n",
    "    diff = np.round(diff, 3)\n",
    "    return(diff)"
   ]
  },
  {
   "cell_type": "code",
   "execution_count": 41,
   "metadata": {},
   "outputs": [],
   "source": [
    "def bsm_vega(row):\n",
    "    cp = row['cp']\n",
    "    upx = row['upx']\n",
    "    strike = row['strike']\n",
    "    t2x = row['t2x']\n",
    "    rf = 0\n",
    "    volatility = row['volatility']\n",
    "    q = 0\n",
    "    if t2x == 0:\n",
    "        return(0)\n",
    "    vga = vega(cp, upx, strike, t2x, rf, volatility, q)\n",
    "    vga = np.round(vga, 3)\n",
    "    return(vga)"
   ]
  },
  {
   "cell_type": "code",
   "execution_count": 42,
   "metadata": {},
   "outputs": [
    {
     "data": {
      "text/html": [
       "<div>\n",
       "<style scoped>\n",
       "    .dataframe tbody tr th:only-of-type {\n",
       "        vertical-align: middle;\n",
       "    }\n",
       "\n",
       "    .dataframe tbody tr th {\n",
       "        vertical-align: top;\n",
       "    }\n",
       "\n",
       "    .dataframe thead th {\n",
       "        text-align: right;\n",
       "    }\n",
       "</style>\n",
       "<table border=\"1\" class=\"dataframe\">\n",
       "  <thead>\n",
       "    <tr style=\"text-align: right;\">\n",
       "      <th></th>\n",
       "      <th>underlying</th>\n",
       "      <th>cp</th>\n",
       "      <th>strike</th>\n",
       "      <th>volatility</th>\n",
       "      <th>upx</th>\n",
       "      <th>d2x</th>\n",
       "      <th>buy_sell</th>\n",
       "      <th>t2x</th>\n",
       "      <th>option_price</th>\n",
       "    </tr>\n",
       "  </thead>\n",
       "  <tbody>\n",
       "    <tr>\n",
       "      <th>0</th>\n",
       "      <td>SPY</td>\n",
       "      <td>p</td>\n",
       "      <td>269</td>\n",
       "      <td>0.13</td>\n",
       "      <td>269.68</td>\n",
       "      <td>251</td>\n",
       "      <td>-1</td>\n",
       "      <td>1.00</td>\n",
       "      <td>13.88</td>\n",
       "    </tr>\n",
       "    <tr>\n",
       "      <th>1</th>\n",
       "      <td>SPY</td>\n",
       "      <td>p</td>\n",
       "      <td>269</td>\n",
       "      <td>0.13</td>\n",
       "      <td>271.59</td>\n",
       "      <td>250</td>\n",
       "      <td>-1</td>\n",
       "      <td>0.99</td>\n",
       "      <td>12.98</td>\n",
       "    </tr>\n",
       "    <tr>\n",
       "      <th>2</th>\n",
       "      <td>SPY</td>\n",
       "      <td>p</td>\n",
       "      <td>269</td>\n",
       "      <td>0.13</td>\n",
       "      <td>272.70</td>\n",
       "      <td>249</td>\n",
       "      <td>-1</td>\n",
       "      <td>0.99</td>\n",
       "      <td>12.61</td>\n",
       "    </tr>\n",
       "    <tr>\n",
       "      <th>3</th>\n",
       "      <td>SPY</td>\n",
       "      <td>p</td>\n",
       "      <td>269</td>\n",
       "      <td>0.14</td>\n",
       "      <td>274.45</td>\n",
       "      <td>248</td>\n",
       "      <td>-1</td>\n",
       "      <td>0.98</td>\n",
       "      <td>12.08</td>\n",
       "    </tr>\n",
       "    <tr>\n",
       "      <th>4</th>\n",
       "      <td>SPY</td>\n",
       "      <td>p</td>\n",
       "      <td>269</td>\n",
       "      <td>0.14</td>\n",
       "      <td>275.11</td>\n",
       "      <td>247</td>\n",
       "      <td>-1</td>\n",
       "      <td>0.98</td>\n",
       "      <td>11.85</td>\n",
       "    </tr>\n",
       "    <tr>\n",
       "      <th>...</th>\n",
       "      <td>...</td>\n",
       "      <td>...</td>\n",
       "      <td>...</td>\n",
       "      <td>...</td>\n",
       "      <td>...</td>\n",
       "      <td>...</td>\n",
       "      <td>...</td>\n",
       "      <td>...</td>\n",
       "      <td>...</td>\n",
       "    </tr>\n",
       "    <tr>\n",
       "      <th>247</th>\n",
       "      <td>SPY</td>\n",
       "      <td>p</td>\n",
       "      <td>269</td>\n",
       "      <td>0.59</td>\n",
       "      <td>233.50</td>\n",
       "      <td>4</td>\n",
       "      <td>-1</td>\n",
       "      <td>0.02</td>\n",
       "      <td>35.70</td>\n",
       "    </tr>\n",
       "    <tr>\n",
       "      <th>248</th>\n",
       "      <td>SPY</td>\n",
       "      <td>p</td>\n",
       "      <td>269</td>\n",
       "      <td>0.43</td>\n",
       "      <td>246.64</td>\n",
       "      <td>3</td>\n",
       "      <td>-1</td>\n",
       "      <td>0.01</td>\n",
       "      <td>22.51</td>\n",
       "    </tr>\n",
       "    <tr>\n",
       "      <th>249</th>\n",
       "      <td>SPY</td>\n",
       "      <td>p</td>\n",
       "      <td>269</td>\n",
       "      <td>0.40</td>\n",
       "      <td>248.72</td>\n",
       "      <td>2</td>\n",
       "      <td>-1</td>\n",
       "      <td>0.01</td>\n",
       "      <td>20.32</td>\n",
       "    </tr>\n",
       "    <tr>\n",
       "      <th>250</th>\n",
       "      <td>SPY</td>\n",
       "      <td>p</td>\n",
       "      <td>269</td>\n",
       "      <td>0.52</td>\n",
       "      <td>247.81</td>\n",
       "      <td>1</td>\n",
       "      <td>-1</td>\n",
       "      <td>0.00</td>\n",
       "      <td>21.21</td>\n",
       "    </tr>\n",
       "    <tr>\n",
       "      <th>251</th>\n",
       "      <td>SPY</td>\n",
       "      <td>p</td>\n",
       "      <td>269</td>\n",
       "      <td>0.00</td>\n",
       "      <td>250.08</td>\n",
       "      <td>0</td>\n",
       "      <td>-1</td>\n",
       "      <td>0.00</td>\n",
       "      <td>18.92</td>\n",
       "    </tr>\n",
       "  </tbody>\n",
       "</table>\n",
       "<p>252 rows × 9 columns</p>\n",
       "</div>"
      ],
      "text/plain": [
       "    underlying cp  strike  volatility    upx  d2x  buy_sell  t2x  option_price\n",
       "0          SPY  p     269        0.13 269.68  251        -1 1.00         13.88\n",
       "1          SPY  p     269        0.13 271.59  250        -1 0.99         12.98\n",
       "2          SPY  p     269        0.13 272.70  249        -1 0.99         12.61\n",
       "3          SPY  p     269        0.14 274.45  248        -1 0.98         12.08\n",
       "4          SPY  p     269        0.14 275.11  247        -1 0.98         11.85\n",
       "..         ... ..     ...         ...    ...  ...       ...  ...           ...\n",
       "247        SPY  p     269        0.59 233.50    4        -1 0.02         35.70\n",
       "248        SPY  p     269        0.43 246.64    3        -1 0.01         22.51\n",
       "249        SPY  p     269        0.40 248.72    2        -1 0.01         20.32\n",
       "250        SPY  p     269        0.52 247.81    1        -1 0.00         21.21\n",
       "251        SPY  p     269        0.00 250.08    0        -1 0.00         18.92\n",
       "\n",
       "[252 rows x 9 columns]"
      ]
     },
     "execution_count": 42,
     "metadata": {},
     "output_type": "execute_result"
    }
   ],
   "source": [
    "df_path['option_price'] = df_path[['cp', 'upx', 'strike', 't2x', 'volatility']].apply(bsm_px, axis = 1)\n",
    "df_path"
   ]
  },
  {
   "cell_type": "code",
   "execution_count": 43,
   "metadata": {},
   "outputs": [
    {
     "data": {
      "text/html": [
       "<div>\n",
       "<style scoped>\n",
       "    .dataframe tbody tr th:only-of-type {\n",
       "        vertical-align: middle;\n",
       "    }\n",
       "\n",
       "    .dataframe tbody tr th {\n",
       "        vertical-align: top;\n",
       "    }\n",
       "\n",
       "    .dataframe thead th {\n",
       "        text-align: right;\n",
       "    }\n",
       "</style>\n",
       "<table border=\"1\" class=\"dataframe\">\n",
       "  <thead>\n",
       "    <tr style=\"text-align: right;\">\n",
       "      <th></th>\n",
       "      <th>underlying</th>\n",
       "      <th>cp</th>\n",
       "      <th>strike</th>\n",
       "      <th>volatility</th>\n",
       "      <th>upx</th>\n",
       "      <th>d2x</th>\n",
       "      <th>buy_sell</th>\n",
       "      <th>t2x</th>\n",
       "      <th>option_price</th>\n",
       "      <th>delta</th>\n",
       "    </tr>\n",
       "  </thead>\n",
       "  <tbody>\n",
       "    <tr>\n",
       "      <th>0</th>\n",
       "      <td>SPY</td>\n",
       "      <td>p</td>\n",
       "      <td>269</td>\n",
       "      <td>0.13</td>\n",
       "      <td>269.68</td>\n",
       "      <td>251</td>\n",
       "      <td>-1</td>\n",
       "      <td>1.00</td>\n",
       "      <td>13.88</td>\n",
       "      <td>-0.47</td>\n",
       "    </tr>\n",
       "    <tr>\n",
       "      <th>1</th>\n",
       "      <td>SPY</td>\n",
       "      <td>p</td>\n",
       "      <td>269</td>\n",
       "      <td>0.13</td>\n",
       "      <td>271.59</td>\n",
       "      <td>250</td>\n",
       "      <td>-1</td>\n",
       "      <td>0.99</td>\n",
       "      <td>12.98</td>\n",
       "      <td>-0.45</td>\n",
       "    </tr>\n",
       "    <tr>\n",
       "      <th>2</th>\n",
       "      <td>SPY</td>\n",
       "      <td>p</td>\n",
       "      <td>269</td>\n",
       "      <td>0.13</td>\n",
       "      <td>272.70</td>\n",
       "      <td>249</td>\n",
       "      <td>-1</td>\n",
       "      <td>0.99</td>\n",
       "      <td>12.61</td>\n",
       "      <td>-0.43</td>\n",
       "    </tr>\n",
       "    <tr>\n",
       "      <th>3</th>\n",
       "      <td>SPY</td>\n",
       "      <td>p</td>\n",
       "      <td>269</td>\n",
       "      <td>0.14</td>\n",
       "      <td>274.45</td>\n",
       "      <td>248</td>\n",
       "      <td>-1</td>\n",
       "      <td>0.98</td>\n",
       "      <td>12.08</td>\n",
       "      <td>-0.41</td>\n",
       "    </tr>\n",
       "    <tr>\n",
       "      <th>4</th>\n",
       "      <td>SPY</td>\n",
       "      <td>p</td>\n",
       "      <td>269</td>\n",
       "      <td>0.14</td>\n",
       "      <td>275.11</td>\n",
       "      <td>247</td>\n",
       "      <td>-1</td>\n",
       "      <td>0.98</td>\n",
       "      <td>11.85</td>\n",
       "      <td>-0.41</td>\n",
       "    </tr>\n",
       "    <tr>\n",
       "      <th>...</th>\n",
       "      <td>...</td>\n",
       "      <td>...</td>\n",
       "      <td>...</td>\n",
       "      <td>...</td>\n",
       "      <td>...</td>\n",
       "      <td>...</td>\n",
       "      <td>...</td>\n",
       "      <td>...</td>\n",
       "      <td>...</td>\n",
       "      <td>...</td>\n",
       "    </tr>\n",
       "    <tr>\n",
       "      <th>247</th>\n",
       "      <td>SPY</td>\n",
       "      <td>p</td>\n",
       "      <td>269</td>\n",
       "      <td>0.59</td>\n",
       "      <td>233.50</td>\n",
       "      <td>4</td>\n",
       "      <td>-1</td>\n",
       "      <td>0.02</td>\n",
       "      <td>35.70</td>\n",
       "      <td>-0.97</td>\n",
       "    </tr>\n",
       "    <tr>\n",
       "      <th>248</th>\n",
       "      <td>SPY</td>\n",
       "      <td>p</td>\n",
       "      <td>269</td>\n",
       "      <td>0.43</td>\n",
       "      <td>246.64</td>\n",
       "      <td>3</td>\n",
       "      <td>-1</td>\n",
       "      <td>0.01</td>\n",
       "      <td>22.51</td>\n",
       "      <td>-0.97</td>\n",
       "    </tr>\n",
       "    <tr>\n",
       "      <th>249</th>\n",
       "      <td>SPY</td>\n",
       "      <td>p</td>\n",
       "      <td>269</td>\n",
       "      <td>0.40</td>\n",
       "      <td>248.72</td>\n",
       "      <td>2</td>\n",
       "      <td>-1</td>\n",
       "      <td>0.01</td>\n",
       "      <td>20.32</td>\n",
       "      <td>-0.98</td>\n",
       "    </tr>\n",
       "    <tr>\n",
       "      <th>250</th>\n",
       "      <td>SPY</td>\n",
       "      <td>p</td>\n",
       "      <td>269</td>\n",
       "      <td>0.52</td>\n",
       "      <td>247.81</td>\n",
       "      <td>1</td>\n",
       "      <td>-1</td>\n",
       "      <td>0.00</td>\n",
       "      <td>21.21</td>\n",
       "      <td>-0.99</td>\n",
       "    </tr>\n",
       "    <tr>\n",
       "      <th>251</th>\n",
       "      <td>SPY</td>\n",
       "      <td>p</td>\n",
       "      <td>269</td>\n",
       "      <td>0.00</td>\n",
       "      <td>250.08</td>\n",
       "      <td>0</td>\n",
       "      <td>-1</td>\n",
       "      <td>0.00</td>\n",
       "      <td>18.92</td>\n",
       "      <td>0.00</td>\n",
       "    </tr>\n",
       "  </tbody>\n",
       "</table>\n",
       "<p>252 rows × 10 columns</p>\n",
       "</div>"
      ],
      "text/plain": [
       "    underlying cp  strike  volatility    upx  d2x  buy_sell  t2x  \\\n",
       "0          SPY  p     269        0.13 269.68  251        -1 1.00   \n",
       "1          SPY  p     269        0.13 271.59  250        -1 0.99   \n",
       "2          SPY  p     269        0.13 272.70  249        -1 0.99   \n",
       "3          SPY  p     269        0.14 274.45  248        -1 0.98   \n",
       "4          SPY  p     269        0.14 275.11  247        -1 0.98   \n",
       "..         ... ..     ...         ...    ...  ...       ...  ...   \n",
       "247        SPY  p     269        0.59 233.50    4        -1 0.02   \n",
       "248        SPY  p     269        0.43 246.64    3        -1 0.01   \n",
       "249        SPY  p     269        0.40 248.72    2        -1 0.01   \n",
       "250        SPY  p     269        0.52 247.81    1        -1 0.00   \n",
       "251        SPY  p     269        0.00 250.08    0        -1 0.00   \n",
       "\n",
       "     option_price  delta  \n",
       "0           13.88  -0.47  \n",
       "1           12.98  -0.45  \n",
       "2           12.61  -0.43  \n",
       "3           12.08  -0.41  \n",
       "4           11.85  -0.41  \n",
       "..            ...    ...  \n",
       "247         35.70  -0.97  \n",
       "248         22.51  -0.97  \n",
       "249         20.32  -0.98  \n",
       "250         21.21  -0.99  \n",
       "251         18.92   0.00  \n",
       "\n",
       "[252 rows x 10 columns]"
      ]
     },
     "execution_count": 43,
     "metadata": {},
     "output_type": "execute_result"
    }
   ],
   "source": [
    "# Calculate delta\n",
    "df_path['delta'] = df_path[['cp', 'upx', 'strike', 't2x', 'volatility']].apply(bsm_delta, axis = 1)\n",
    "df_path"
   ]
  },
  {
   "cell_type": "code",
   "execution_count": 44,
   "metadata": {},
   "outputs": [
    {
     "data": {
      "text/plain": [
       "-5.039999999999997"
      ]
     },
     "execution_count": 44,
     "metadata": {},
     "output_type": "execute_result"
    }
   ],
   "source": [
    "# Calculate the PNL from the option (change in the option price)\n",
    "df_path['option_pnl'] = df_path['buy_sell'] * df_path['option_price'].diff()\n",
    "df_path\n",
    "df_path['option_pnl'].sum()"
   ]
  },
  {
   "cell_type": "markdown",
   "metadata": {},
   "source": [
    "#### The pnl on the position is a loss  of 5.04 dollars"
   ]
  },
  {
   "cell_type": "code",
   "execution_count": 48,
   "metadata": {},
   "outputs": [
    {
     "data": {
      "text/html": [
       "<div>\n",
       "<style scoped>\n",
       "    .dataframe tbody tr th:only-of-type {\n",
       "        vertical-align: middle;\n",
       "    }\n",
       "\n",
       "    .dataframe tbody tr th {\n",
       "        vertical-align: top;\n",
       "    }\n",
       "\n",
       "    .dataframe thead th {\n",
       "        text-align: right;\n",
       "    }\n",
       "</style>\n",
       "<table border=\"1\" class=\"dataframe\">\n",
       "  <thead>\n",
       "    <tr style=\"text-align: right;\">\n",
       "      <th></th>\n",
       "      <th>underlying</th>\n",
       "      <th>cp</th>\n",
       "      <th>strike</th>\n",
       "      <th>volatility</th>\n",
       "      <th>upx</th>\n",
       "      <th>d2x</th>\n",
       "      <th>buy_sell</th>\n",
       "      <th>t2x</th>\n",
       "      <th>option_price</th>\n",
       "      <th>delta</th>\n",
       "      <th>option_pnl</th>\n",
       "    </tr>\n",
       "  </thead>\n",
       "  <tbody>\n",
       "    <tr>\n",
       "      <th>1</th>\n",
       "      <td>SPY</td>\n",
       "      <td>p</td>\n",
       "      <td>269</td>\n",
       "      <td>0.13</td>\n",
       "      <td>271.59</td>\n",
       "      <td>250</td>\n",
       "      <td>-1</td>\n",
       "      <td>0.99</td>\n",
       "      <td>12.98</td>\n",
       "      <td>-0.45</td>\n",
       "      <td>0.90</td>\n",
       "    </tr>\n",
       "    <tr>\n",
       "      <th>2</th>\n",
       "      <td>SPY</td>\n",
       "      <td>p</td>\n",
       "      <td>269</td>\n",
       "      <td>0.13</td>\n",
       "      <td>272.70</td>\n",
       "      <td>249</td>\n",
       "      <td>-1</td>\n",
       "      <td>0.99</td>\n",
       "      <td>12.61</td>\n",
       "      <td>-0.43</td>\n",
       "      <td>0.37</td>\n",
       "    </tr>\n",
       "    <tr>\n",
       "      <th>3</th>\n",
       "      <td>SPY</td>\n",
       "      <td>p</td>\n",
       "      <td>269</td>\n",
       "      <td>0.14</td>\n",
       "      <td>274.45</td>\n",
       "      <td>248</td>\n",
       "      <td>-1</td>\n",
       "      <td>0.98</td>\n",
       "      <td>12.08</td>\n",
       "      <td>-0.41</td>\n",
       "      <td>0.53</td>\n",
       "    </tr>\n",
       "    <tr>\n",
       "      <th>4</th>\n",
       "      <td>SPY</td>\n",
       "      <td>p</td>\n",
       "      <td>269</td>\n",
       "      <td>0.14</td>\n",
       "      <td>275.11</td>\n",
       "      <td>247</td>\n",
       "      <td>-1</td>\n",
       "      <td>0.98</td>\n",
       "      <td>11.85</td>\n",
       "      <td>-0.41</td>\n",
       "      <td>0.23</td>\n",
       "    </tr>\n",
       "    <tr>\n",
       "      <th>5</th>\n",
       "      <td>SPY</td>\n",
       "      <td>p</td>\n",
       "      <td>269</td>\n",
       "      <td>0.14</td>\n",
       "      <td>275.62</td>\n",
       "      <td>246</td>\n",
       "      <td>-1</td>\n",
       "      <td>0.98</td>\n",
       "      <td>11.73</td>\n",
       "      <td>-0.40</td>\n",
       "      <td>0.12</td>\n",
       "    </tr>\n",
       "    <tr>\n",
       "      <th>6</th>\n",
       "      <td>SPY</td>\n",
       "      <td>p</td>\n",
       "      <td>269</td>\n",
       "      <td>0.14</td>\n",
       "      <td>275.40</td>\n",
       "      <td>245</td>\n",
       "      <td>-1</td>\n",
       "      <td>0.97</td>\n",
       "      <td>11.72</td>\n",
       "      <td>-0.41</td>\n",
       "      <td>0.01</td>\n",
       "    </tr>\n",
       "    <tr>\n",
       "      <th>7</th>\n",
       "      <td>SPY</td>\n",
       "      <td>p</td>\n",
       "      <td>269</td>\n",
       "      <td>0.14</td>\n",
       "      <td>277.37</td>\n",
       "      <td>244</td>\n",
       "      <td>-1</td>\n",
       "      <td>0.97</td>\n",
       "      <td>11.03</td>\n",
       "      <td>-0.39</td>\n",
       "      <td>0.69</td>\n",
       "    </tr>\n",
       "    <tr>\n",
       "      <th>8</th>\n",
       "      <td>SPY</td>\n",
       "      <td>p</td>\n",
       "      <td>269</td>\n",
       "      <td>0.14</td>\n",
       "      <td>279.35</td>\n",
       "      <td>243</td>\n",
       "      <td>-1</td>\n",
       "      <td>0.96</td>\n",
       "      <td>10.42</td>\n",
       "      <td>-0.37</td>\n",
       "      <td>0.61</td>\n",
       "    </tr>\n",
       "    <tr>\n",
       "      <th>9</th>\n",
       "      <td>SPY</td>\n",
       "      <td>p</td>\n",
       "      <td>269</td>\n",
       "      <td>0.14</td>\n",
       "      <td>278.71</td>\n",
       "      <td>242</td>\n",
       "      <td>-1</td>\n",
       "      <td>0.96</td>\n",
       "      <td>11.00</td>\n",
       "      <td>-0.37</td>\n",
       "      <td>-0.58</td>\n",
       "    </tr>\n",
       "    <tr>\n",
       "      <th>10</th>\n",
       "      <td>SPY</td>\n",
       "      <td>p</td>\n",
       "      <td>269</td>\n",
       "      <td>0.15</td>\n",
       "      <td>280.97</td>\n",
       "      <td>241</td>\n",
       "      <td>-1</td>\n",
       "      <td>0.96</td>\n",
       "      <td>10.35</td>\n",
       "      <td>-0.35</td>\n",
       "      <td>0.65</td>\n",
       "    </tr>\n",
       "  </tbody>\n",
       "</table>\n",
       "</div>"
      ],
      "text/plain": [
       "   underlying cp  strike  volatility    upx  d2x  buy_sell  t2x  option_price  \\\n",
       "1         SPY  p     269        0.13 271.59  250        -1 0.99         12.98   \n",
       "2         SPY  p     269        0.13 272.70  249        -1 0.99         12.61   \n",
       "3         SPY  p     269        0.14 274.45  248        -1 0.98         12.08   \n",
       "4         SPY  p     269        0.14 275.11  247        -1 0.98         11.85   \n",
       "5         SPY  p     269        0.14 275.62  246        -1 0.98         11.73   \n",
       "6         SPY  p     269        0.14 275.40  245        -1 0.97         11.72   \n",
       "7         SPY  p     269        0.14 277.37  244        -1 0.97         11.03   \n",
       "8         SPY  p     269        0.14 279.35  243        -1 0.96         10.42   \n",
       "9         SPY  p     269        0.14 278.71  242        -1 0.96         11.00   \n",
       "10        SPY  p     269        0.15 280.97  241        -1 0.96         10.35   \n",
       "\n",
       "    delta  option_pnl  \n",
       "1   -0.45        0.90  \n",
       "2   -0.43        0.37  \n",
       "3   -0.41        0.53  \n",
       "4   -0.41        0.23  \n",
       "5   -0.40        0.12  \n",
       "6   -0.41        0.01  \n",
       "7   -0.39        0.69  \n",
       "8   -0.37        0.61  \n",
       "9   -0.37       -0.58  \n",
       "10  -0.35        0.65  "
      ]
     },
     "execution_count": 48,
     "metadata": {},
     "output_type": "execute_result"
    }
   ],
   "source": [
    "df_path[1:].head(10)"
   ]
  },
  {
   "cell_type": "code",
   "execution_count": 45,
   "metadata": {},
   "outputs": [
    {
     "data": {
      "application/vnd.plotly.v1+json": {
       "config": {
        "plotlyServerURL": "https://plot.ly"
       },
       "data": [
        {
         "hovertemplate": "d2x=%{x}<br>option_pnl=%{y}<extra></extra>",
         "legendgroup": "",
         "line": {
          "color": "#636efa",
          "dash": "solid"
         },
         "marker": {
          "symbol": "circle"
         },
         "mode": "lines",
         "name": "",
         "orientation": "v",
         "showlegend": false,
         "type": "scatter",
         "x": [
          251,
          250,
          249,
          248,
          247,
          246,
          245,
          244,
          243,
          242,
          241,
          240,
          239,
          238,
          237,
          236,
          235,
          234,
          233,
          232,
          231,
          230,
          229,
          228,
          227,
          226,
          225,
          224,
          223,
          222,
          221,
          220,
          219,
          218,
          217,
          216,
          215,
          214,
          213,
          212,
          211,
          210,
          209,
          208,
          207,
          206,
          205,
          204,
          203,
          202,
          201,
          200,
          199,
          198,
          197,
          196,
          195,
          194,
          193,
          192,
          191,
          190,
          189,
          188,
          187,
          186,
          185,
          184,
          183,
          182,
          181,
          180,
          179,
          178,
          177,
          176,
          175,
          174,
          173,
          172,
          171,
          170,
          169,
          168,
          167,
          166,
          165,
          164,
          163,
          162,
          161,
          160,
          159,
          158,
          157,
          156,
          155,
          154,
          153,
          152,
          151,
          150,
          149,
          148,
          147,
          146,
          145,
          144,
          143,
          142,
          141,
          140,
          139,
          138,
          137,
          136,
          135,
          134,
          133,
          132,
          131,
          130,
          129,
          128,
          127,
          126,
          125,
          124,
          123,
          122,
          121,
          120,
          119,
          118,
          117,
          116,
          115,
          114,
          113,
          112,
          111,
          110,
          109,
          108,
          107,
          106,
          105,
          104,
          103,
          102,
          101,
          100,
          99,
          98,
          97,
          96,
          95,
          94,
          93,
          92,
          91,
          90,
          89,
          88,
          87,
          86,
          85,
          84,
          83,
          82,
          81,
          80,
          79,
          78,
          77,
          76,
          75,
          74,
          73,
          72,
          71,
          70,
          69,
          68,
          67,
          66,
          65,
          64,
          63,
          62,
          61,
          60,
          59,
          58,
          57,
          56,
          55,
          54,
          53,
          52,
          51,
          50,
          49,
          48,
          47,
          46,
          45,
          44,
          43,
          42,
          41,
          40,
          39,
          38,
          37,
          36,
          35,
          34,
          33,
          32,
          31,
          30,
          29,
          28,
          27,
          26,
          25,
          24,
          23,
          22,
          21,
          20,
          19,
          18,
          17,
          16,
          15,
          14,
          13,
          12,
          11,
          10,
          9,
          8,
          7,
          6,
          5,
          4,
          3,
          2,
          1,
          0
         ],
         "xaxis": "x",
         "y": [
          null,
          0.9000000000000004,
          0.370000000000001,
          0.5299999999999994,
          0.23000000000000043,
          0.11999999999999922,
          0.009999999999999787,
          0.6900000000000013,
          0.6099999999999994,
          -0.5800000000000001,
          0.6500000000000004,
          -0.20000000000000107,
          0.40000000000000036,
          0.5300000000000011,
          -0.02000000000000135,
          -0.16999999999999993,
          0.040000000000000924,
          0.7899999999999991,
          -0.8300000000000001,
          -1.049999999999999,
          0.28999999999999915,
          0.09999999999999964,
          -2.49,
          -8.68,
          4.82,
          -0.3500000000000014,
          -5.639999999999997,
          2.2300000000000004,
          2.2699999999999996,
          0.6699999999999982,
          2.130000000000001,
          1.4000000000000004,
          0.05999999999999872,
          -0.6899999999999995,
          -0.47000000000000064,
          0.8400000000000016,
          1.9499999999999993,
          1.3699999999999992,
          -1.7599999999999998,
          -1.3599999999999994,
          -1.9900000000000002,
          0.8599999999999994,
          1.2800000000000011,
          0.23000000000000043,
          -0.08000000000000007,
          0.8099999999999987,
          1.83,
          -0.21999999999999886,
          -0.6500000000000004,
          -0.8900000000000006,
          0.17999999999999972,
          0.370000000000001,
          -1.7599999999999998,
          0.3899999999999988,
          -0.049999999999998934,
          -3.3900000000000006,
          -3.0100000000000016,
          3.3800000000000026,
          -2.2600000000000016,
          -0.879999999999999,
          2.219999999999999,
          -3.5599999999999987,
          2.1499999999999986,
          1.8500000000000014,
          1.2300000000000004,
          -3.1999999999999993,
          0.4099999999999966,
          2.120000000000001,
          -0.5799999999999983,
          1.4399999999999995,
          0.22999999999999865,
          1.5500000000000007,
          1.5899999999999999,
          0.2599999999999998,
          -0.8099999999999987,
          -0.9900000000000002,
          0.25,
          -1.8200000000000003,
          0.28999999999999915,
          1.6799999999999997,
          -0.02999999999999936,
          -1.1099999999999994,
          0.5499999999999989,
          -1.08,
          0,
          1.6900000000000013,
          0.40000000000000036,
          0.019999999999999574,
          1.379999999999999,
          1.1000000000000014,
          0.4399999999999995,
          0.3100000000000005,
          -0.8100000000000005,
          0.6699999999999999,
          -0.07000000000000028,
          -0.3200000000000003,
          0.9900000000000002,
          -0.33999999999999986,
          0.3699999999999992,
          -0.129999999999999,
          -0.35999999999999943,
          -1.6800000000000015,
          1.5200000000000014,
          -0.6500000000000004,
          1.299999999999999,
          0.6400000000000006,
          0.21000000000000085,
          0.8499999999999996,
          0,
          0.11999999999999922,
          0.08000000000000007,
          0.11000000000000032,
          -0.25,
          0.3200000000000003,
          -0.20999999999999996,
          -0.03000000000000025,
          -0.71,
          0.41999999999999993,
          -0.8300000000000001,
          0.41000000000000014,
          -2.2300000000000004,
          0.8000000000000007,
          -1.200000000000001,
          0.620000000000001,
          0.4499999999999993,
          0.2699999999999996,
          -0.6099999999999994,
          1.1600000000000001,
          1.0500000000000007,
          1.1499999999999995,
          0.33000000000000007,
          -0.7000000000000002,
          0.7999999999999998,
          0.23000000000000043,
          0.03000000000000025,
          0.4299999999999997,
          0.16000000000000014,
          -0.41999999999999993,
          -0.07000000000000028,
          0.29000000000000004,
          0.34999999999999964,
          0.6299999999999999,
          -0.16999999999999993,
          -0.46999999999999975,
          -0.46999999999999975,
          0.6799999999999997,
          -0.25,
          0.4800000000000004,
          0.34999999999999964,
          0.3799999999999999,
          0.2599999999999998,
          -0.019999999999999574,
          -0.1200000000000001,
          -0.5999999999999996,
          -0.4500000000000002,
          0.5800000000000001,
          -0.6000000000000005,
          0.6400000000000006,
          0.29000000000000004,
          0.2699999999999996,
          0.07000000000000028,
          0.019999999999999574,
          -0.009999999999999787,
          0.31999999999999984,
          0.4500000000000002,
          -0.029999999999999805,
          0.22999999999999998,
          -0.33000000000000007,
          0.17999999999999972,
          -0.03999999999999959,
          -0.30000000000000027,
          -0.22999999999999998,
          -0.16000000000000014,
          0.3400000000000003,
          0.3999999999999999,
          0.1200000000000001,
          0.44999999999999973,
          0.14000000000000012,
          -0.25,
          0.1499999999999999,
          0.20999999999999996,
          0.28000000000000025,
          0.020000000000000018,
          -0.11000000000000032,
          -0.06999999999999984,
          -0.14000000000000012,
          0.20999999999999996,
          0.0900000000000003,
          0.1299999999999999,
          -0.029999999999999805,
          0.07999999999999985,
          -0.51,
          -0.33000000000000007,
          0.029999999999999805,
          -0.08999999999999986,
          -2.95,
          -2.0199999999999996,
          1.88,
          -0.41999999999999993,
          2.2699999999999996,
          0.10000000000000009,
          -1.3699999999999997,
          -0.2599999999999998,
          -0.03000000000000025,
          -0.54,
          -3.6899999999999995,
          1.3099999999999987,
          -1.459999999999999,
          -1.290000000000001,
          2.4400000000000013,
          1.6899999999999995,
          1.2000000000000002,
          -0.5,
          0.75,
          0.71,
          2.15,
          -0.050000000000000266,
          -0.81,
          -1.8399999999999994,
          -0.23000000000000043,
          -1.04,
          1.5499999999999998,
          0.8100000000000005,
          -2,
          -3.1000000000000005,
          1,
          -1.2199999999999989,
          3.3999999999999995,
          0.23999999999999932,
          2.4800000000000004,
          -0.10000000000000009,
          0.73,
          1.32,
          -3.4700000000000006,
          0.010000000000000675,
          -0.05000000000000071,
          -3.8499999999999996,
          1.0999999999999996,
          0.16000000000000014,
          0.7000000000000002,
          0.2599999999999998,
          -3.46,
          -4.74,
          -0.8699999999999992,
          -3.030000000000001,
          -3.4399999999999977,
          -6.34,
          -6.960000000000004,
          13.190000000000001,
          2.1900000000000013,
          -0.8900000000000006,
          2.289999999999999
         ],
         "yaxis": "y"
        }
       ],
       "layout": {
        "legend": {
         "tracegroupgap": 0
        },
        "template": {
         "data": {
          "bar": [
           {
            "error_x": {
             "color": "#2a3f5f"
            },
            "error_y": {
             "color": "#2a3f5f"
            },
            "marker": {
             "line": {
              "color": "#E5ECF6",
              "width": 0.5
             },
             "pattern": {
              "fillmode": "overlay",
              "size": 10,
              "solidity": 0.2
             }
            },
            "type": "bar"
           }
          ],
          "barpolar": [
           {
            "marker": {
             "line": {
              "color": "#E5ECF6",
              "width": 0.5
             },
             "pattern": {
              "fillmode": "overlay",
              "size": 10,
              "solidity": 0.2
             }
            },
            "type": "barpolar"
           }
          ],
          "carpet": [
           {
            "aaxis": {
             "endlinecolor": "#2a3f5f",
             "gridcolor": "white",
             "linecolor": "white",
             "minorgridcolor": "white",
             "startlinecolor": "#2a3f5f"
            },
            "baxis": {
             "endlinecolor": "#2a3f5f",
             "gridcolor": "white",
             "linecolor": "white",
             "minorgridcolor": "white",
             "startlinecolor": "#2a3f5f"
            },
            "type": "carpet"
           }
          ],
          "choropleth": [
           {
            "colorbar": {
             "outlinewidth": 0,
             "ticks": ""
            },
            "type": "choropleth"
           }
          ],
          "contour": [
           {
            "colorbar": {
             "outlinewidth": 0,
             "ticks": ""
            },
            "colorscale": [
             [
              0,
              "#0d0887"
             ],
             [
              0.1111111111111111,
              "#46039f"
             ],
             [
              0.2222222222222222,
              "#7201a8"
             ],
             [
              0.3333333333333333,
              "#9c179e"
             ],
             [
              0.4444444444444444,
              "#bd3786"
             ],
             [
              0.5555555555555556,
              "#d8576b"
             ],
             [
              0.6666666666666666,
              "#ed7953"
             ],
             [
              0.7777777777777778,
              "#fb9f3a"
             ],
             [
              0.8888888888888888,
              "#fdca26"
             ],
             [
              1,
              "#f0f921"
             ]
            ],
            "type": "contour"
           }
          ],
          "contourcarpet": [
           {
            "colorbar": {
             "outlinewidth": 0,
             "ticks": ""
            },
            "type": "contourcarpet"
           }
          ],
          "heatmap": [
           {
            "colorbar": {
             "outlinewidth": 0,
             "ticks": ""
            },
            "colorscale": [
             [
              0,
              "#0d0887"
             ],
             [
              0.1111111111111111,
              "#46039f"
             ],
             [
              0.2222222222222222,
              "#7201a8"
             ],
             [
              0.3333333333333333,
              "#9c179e"
             ],
             [
              0.4444444444444444,
              "#bd3786"
             ],
             [
              0.5555555555555556,
              "#d8576b"
             ],
             [
              0.6666666666666666,
              "#ed7953"
             ],
             [
              0.7777777777777778,
              "#fb9f3a"
             ],
             [
              0.8888888888888888,
              "#fdca26"
             ],
             [
              1,
              "#f0f921"
             ]
            ],
            "type": "heatmap"
           }
          ],
          "heatmapgl": [
           {
            "colorbar": {
             "outlinewidth": 0,
             "ticks": ""
            },
            "colorscale": [
             [
              0,
              "#0d0887"
             ],
             [
              0.1111111111111111,
              "#46039f"
             ],
             [
              0.2222222222222222,
              "#7201a8"
             ],
             [
              0.3333333333333333,
              "#9c179e"
             ],
             [
              0.4444444444444444,
              "#bd3786"
             ],
             [
              0.5555555555555556,
              "#d8576b"
             ],
             [
              0.6666666666666666,
              "#ed7953"
             ],
             [
              0.7777777777777778,
              "#fb9f3a"
             ],
             [
              0.8888888888888888,
              "#fdca26"
             ],
             [
              1,
              "#f0f921"
             ]
            ],
            "type": "heatmapgl"
           }
          ],
          "histogram": [
           {
            "marker": {
             "pattern": {
              "fillmode": "overlay",
              "size": 10,
              "solidity": 0.2
             }
            },
            "type": "histogram"
           }
          ],
          "histogram2d": [
           {
            "colorbar": {
             "outlinewidth": 0,
             "ticks": ""
            },
            "colorscale": [
             [
              0,
              "#0d0887"
             ],
             [
              0.1111111111111111,
              "#46039f"
             ],
             [
              0.2222222222222222,
              "#7201a8"
             ],
             [
              0.3333333333333333,
              "#9c179e"
             ],
             [
              0.4444444444444444,
              "#bd3786"
             ],
             [
              0.5555555555555556,
              "#d8576b"
             ],
             [
              0.6666666666666666,
              "#ed7953"
             ],
             [
              0.7777777777777778,
              "#fb9f3a"
             ],
             [
              0.8888888888888888,
              "#fdca26"
             ],
             [
              1,
              "#f0f921"
             ]
            ],
            "type": "histogram2d"
           }
          ],
          "histogram2dcontour": [
           {
            "colorbar": {
             "outlinewidth": 0,
             "ticks": ""
            },
            "colorscale": [
             [
              0,
              "#0d0887"
             ],
             [
              0.1111111111111111,
              "#46039f"
             ],
             [
              0.2222222222222222,
              "#7201a8"
             ],
             [
              0.3333333333333333,
              "#9c179e"
             ],
             [
              0.4444444444444444,
              "#bd3786"
             ],
             [
              0.5555555555555556,
              "#d8576b"
             ],
             [
              0.6666666666666666,
              "#ed7953"
             ],
             [
              0.7777777777777778,
              "#fb9f3a"
             ],
             [
              0.8888888888888888,
              "#fdca26"
             ],
             [
              1,
              "#f0f921"
             ]
            ],
            "type": "histogram2dcontour"
           }
          ],
          "mesh3d": [
           {
            "colorbar": {
             "outlinewidth": 0,
             "ticks": ""
            },
            "type": "mesh3d"
           }
          ],
          "parcoords": [
           {
            "line": {
             "colorbar": {
              "outlinewidth": 0,
              "ticks": ""
             }
            },
            "type": "parcoords"
           }
          ],
          "pie": [
           {
            "automargin": true,
            "type": "pie"
           }
          ],
          "scatter": [
           {
            "fillpattern": {
             "fillmode": "overlay",
             "size": 10,
             "solidity": 0.2
            },
            "type": "scatter"
           }
          ],
          "scatter3d": [
           {
            "line": {
             "colorbar": {
              "outlinewidth": 0,
              "ticks": ""
             }
            },
            "marker": {
             "colorbar": {
              "outlinewidth": 0,
              "ticks": ""
             }
            },
            "type": "scatter3d"
           }
          ],
          "scattercarpet": [
           {
            "marker": {
             "colorbar": {
              "outlinewidth": 0,
              "ticks": ""
             }
            },
            "type": "scattercarpet"
           }
          ],
          "scattergeo": [
           {
            "marker": {
             "colorbar": {
              "outlinewidth": 0,
              "ticks": ""
             }
            },
            "type": "scattergeo"
           }
          ],
          "scattergl": [
           {
            "marker": {
             "colorbar": {
              "outlinewidth": 0,
              "ticks": ""
             }
            },
            "type": "scattergl"
           }
          ],
          "scattermapbox": [
           {
            "marker": {
             "colorbar": {
              "outlinewidth": 0,
              "ticks": ""
             }
            },
            "type": "scattermapbox"
           }
          ],
          "scatterpolar": [
           {
            "marker": {
             "colorbar": {
              "outlinewidth": 0,
              "ticks": ""
             }
            },
            "type": "scatterpolar"
           }
          ],
          "scatterpolargl": [
           {
            "marker": {
             "colorbar": {
              "outlinewidth": 0,
              "ticks": ""
             }
            },
            "type": "scatterpolargl"
           }
          ],
          "scatterternary": [
           {
            "marker": {
             "colorbar": {
              "outlinewidth": 0,
              "ticks": ""
             }
            },
            "type": "scatterternary"
           }
          ],
          "surface": [
           {
            "colorbar": {
             "outlinewidth": 0,
             "ticks": ""
            },
            "colorscale": [
             [
              0,
              "#0d0887"
             ],
             [
              0.1111111111111111,
              "#46039f"
             ],
             [
              0.2222222222222222,
              "#7201a8"
             ],
             [
              0.3333333333333333,
              "#9c179e"
             ],
             [
              0.4444444444444444,
              "#bd3786"
             ],
             [
              0.5555555555555556,
              "#d8576b"
             ],
             [
              0.6666666666666666,
              "#ed7953"
             ],
             [
              0.7777777777777778,
              "#fb9f3a"
             ],
             [
              0.8888888888888888,
              "#fdca26"
             ],
             [
              1,
              "#f0f921"
             ]
            ],
            "type": "surface"
           }
          ],
          "table": [
           {
            "cells": {
             "fill": {
              "color": "#EBF0F8"
             },
             "line": {
              "color": "white"
             }
            },
            "header": {
             "fill": {
              "color": "#C8D4E3"
             },
             "line": {
              "color": "white"
             }
            },
            "type": "table"
           }
          ]
         },
         "layout": {
          "annotationdefaults": {
           "arrowcolor": "#2a3f5f",
           "arrowhead": 0,
           "arrowwidth": 1
          },
          "autotypenumbers": "strict",
          "coloraxis": {
           "colorbar": {
            "outlinewidth": 0,
            "ticks": ""
           }
          },
          "colorscale": {
           "diverging": [
            [
             0,
             "#8e0152"
            ],
            [
             0.1,
             "#c51b7d"
            ],
            [
             0.2,
             "#de77ae"
            ],
            [
             0.3,
             "#f1b6da"
            ],
            [
             0.4,
             "#fde0ef"
            ],
            [
             0.5,
             "#f7f7f7"
            ],
            [
             0.6,
             "#e6f5d0"
            ],
            [
             0.7,
             "#b8e186"
            ],
            [
             0.8,
             "#7fbc41"
            ],
            [
             0.9,
             "#4d9221"
            ],
            [
             1,
             "#276419"
            ]
           ],
           "sequential": [
            [
             0,
             "#0d0887"
            ],
            [
             0.1111111111111111,
             "#46039f"
            ],
            [
             0.2222222222222222,
             "#7201a8"
            ],
            [
             0.3333333333333333,
             "#9c179e"
            ],
            [
             0.4444444444444444,
             "#bd3786"
            ],
            [
             0.5555555555555556,
             "#d8576b"
            ],
            [
             0.6666666666666666,
             "#ed7953"
            ],
            [
             0.7777777777777778,
             "#fb9f3a"
            ],
            [
             0.8888888888888888,
             "#fdca26"
            ],
            [
             1,
             "#f0f921"
            ]
           ],
           "sequentialminus": [
            [
             0,
             "#0d0887"
            ],
            [
             0.1111111111111111,
             "#46039f"
            ],
            [
             0.2222222222222222,
             "#7201a8"
            ],
            [
             0.3333333333333333,
             "#9c179e"
            ],
            [
             0.4444444444444444,
             "#bd3786"
            ],
            [
             0.5555555555555556,
             "#d8576b"
            ],
            [
             0.6666666666666666,
             "#ed7953"
            ],
            [
             0.7777777777777778,
             "#fb9f3a"
            ],
            [
             0.8888888888888888,
             "#fdca26"
            ],
            [
             1,
             "#f0f921"
            ]
           ]
          },
          "colorway": [
           "#636efa",
           "#EF553B",
           "#00cc96",
           "#ab63fa",
           "#FFA15A",
           "#19d3f3",
           "#FF6692",
           "#B6E880",
           "#FF97FF",
           "#FECB52"
          ],
          "font": {
           "color": "#2a3f5f"
          },
          "geo": {
           "bgcolor": "white",
           "lakecolor": "white",
           "landcolor": "#E5ECF6",
           "showlakes": true,
           "showland": true,
           "subunitcolor": "white"
          },
          "hoverlabel": {
           "align": "left"
          },
          "hovermode": "closest",
          "mapbox": {
           "style": "light"
          },
          "paper_bgcolor": "white",
          "plot_bgcolor": "#E5ECF6",
          "polar": {
           "angularaxis": {
            "gridcolor": "white",
            "linecolor": "white",
            "ticks": ""
           },
           "bgcolor": "#E5ECF6",
           "radialaxis": {
            "gridcolor": "white",
            "linecolor": "white",
            "ticks": ""
           }
          },
          "scene": {
           "xaxis": {
            "backgroundcolor": "#E5ECF6",
            "gridcolor": "white",
            "gridwidth": 2,
            "linecolor": "white",
            "showbackground": true,
            "ticks": "",
            "zerolinecolor": "white"
           },
           "yaxis": {
            "backgroundcolor": "#E5ECF6",
            "gridcolor": "white",
            "gridwidth": 2,
            "linecolor": "white",
            "showbackground": true,
            "ticks": "",
            "zerolinecolor": "white"
           },
           "zaxis": {
            "backgroundcolor": "#E5ECF6",
            "gridcolor": "white",
            "gridwidth": 2,
            "linecolor": "white",
            "showbackground": true,
            "ticks": "",
            "zerolinecolor": "white"
           }
          },
          "shapedefaults": {
           "line": {
            "color": "#2a3f5f"
           }
          },
          "ternary": {
           "aaxis": {
            "gridcolor": "white",
            "linecolor": "white",
            "ticks": ""
           },
           "baxis": {
            "gridcolor": "white",
            "linecolor": "white",
            "ticks": ""
           },
           "bgcolor": "#E5ECF6",
           "caxis": {
            "gridcolor": "white",
            "linecolor": "white",
            "ticks": ""
           }
          },
          "title": {
           "x": 0.05
          },
          "xaxis": {
           "automargin": true,
           "gridcolor": "white",
           "linecolor": "white",
           "ticks": "",
           "title": {
            "standoff": 15
           },
           "zerolinecolor": "white",
           "zerolinewidth": 2
          },
          "yaxis": {
           "automargin": true,
           "gridcolor": "white",
           "linecolor": "white",
           "ticks": "",
           "title": {
            "standoff": 15
           },
           "zerolinecolor": "white",
           "zerolinewidth": 2
          }
         }
        },
        "title": {
         "text": "Daily Profit and Loss"
        },
        "xaxis": {
         "anchor": "y",
         "domain": [
          0,
          1
         ],
         "title": {
          "text": "d2x"
         }
        },
        "yaxis": {
         "anchor": "x",
         "domain": [
          0,
          1
         ],
         "title": {
          "text": "option_pnl"
         }
        }
       }
      },
      "text/html": [
       "<div>                            <div id=\"d017a2d3-f1bf-40d6-80a3-7346fe547e45\" class=\"plotly-graph-div\" style=\"height:525px; width:100%;\"></div>            <script type=\"text/javascript\">                require([\"plotly\"], function(Plotly) {                    window.PLOTLYENV=window.PLOTLYENV || {};                                    if (document.getElementById(\"d017a2d3-f1bf-40d6-80a3-7346fe547e45\")) {                    Plotly.newPlot(                        \"d017a2d3-f1bf-40d6-80a3-7346fe547e45\",                        [{\"hovertemplate\":\"d2x=%{x}<br>option_pnl=%{y}<extra></extra>\",\"legendgroup\":\"\",\"line\":{\"color\":\"#636efa\",\"dash\":\"solid\"},\"marker\":{\"symbol\":\"circle\"},\"mode\":\"lines\",\"name\":\"\",\"orientation\":\"v\",\"showlegend\":false,\"x\":[251,250,249,248,247,246,245,244,243,242,241,240,239,238,237,236,235,234,233,232,231,230,229,228,227,226,225,224,223,222,221,220,219,218,217,216,215,214,213,212,211,210,209,208,207,206,205,204,203,202,201,200,199,198,197,196,195,194,193,192,191,190,189,188,187,186,185,184,183,182,181,180,179,178,177,176,175,174,173,172,171,170,169,168,167,166,165,164,163,162,161,160,159,158,157,156,155,154,153,152,151,150,149,148,147,146,145,144,143,142,141,140,139,138,137,136,135,134,133,132,131,130,129,128,127,126,125,124,123,122,121,120,119,118,117,116,115,114,113,112,111,110,109,108,107,106,105,104,103,102,101,100,99,98,97,96,95,94,93,92,91,90,89,88,87,86,85,84,83,82,81,80,79,78,77,76,75,74,73,72,71,70,69,68,67,66,65,64,63,62,61,60,59,58,57,56,55,54,53,52,51,50,49,48,47,46,45,44,43,42,41,40,39,38,37,36,35,34,33,32,31,30,29,28,27,26,25,24,23,22,21,20,19,18,17,16,15,14,13,12,11,10,9,8,7,6,5,4,3,2,1,0],\"xaxis\":\"x\",\"y\":[null,0.9000000000000004,0.370000000000001,0.5299999999999994,0.23000000000000043,0.11999999999999922,0.009999999999999787,0.6900000000000013,0.6099999999999994,-0.5800000000000001,0.6500000000000004,-0.20000000000000107,0.40000000000000036,0.5300000000000011,-0.02000000000000135,-0.16999999999999993,0.040000000000000924,0.7899999999999991,-0.8300000000000001,-1.049999999999999,0.28999999999999915,0.09999999999999964,-2.49,-8.68,4.82,-0.3500000000000014,-5.639999999999997,2.2300000000000004,2.2699999999999996,0.6699999999999982,2.130000000000001,1.4000000000000004,0.05999999999999872,-0.6899999999999995,-0.47000000000000064,0.8400000000000016,1.9499999999999993,1.3699999999999992,-1.7599999999999998,-1.3599999999999994,-1.9900000000000002,0.8599999999999994,1.2800000000000011,0.23000000000000043,-0.08000000000000007,0.8099999999999987,1.83,-0.21999999999999886,-0.6500000000000004,-0.8900000000000006,0.17999999999999972,0.370000000000001,-1.7599999999999998,0.3899999999999988,-0.049999999999998934,-3.3900000000000006,-3.0100000000000016,3.3800000000000026,-2.2600000000000016,-0.879999999999999,2.219999999999999,-3.5599999999999987,2.1499999999999986,1.8500000000000014,1.2300000000000004,-3.1999999999999993,0.4099999999999966,2.120000000000001,-0.5799999999999983,1.4399999999999995,0.22999999999999865,1.5500000000000007,1.5899999999999999,0.2599999999999998,-0.8099999999999987,-0.9900000000000002,0.25,-1.8200000000000003,0.28999999999999915,1.6799999999999997,-0.02999999999999936,-1.1099999999999994,0.5499999999999989,-1.08,-0.0,1.6900000000000013,0.40000000000000036,0.019999999999999574,1.379999999999999,1.1000000000000014,0.4399999999999995,0.3100000000000005,-0.8100000000000005,0.6699999999999999,-0.07000000000000028,-0.3200000000000003,0.9900000000000002,-0.33999999999999986,0.3699999999999992,-0.129999999999999,-0.35999999999999943,-1.6800000000000015,1.5200000000000014,-0.6500000000000004,1.299999999999999,0.6400000000000006,0.21000000000000085,0.8499999999999996,-0.0,0.11999999999999922,0.08000000000000007,0.11000000000000032,-0.25,0.3200000000000003,-0.20999999999999996,-0.03000000000000025,-0.71,0.41999999999999993,-0.8300000000000001,0.41000000000000014,-2.2300000000000004,0.8000000000000007,-1.200000000000001,0.620000000000001,0.4499999999999993,0.2699999999999996,-0.6099999999999994,1.1600000000000001,1.0500000000000007,1.1499999999999995,0.33000000000000007,-0.7000000000000002,0.7999999999999998,0.23000000000000043,0.03000000000000025,0.4299999999999997,0.16000000000000014,-0.41999999999999993,-0.07000000000000028,0.29000000000000004,0.34999999999999964,0.6299999999999999,-0.16999999999999993,-0.46999999999999975,-0.46999999999999975,0.6799999999999997,-0.25,0.4800000000000004,0.34999999999999964,0.3799999999999999,0.2599999999999998,-0.019999999999999574,-0.1200000000000001,-0.5999999999999996,-0.4500000000000002,0.5800000000000001,-0.6000000000000005,0.6400000000000006,0.29000000000000004,0.2699999999999996,0.07000000000000028,0.019999999999999574,-0.009999999999999787,0.31999999999999984,0.4500000000000002,-0.029999999999999805,0.22999999999999998,-0.33000000000000007,0.17999999999999972,-0.03999999999999959,-0.30000000000000027,-0.22999999999999998,-0.16000000000000014,0.3400000000000003,0.3999999999999999,0.1200000000000001,0.44999999999999973,0.14000000000000012,-0.25,0.1499999999999999,0.20999999999999996,0.28000000000000025,0.020000000000000018,-0.11000000000000032,-0.06999999999999984,-0.14000000000000012,0.20999999999999996,0.0900000000000003,0.1299999999999999,-0.029999999999999805,0.07999999999999985,-0.51,-0.33000000000000007,0.029999999999999805,-0.08999999999999986,-2.95,-2.0199999999999996,1.88,-0.41999999999999993,2.2699999999999996,0.10000000000000009,-1.3699999999999997,-0.2599999999999998,-0.03000000000000025,-0.54,-3.6899999999999995,1.3099999999999987,-1.459999999999999,-1.290000000000001,2.4400000000000013,1.6899999999999995,1.2000000000000002,-0.5,0.75,0.71,2.15,-0.050000000000000266,-0.81,-1.8399999999999994,-0.23000000000000043,-1.04,1.5499999999999998,0.8100000000000005,-2.0,-3.1000000000000005,1.0,-1.2199999999999989,3.3999999999999995,0.23999999999999932,2.4800000000000004,-0.10000000000000009,0.73,1.32,-3.4700000000000006,0.010000000000000675,-0.05000000000000071,-3.8499999999999996,1.0999999999999996,0.16000000000000014,0.7000000000000002,0.2599999999999998,-3.46,-4.74,-0.8699999999999992,-3.030000000000001,-3.4399999999999977,-6.34,-6.960000000000004,13.190000000000001,2.1900000000000013,-0.8900000000000006,2.289999999999999],\"yaxis\":\"y\",\"type\":\"scatter\"}],                        {\"template\":{\"data\":{\"histogram2dcontour\":[{\"type\":\"histogram2dcontour\",\"colorbar\":{\"outlinewidth\":0,\"ticks\":\"\"},\"colorscale\":[[0.0,\"#0d0887\"],[0.1111111111111111,\"#46039f\"],[0.2222222222222222,\"#7201a8\"],[0.3333333333333333,\"#9c179e\"],[0.4444444444444444,\"#bd3786\"],[0.5555555555555556,\"#d8576b\"],[0.6666666666666666,\"#ed7953\"],[0.7777777777777778,\"#fb9f3a\"],[0.8888888888888888,\"#fdca26\"],[1.0,\"#f0f921\"]]}],\"choropleth\":[{\"type\":\"choropleth\",\"colorbar\":{\"outlinewidth\":0,\"ticks\":\"\"}}],\"histogram2d\":[{\"type\":\"histogram2d\",\"colorbar\":{\"outlinewidth\":0,\"ticks\":\"\"},\"colorscale\":[[0.0,\"#0d0887\"],[0.1111111111111111,\"#46039f\"],[0.2222222222222222,\"#7201a8\"],[0.3333333333333333,\"#9c179e\"],[0.4444444444444444,\"#bd3786\"],[0.5555555555555556,\"#d8576b\"],[0.6666666666666666,\"#ed7953\"],[0.7777777777777778,\"#fb9f3a\"],[0.8888888888888888,\"#fdca26\"],[1.0,\"#f0f921\"]]}],\"heatmap\":[{\"type\":\"heatmap\",\"colorbar\":{\"outlinewidth\":0,\"ticks\":\"\"},\"colorscale\":[[0.0,\"#0d0887\"],[0.1111111111111111,\"#46039f\"],[0.2222222222222222,\"#7201a8\"],[0.3333333333333333,\"#9c179e\"],[0.4444444444444444,\"#bd3786\"],[0.5555555555555556,\"#d8576b\"],[0.6666666666666666,\"#ed7953\"],[0.7777777777777778,\"#fb9f3a\"],[0.8888888888888888,\"#fdca26\"],[1.0,\"#f0f921\"]]}],\"heatmapgl\":[{\"type\":\"heatmapgl\",\"colorbar\":{\"outlinewidth\":0,\"ticks\":\"\"},\"colorscale\":[[0.0,\"#0d0887\"],[0.1111111111111111,\"#46039f\"],[0.2222222222222222,\"#7201a8\"],[0.3333333333333333,\"#9c179e\"],[0.4444444444444444,\"#bd3786\"],[0.5555555555555556,\"#d8576b\"],[0.6666666666666666,\"#ed7953\"],[0.7777777777777778,\"#fb9f3a\"],[0.8888888888888888,\"#fdca26\"],[1.0,\"#f0f921\"]]}],\"contourcarpet\":[{\"type\":\"contourcarpet\",\"colorbar\":{\"outlinewidth\":0,\"ticks\":\"\"}}],\"contour\":[{\"type\":\"contour\",\"colorbar\":{\"outlinewidth\":0,\"ticks\":\"\"},\"colorscale\":[[0.0,\"#0d0887\"],[0.1111111111111111,\"#46039f\"],[0.2222222222222222,\"#7201a8\"],[0.3333333333333333,\"#9c179e\"],[0.4444444444444444,\"#bd3786\"],[0.5555555555555556,\"#d8576b\"],[0.6666666666666666,\"#ed7953\"],[0.7777777777777778,\"#fb9f3a\"],[0.8888888888888888,\"#fdca26\"],[1.0,\"#f0f921\"]]}],\"surface\":[{\"type\":\"surface\",\"colorbar\":{\"outlinewidth\":0,\"ticks\":\"\"},\"colorscale\":[[0.0,\"#0d0887\"],[0.1111111111111111,\"#46039f\"],[0.2222222222222222,\"#7201a8\"],[0.3333333333333333,\"#9c179e\"],[0.4444444444444444,\"#bd3786\"],[0.5555555555555556,\"#d8576b\"],[0.6666666666666666,\"#ed7953\"],[0.7777777777777778,\"#fb9f3a\"],[0.8888888888888888,\"#fdca26\"],[1.0,\"#f0f921\"]]}],\"mesh3d\":[{\"type\":\"mesh3d\",\"colorbar\":{\"outlinewidth\":0,\"ticks\":\"\"}}],\"scatter\":[{\"fillpattern\":{\"fillmode\":\"overlay\",\"size\":10,\"solidity\":0.2},\"type\":\"scatter\"}],\"parcoords\":[{\"type\":\"parcoords\",\"line\":{\"colorbar\":{\"outlinewidth\":0,\"ticks\":\"\"}}}],\"scatterpolargl\":[{\"type\":\"scatterpolargl\",\"marker\":{\"colorbar\":{\"outlinewidth\":0,\"ticks\":\"\"}}}],\"bar\":[{\"error_x\":{\"color\":\"#2a3f5f\"},\"error_y\":{\"color\":\"#2a3f5f\"},\"marker\":{\"line\":{\"color\":\"#E5ECF6\",\"width\":0.5},\"pattern\":{\"fillmode\":\"overlay\",\"size\":10,\"solidity\":0.2}},\"type\":\"bar\"}],\"scattergeo\":[{\"type\":\"scattergeo\",\"marker\":{\"colorbar\":{\"outlinewidth\":0,\"ticks\":\"\"}}}],\"scatterpolar\":[{\"type\":\"scatterpolar\",\"marker\":{\"colorbar\":{\"outlinewidth\":0,\"ticks\":\"\"}}}],\"histogram\":[{\"marker\":{\"pattern\":{\"fillmode\":\"overlay\",\"size\":10,\"solidity\":0.2}},\"type\":\"histogram\"}],\"scattergl\":[{\"type\":\"scattergl\",\"marker\":{\"colorbar\":{\"outlinewidth\":0,\"ticks\":\"\"}}}],\"scatter3d\":[{\"type\":\"scatter3d\",\"line\":{\"colorbar\":{\"outlinewidth\":0,\"ticks\":\"\"}},\"marker\":{\"colorbar\":{\"outlinewidth\":0,\"ticks\":\"\"}}}],\"scattermapbox\":[{\"type\":\"scattermapbox\",\"marker\":{\"colorbar\":{\"outlinewidth\":0,\"ticks\":\"\"}}}],\"scatterternary\":[{\"type\":\"scatterternary\",\"marker\":{\"colorbar\":{\"outlinewidth\":0,\"ticks\":\"\"}}}],\"scattercarpet\":[{\"type\":\"scattercarpet\",\"marker\":{\"colorbar\":{\"outlinewidth\":0,\"ticks\":\"\"}}}],\"carpet\":[{\"aaxis\":{\"endlinecolor\":\"#2a3f5f\",\"gridcolor\":\"white\",\"linecolor\":\"white\",\"minorgridcolor\":\"white\",\"startlinecolor\":\"#2a3f5f\"},\"baxis\":{\"endlinecolor\":\"#2a3f5f\",\"gridcolor\":\"white\",\"linecolor\":\"white\",\"minorgridcolor\":\"white\",\"startlinecolor\":\"#2a3f5f\"},\"type\":\"carpet\"}],\"table\":[{\"cells\":{\"fill\":{\"color\":\"#EBF0F8\"},\"line\":{\"color\":\"white\"}},\"header\":{\"fill\":{\"color\":\"#C8D4E3\"},\"line\":{\"color\":\"white\"}},\"type\":\"table\"}],\"barpolar\":[{\"marker\":{\"line\":{\"color\":\"#E5ECF6\",\"width\":0.5},\"pattern\":{\"fillmode\":\"overlay\",\"size\":10,\"solidity\":0.2}},\"type\":\"barpolar\"}],\"pie\":[{\"automargin\":true,\"type\":\"pie\"}]},\"layout\":{\"autotypenumbers\":\"strict\",\"colorway\":[\"#636efa\",\"#EF553B\",\"#00cc96\",\"#ab63fa\",\"#FFA15A\",\"#19d3f3\",\"#FF6692\",\"#B6E880\",\"#FF97FF\",\"#FECB52\"],\"font\":{\"color\":\"#2a3f5f\"},\"hovermode\":\"closest\",\"hoverlabel\":{\"align\":\"left\"},\"paper_bgcolor\":\"white\",\"plot_bgcolor\":\"#E5ECF6\",\"polar\":{\"bgcolor\":\"#E5ECF6\",\"angularaxis\":{\"gridcolor\":\"white\",\"linecolor\":\"white\",\"ticks\":\"\"},\"radialaxis\":{\"gridcolor\":\"white\",\"linecolor\":\"white\",\"ticks\":\"\"}},\"ternary\":{\"bgcolor\":\"#E5ECF6\",\"aaxis\":{\"gridcolor\":\"white\",\"linecolor\":\"white\",\"ticks\":\"\"},\"baxis\":{\"gridcolor\":\"white\",\"linecolor\":\"white\",\"ticks\":\"\"},\"caxis\":{\"gridcolor\":\"white\",\"linecolor\":\"white\",\"ticks\":\"\"}},\"coloraxis\":{\"colorbar\":{\"outlinewidth\":0,\"ticks\":\"\"}},\"colorscale\":{\"sequential\":[[0.0,\"#0d0887\"],[0.1111111111111111,\"#46039f\"],[0.2222222222222222,\"#7201a8\"],[0.3333333333333333,\"#9c179e\"],[0.4444444444444444,\"#bd3786\"],[0.5555555555555556,\"#d8576b\"],[0.6666666666666666,\"#ed7953\"],[0.7777777777777778,\"#fb9f3a\"],[0.8888888888888888,\"#fdca26\"],[1.0,\"#f0f921\"]],\"sequentialminus\":[[0.0,\"#0d0887\"],[0.1111111111111111,\"#46039f\"],[0.2222222222222222,\"#7201a8\"],[0.3333333333333333,\"#9c179e\"],[0.4444444444444444,\"#bd3786\"],[0.5555555555555556,\"#d8576b\"],[0.6666666666666666,\"#ed7953\"],[0.7777777777777778,\"#fb9f3a\"],[0.8888888888888888,\"#fdca26\"],[1.0,\"#f0f921\"]],\"diverging\":[[0,\"#8e0152\"],[0.1,\"#c51b7d\"],[0.2,\"#de77ae\"],[0.3,\"#f1b6da\"],[0.4,\"#fde0ef\"],[0.5,\"#f7f7f7\"],[0.6,\"#e6f5d0\"],[0.7,\"#b8e186\"],[0.8,\"#7fbc41\"],[0.9,\"#4d9221\"],[1,\"#276419\"]]},\"xaxis\":{\"gridcolor\":\"white\",\"linecolor\":\"white\",\"ticks\":\"\",\"title\":{\"standoff\":15},\"zerolinecolor\":\"white\",\"automargin\":true,\"zerolinewidth\":2},\"yaxis\":{\"gridcolor\":\"white\",\"linecolor\":\"white\",\"ticks\":\"\",\"title\":{\"standoff\":15},\"zerolinecolor\":\"white\",\"automargin\":true,\"zerolinewidth\":2},\"scene\":{\"xaxis\":{\"backgroundcolor\":\"#E5ECF6\",\"gridcolor\":\"white\",\"linecolor\":\"white\",\"showbackground\":true,\"ticks\":\"\",\"zerolinecolor\":\"white\",\"gridwidth\":2},\"yaxis\":{\"backgroundcolor\":\"#E5ECF6\",\"gridcolor\":\"white\",\"linecolor\":\"white\",\"showbackground\":true,\"ticks\":\"\",\"zerolinecolor\":\"white\",\"gridwidth\":2},\"zaxis\":{\"backgroundcolor\":\"#E5ECF6\",\"gridcolor\":\"white\",\"linecolor\":\"white\",\"showbackground\":true,\"ticks\":\"\",\"zerolinecolor\":\"white\",\"gridwidth\":2}},\"shapedefaults\":{\"line\":{\"color\":\"#2a3f5f\"}},\"annotationdefaults\":{\"arrowcolor\":\"#2a3f5f\",\"arrowhead\":0,\"arrowwidth\":1},\"geo\":{\"bgcolor\":\"white\",\"landcolor\":\"#E5ECF6\",\"subunitcolor\":\"white\",\"showland\":true,\"showlakes\":true,\"lakecolor\":\"white\"},\"title\":{\"x\":0.05},\"mapbox\":{\"style\":\"light\"}}},\"xaxis\":{\"anchor\":\"y\",\"domain\":[0.0,1.0],\"title\":{\"text\":\"d2x\"}},\"yaxis\":{\"anchor\":\"x\",\"domain\":[0.0,1.0],\"title\":{\"text\":\"option_pnl\"}},\"legend\":{\"tracegroupgap\":0},\"title\":{\"text\":\"Daily Profit and Loss\"}},                        {\"responsive\": true}                    ).then(function(){\n",
       "                            \n",
       "var gd = document.getElementById('d017a2d3-f1bf-40d6-80a3-7346fe547e45');\n",
       "var x = new MutationObserver(function (mutations, observer) {{\n",
       "        var display = window.getComputedStyle(gd).display;\n",
       "        if (!display || display === 'none') {{\n",
       "            console.log([gd, 'removed!']);\n",
       "            Plotly.purge(gd);\n",
       "            observer.disconnect();\n",
       "        }}\n",
       "}});\n",
       "\n",
       "// Listen for the removal of the full notebook cells\n",
       "var notebookContainer = gd.closest('#notebook-container');\n",
       "if (notebookContainer) {{\n",
       "    x.observe(notebookContainer, {childList: true});\n",
       "}}\n",
       "\n",
       "// Listen for the clearing of the current output cell\n",
       "var outputEl = gd.closest('.output');\n",
       "if (outputEl) {{\n",
       "    x.observe(outputEl, {childList: true});\n",
       "}}\n",
       "\n",
       "                        })                };                });            </script>        </div>"
      ]
     },
     "metadata": {},
     "output_type": "display_data"
    }
   ],
   "source": [
    "fig = px.line(df_path, x='d2x', y='option_pnl', title = \"Daily Profit and Loss\")\n",
    "fig.show()"
   ]
  },
  {
   "cell_type": "code",
   "execution_count": 14,
   "metadata": {},
   "outputs": [
    {
     "name": "stdout",
     "output_type": "stream",
     "text": [
      "The delta hedge pnl is:\n"
     ]
    },
    {
     "data": {
      "text/plain": [
       "1.2570030000000187"
      ]
     },
     "execution_count": 14,
     "metadata": {},
     "output_type": "execute_result"
    }
   ],
   "source": [
    "# Calculate the PNL from the delta hedge\n",
    "# *my note*: delta hedge pnl = -buy_sell*(delta from (t-1))*(chg in price of underlying)\n",
    "df_path['delta_hedge_pnl'] = -df_path['buy_sell'] * df_path['delta'].shift(1) * df_path['upx'].diff() \n",
    "df_path\n",
    "print(\"The delta hedge pnl is:\")\n",
    "cum_delta_hedge_pnl = df_path['delta_hedge_pnl'].sum()\n",
    "cum_delta_hedge_pnl"
   ]
  },
  {
   "cell_type": "markdown",
   "metadata": {},
   "source": [
    "#### The delta hedge pnl is a gain of: 1.257 dollars"
   ]
  },
  {
   "cell_type": "code",
   "execution_count": 15,
   "metadata": {},
   "outputs": [
    {
     "data": {
      "text/plain": [
       "-3.782996999999989"
      ]
     },
     "execution_count": 15,
     "metadata": {},
     "output_type": "execute_result"
    }
   ],
   "source": [
    "# Calculate the total PNL\n",
    "df_path['total_pnl'] = df_path['option_pnl'] + df_path['delta_hedge_pnl']\n",
    "df_path\n",
    "df_path['total_pnl'].sum()"
   ]
  },
  {
   "cell_type": "code",
   "execution_count": 16,
   "metadata": {},
   "outputs": [
    {
     "name": "stdout",
     "output_type": "stream",
     "text": [
      "The total pnl is:\n"
     ]
    },
    {
     "data": {
      "text/plain": [
       "-0.015071701195219063"
      ]
     },
     "execution_count": 16,
     "metadata": {},
     "output_type": "execute_result"
    }
   ],
   "source": [
    "print(\"The total pnl is:\")\n",
    "df_path['total_pnl'].mean()"
   ]
  },
  {
   "cell_type": "markdown",
   "metadata": {},
   "source": [
    "#### Total pnl is -3.78 and the average pnl is -0.015"
   ]
  },
  {
   "cell_type": "markdown",
   "metadata": {},
   "source": [
    "### 5. How does the actual PNL compare with the PNL that would be predicted by the vega at the time of execution? What could explain the discrepancies?"
   ]
  },
  {
   "cell_type": "code",
   "execution_count": 17,
   "metadata": {},
   "outputs": [
    {
     "name": "stdout",
     "output_type": "stream",
     "text": [
      "Vega is:\n"
     ]
    },
    {
     "data": {
      "text/plain": [
       "-1.07"
      ]
     },
     "execution_count": 17,
     "metadata": {},
     "output_type": "execute_result"
    }
   ],
   "source": [
    "# this returns vega divided by 100\n",
    "vega = -bsm_vega(df_path[['cp', 'upx', 'strike', 't2x', 'volatility']].iloc[0,:])\n",
    "print(\"Vega is:\")\n",
    "#vega = vega*100\n",
    "vega"
   ]
  },
  {
   "cell_type": "markdown",
   "metadata": {},
   "source": [
    "#### Vega is: -1.07"
   ]
  },
  {
   "cell_type": "code",
   "execution_count": 23,
   "metadata": {},
   "outputs": [
    {
     "data": {
      "text/plain": [
       "-4.19435881127016"
      ]
     },
     "execution_count": 23,
     "metadata": {},
     "output_type": "execute_result"
    }
   ],
   "source": [
    "# Using the identity\n",
    "x = -vega * (implied_vol - real_vol) * 100\n",
    "x"
   ]
  },
  {
   "cell_type": "code",
   "execution_count": 24,
   "metadata": {},
   "outputs": [
    {
     "data": {
      "text/plain": [
       "18.07935881127016"
      ]
     },
     "execution_count": 24,
     "metadata": {},
     "output_type": "execute_result"
    }
   ],
   "source": [
    "# Vega gives the change in the option price given a 1% change in the volatility of the underlying\n",
    "# using the calculated vega of -1.07:\n",
    "initial_option_price = df_option_data['option_price'].iloc[0]\n",
    "adjusted_option_price = initial_option_price + ((implied_vol - real_vol)*vega*100)\n",
    "adjusted_option_price"
   ]
  },
  {
   "cell_type": "code",
   "execution_count": 25,
   "metadata": {},
   "outputs": [
    {
     "data": {
      "text/plain": [
       "-4.1943588112701615"
      ]
     },
     "execution_count": 25,
     "metadata": {},
     "output_type": "execute_result"
    }
   ],
   "source": [
    "# the pnl on the option is the difference between the price we sold the option for and how much it is worth at expiration\n",
    "option_pnl_predicted_by_vega = (initial_option_price - adjusted_option_price)\n",
    "option_pnl_predicted_by_vega\n",
    "\n",
    "#this gives the same value as: -vega * (implied_vol - real_vol) * 100"
   ]
  },
  {
   "cell_type": "code",
   "execution_count": 26,
   "metadata": {},
   "outputs": [
    {
     "name": "stdout",
     "output_type": "stream",
     "text": [
      "Using the option pnl predicted by vega, the total pnl is:\n"
     ]
    },
    {
     "data": {
      "text/plain": [
       "-2.937355811270143"
      ]
     },
     "execution_count": 26,
     "metadata": {},
     "output_type": "execute_result"
    }
   ],
   "source": [
    "adjusted_total_pnl = df_path['delta_hedge_pnl'].sum() + option_pnl_predicted_by_vega\n",
    "print(\"Using the option pnl predicted by vega, the total pnl is:\")\n",
    "adjusted_total_pnl"
   ]
  },
  {
   "cell_type": "markdown",
   "metadata": {},
   "source": [
    "#### Using the option pnl predicted by vega, the total pnl is: -2.94"
   ]
  },
  {
   "cell_type": "markdown",
   "metadata": {},
   "source": [
    "#### Answer: Using vega, I would have predicted the option pnl to be -4.124, and total pnl to be -2.937, while our actual option pnl is -5.04 and the total pnl is -3.783. The pnl predicted by vega is less negative than the actual.  The driver behind the discrepancy is that we are not re-calculating vega over the life of the option. "
   ]
  },
  {
   "cell_type": "code",
   "execution_count": null,
   "metadata": {},
   "outputs": [],
   "source": []
  }
 ],
 "metadata": {
  "kernelspec": {
   "display_name": "Python 3 (ipykernel)",
   "language": "python",
   "name": "python3"
  },
  "language_info": {
   "codemirror_mode": {
    "name": "ipython",
    "version": 3
   },
   "file_extension": ".py",
   "mimetype": "text/x-python",
   "name": "python",
   "nbconvert_exporter": "python",
   "pygments_lexer": "ipython3",
   "version": "3.8.11"
  }
 },
 "nbformat": 4,
 "nbformat_minor": 4
}
