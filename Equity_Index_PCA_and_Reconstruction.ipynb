{
 "cells": [
  {
   "cell_type": "markdown",
   "id": "79315f1f",
   "metadata": {},
   "source": [
    "# Equity Index PCA and Reconstruction"
   ]
  },
  {
   "cell_type": "markdown",
   "id": "3c0c8ecf",
   "metadata": {},
   "source": [
    "Whitney Rueckl <br>\n",
    "Summer  2022"
   ]
  },
  {
   "cell_type": "code",
   "execution_count": 60,
   "id": "2aa974d0",
   "metadata": {},
   "outputs": [],
   "source": [
    "import os\n",
    "import sys\n",
    "#sys.version\n",
    "\n",
    "import numpy as np\n",
    "import pandas as pd\n",
    "import pandas_datareader as pdr\n",
    "pd.options.display.max_rows = 10\n",
    "#from datetime import datetime\n",
    "import missingno as msno\n",
    "\n",
    "import matplotlib.pyplot as plt\n",
    "\n",
    "from sklearn.decomposition import KernelPCA, PCA\n",
    "\n",
    "import quandl\n",
    "quandl.ApiConfig.api_key = '<enter_quandl_key_here>'\n",
    "\n",
    "# View all databases and codes\n",
    "#https://www.quandl.com/api/v3/databases?api_key=<enter_quandl_api_key_here> #&page=2\n",
    "\n",
    "# from alpha_vantage.timeseries import TimeSeries\n",
    "# alpha_vantage_api_key = '<enter_alpha_vantage_key>'"
   ]
  },
  {
   "cell_type": "code",
   "execution_count": null,
   "id": "f0d55e06",
   "metadata": {},
   "outputs": [],
   "source": [
    "#get https://www.quandl.com/api/v3/datasets?database_code=<database-name>&api_key=<api-key>"
   ]
  },
  {
   "cell_type": "markdown",
   "id": "26073f62",
   "metadata": {},
   "source": [
    "### Get historical price data"
   ]
  },
  {
   "cell_type": "markdown",
   "id": "26d4f01d",
   "metadata": {},
   "source": [
    "#### Historical data for the sector ETFs of the S&P 500 (SPY)"
   ]
  },
  {
   "cell_type": "code",
   "execution_count": 19,
   "id": "71cb4a0b",
   "metadata": {},
   "outputs": [],
   "source": [
    "tickers = [\n",
    "    'XLY',\n",
    "    'XLP',\n",
    "    'XLE',\n",
    "    'XLF',\n",
    "    'XLV',\n",
    "    'XLI',\n",
    "    'XLB',\n",
    "    'XLRE',\n",
    "    'XLK',\n",
    "    'XLU'\n",
    "]"
   ]
  },
  {
   "cell_type": "code",
   "execution_count": 20,
   "id": "1f36134a",
   "metadata": {},
   "outputs": [],
   "source": [
    "df_components = pdr.get_data_yahoo(tickers, start='2017-01-01', end='2017-12-31') # note: returns dataframe with a MultiIndex...revisit this\n",
    "df_components = df_components['Adj Close']\n",
    "df_components.columns = df_components.columns.str.replace(' ','_')"
   ]
  },
  {
   "cell_type": "code",
   "execution_count": 21,
   "id": "b3bb4d6b",
   "metadata": {},
   "outputs": [],
   "source": [
    "#df_components"
   ]
  },
  {
   "cell_type": "code",
   "execution_count": 22,
   "id": "95be4dff",
   "metadata": {},
   "outputs": [
    {
     "data": {
      "text/html": [
       "<div>\n",
       "<style scoped>\n",
       "    .dataframe tbody tr th:only-of-type {\n",
       "        vertical-align: middle;\n",
       "    }\n",
       "\n",
       "    .dataframe tbody tr th {\n",
       "        vertical-align: top;\n",
       "    }\n",
       "\n",
       "    .dataframe thead th {\n",
       "        text-align: right;\n",
       "    }\n",
       "</style>\n",
       "<table border=\"1\" class=\"dataframe\">\n",
       "  <thead>\n",
       "    <tr style=\"text-align: right;\">\n",
       "      <th></th>\n",
       "      <th>XLY</th>\n",
       "      <th>XLP</th>\n",
       "      <th>XLE</th>\n",
       "      <th>XLF</th>\n",
       "      <th>XLV</th>\n",
       "      <th>XLI</th>\n",
       "      <th>XLB</th>\n",
       "      <th>XLRE</th>\n",
       "      <th>XLK</th>\n",
       "      <th>XLU</th>\n",
       "    </tr>\n",
       "    <tr>\n",
       "      <th>Date</th>\n",
       "      <th></th>\n",
       "      <th></th>\n",
       "      <th></th>\n",
       "      <th></th>\n",
       "      <th></th>\n",
       "      <th></th>\n",
       "      <th></th>\n",
       "      <th></th>\n",
       "      <th></th>\n",
       "      <th></th>\n",
       "    </tr>\n",
       "  </thead>\n",
       "  <tbody>\n",
       "    <tr>\n",
       "      <th>2017-01-03</th>\n",
       "      <td>77.117432</td>\n",
       "      <td>44.767738</td>\n",
       "      <td>58.816734</td>\n",
       "      <td>21.115057</td>\n",
       "      <td>63.650330</td>\n",
       "      <td>56.652653</td>\n",
       "      <td>44.827702</td>\n",
       "      <td>25.801811</td>\n",
       "      <td>45.620102</td>\n",
       "      <td>40.556461</td>\n",
       "    </tr>\n",
       "    <tr>\n",
       "      <th>2017-01-04</th>\n",
       "      <td>78.144035</td>\n",
       "      <td>44.767738</td>\n",
       "      <td>58.693192</td>\n",
       "      <td>21.285702</td>\n",
       "      <td>64.151588</td>\n",
       "      <td>56.987553</td>\n",
       "      <td>45.482327</td>\n",
       "      <td>26.127998</td>\n",
       "      <td>45.779057</td>\n",
       "      <td>40.707127</td>\n",
       "    </tr>\n",
       "    <tr>\n",
       "      <th>2017-01-05</th>\n",
       "      <td>78.087509</td>\n",
       "      <td>44.914391</td>\n",
       "      <td>58.546474</td>\n",
       "      <td>21.070150</td>\n",
       "      <td>64.479675</td>\n",
       "      <td>56.824631</td>\n",
       "      <td>45.347805</td>\n",
       "      <td>26.261810</td>\n",
       "      <td>45.853859</td>\n",
       "      <td>40.748981</td>\n",
       "    </tr>\n",
       "    <tr>\n",
       "      <th>2017-01-06</th>\n",
       "      <td>78.473671</td>\n",
       "      <td>44.957512</td>\n",
       "      <td>58.600525</td>\n",
       "      <td>21.142004</td>\n",
       "      <td>64.661934</td>\n",
       "      <td>57.150478</td>\n",
       "      <td>45.392651</td>\n",
       "      <td>26.261810</td>\n",
       "      <td>46.190464</td>\n",
       "      <td>40.874546</td>\n",
       "    </tr>\n",
       "    <tr>\n",
       "      <th>2017-01-09</th>\n",
       "      <td>78.407745</td>\n",
       "      <td>44.595226</td>\n",
       "      <td>57.751141</td>\n",
       "      <td>20.998299</td>\n",
       "      <td>64.935364</td>\n",
       "      <td>56.706955</td>\n",
       "      <td>45.383690</td>\n",
       "      <td>26.094543</td>\n",
       "      <td>46.181122</td>\n",
       "      <td>40.338814</td>\n",
       "    </tr>\n",
       "    <tr>\n",
       "      <th>2017-01-10</th>\n",
       "      <td>78.690300</td>\n",
       "      <td>44.370968</td>\n",
       "      <td>57.226044</td>\n",
       "      <td>21.043205</td>\n",
       "      <td>65.163216</td>\n",
       "      <td>56.942295</td>\n",
       "      <td>45.410576</td>\n",
       "      <td>25.768356</td>\n",
       "      <td>46.190464</td>\n",
       "      <td>40.213253</td>\n",
       "    </tr>\n",
       "    <tr>\n",
       "      <th>2017-01-11</th>\n",
       "      <td>78.859802</td>\n",
       "      <td>44.457226</td>\n",
       "      <td>57.843792</td>\n",
       "      <td>21.177927</td>\n",
       "      <td>64.507034</td>\n",
       "      <td>57.240990</td>\n",
       "      <td>45.778233</td>\n",
       "      <td>25.626177</td>\n",
       "      <td>46.405529</td>\n",
       "      <td>40.631790</td>\n",
       "    </tr>\n",
       "    <tr>\n",
       "      <th>2017-01-12</th>\n",
       "      <td>78.784470</td>\n",
       "      <td>44.414089</td>\n",
       "      <td>57.604404</td>\n",
       "      <td>20.998299</td>\n",
       "      <td>64.570808</td>\n",
       "      <td>57.005642</td>\n",
       "      <td>45.688576</td>\n",
       "      <td>25.726538</td>\n",
       "      <td>46.293320</td>\n",
       "      <td>40.665279</td>\n",
       "    </tr>\n",
       "    <tr>\n",
       "      <th>2017-01-13</th>\n",
       "      <td>79.076439</td>\n",
       "      <td>44.439968</td>\n",
       "      <td>57.434528</td>\n",
       "      <td>21.115057</td>\n",
       "      <td>64.634613</td>\n",
       "      <td>57.222885</td>\n",
       "      <td>45.616840</td>\n",
       "      <td>25.667995</td>\n",
       "      <td>46.433571</td>\n",
       "      <td>40.606674</td>\n",
       "    </tr>\n",
       "    <tr>\n",
       "      <th>2017-01-17</th>\n",
       "      <td>79.208282</td>\n",
       "      <td>45.069645</td>\n",
       "      <td>57.789749</td>\n",
       "      <td>20.612099</td>\n",
       "      <td>64.306519</td>\n",
       "      <td>56.779369</td>\n",
       "      <td>45.410576</td>\n",
       "      <td>25.877090</td>\n",
       "      <td>46.255920</td>\n",
       "      <td>41.050327</td>\n",
       "    </tr>\n",
       "  </tbody>\n",
       "</table>\n",
       "</div>"
      ],
      "text/plain": [
       "                  XLY        XLP        XLE        XLF        XLV        XLI  \\\n",
       "Date                                                                           \n",
       "2017-01-03  77.117432  44.767738  58.816734  21.115057  63.650330  56.652653   \n",
       "2017-01-04  78.144035  44.767738  58.693192  21.285702  64.151588  56.987553   \n",
       "2017-01-05  78.087509  44.914391  58.546474  21.070150  64.479675  56.824631   \n",
       "2017-01-06  78.473671  44.957512  58.600525  21.142004  64.661934  57.150478   \n",
       "2017-01-09  78.407745  44.595226  57.751141  20.998299  64.935364  56.706955   \n",
       "2017-01-10  78.690300  44.370968  57.226044  21.043205  65.163216  56.942295   \n",
       "2017-01-11  78.859802  44.457226  57.843792  21.177927  64.507034  57.240990   \n",
       "2017-01-12  78.784470  44.414089  57.604404  20.998299  64.570808  57.005642   \n",
       "2017-01-13  79.076439  44.439968  57.434528  21.115057  64.634613  57.222885   \n",
       "2017-01-17  79.208282  45.069645  57.789749  20.612099  64.306519  56.779369   \n",
       "\n",
       "                  XLB       XLRE        XLK        XLU  \n",
       "Date                                                    \n",
       "2017-01-03  44.827702  25.801811  45.620102  40.556461  \n",
       "2017-01-04  45.482327  26.127998  45.779057  40.707127  \n",
       "2017-01-05  45.347805  26.261810  45.853859  40.748981  \n",
       "2017-01-06  45.392651  26.261810  46.190464  40.874546  \n",
       "2017-01-09  45.383690  26.094543  46.181122  40.338814  \n",
       "2017-01-10  45.410576  25.768356  46.190464  40.213253  \n",
       "2017-01-11  45.778233  25.626177  46.405529  40.631790  \n",
       "2017-01-12  45.688576  25.726538  46.293320  40.665279  \n",
       "2017-01-13  45.616840  25.667995  46.433571  40.606674  \n",
       "2017-01-17  45.410576  25.877090  46.255920  41.050327  "
      ]
     },
     "execution_count": 22,
     "metadata": {},
     "output_type": "execute_result"
    }
   ],
   "source": [
    "df_components.columns = tickers\n",
    "df_components.head(10)"
   ]
  },
  {
   "cell_type": "markdown",
   "id": "32b395ad",
   "metadata": {},
   "source": [
    "#### Fill any missing values (forward fill)"
   ]
  },
  {
   "cell_type": "code",
   "execution_count": 23,
   "id": "45801ef4",
   "metadata": {},
   "outputs": [],
   "source": [
    "filled_df_components = df_components.fillna(method='ffill')\n",
    "#filled_df_components"
   ]
  },
  {
   "cell_type": "code",
   "execution_count": 24,
   "id": "ffb70fa2",
   "metadata": {},
   "outputs": [],
   "source": [
    "daily_df_components = filled_df_components.resample('24h').ffill()\n",
    "#daily_df_components"
   ]
  },
  {
   "cell_type": "code",
   "execution_count": 25,
   "id": "6706472f",
   "metadata": {},
   "outputs": [],
   "source": [
    "#daily_df_components = daily_df_components.fillna(method='bfill')"
   ]
  },
  {
   "cell_type": "markdown",
   "id": "11d834b3",
   "metadata": {},
   "source": [
    "#### Get historical price data for the S&P 500<br>"
   ]
  },
  {
   "cell_type": "code",
   "execution_count": 26,
   "id": "e3b9bb60",
   "metadata": {},
   "outputs": [
    {
     "data": {
      "text/html": [
       "<div>\n",
       "<style scoped>\n",
       "    .dataframe tbody tr th:only-of-type {\n",
       "        vertical-align: middle;\n",
       "    }\n",
       "\n",
       "    .dataframe tbody tr th {\n",
       "        vertical-align: top;\n",
       "    }\n",
       "\n",
       "    .dataframe thead th {\n",
       "        text-align: right;\n",
       "    }\n",
       "</style>\n",
       "<table border=\"1\" class=\"dataframe\">\n",
       "  <thead>\n",
       "    <tr style=\"text-align: right;\">\n",
       "      <th></th>\n",
       "      <th>High</th>\n",
       "      <th>Low</th>\n",
       "      <th>Open</th>\n",
       "      <th>Close</th>\n",
       "      <th>Volume</th>\n",
       "      <th>Adj Close</th>\n",
       "    </tr>\n",
       "    <tr>\n",
       "      <th>Date</th>\n",
       "      <th></th>\n",
       "      <th></th>\n",
       "      <th></th>\n",
       "      <th></th>\n",
       "      <th></th>\n",
       "      <th></th>\n",
       "    </tr>\n",
       "  </thead>\n",
       "  <tbody>\n",
       "    <tr>\n",
       "      <th>2017-01-03</th>\n",
       "      <td>225.830002</td>\n",
       "      <td>223.880005</td>\n",
       "      <td>225.039993</td>\n",
       "      <td>225.240005</td>\n",
       "      <td>91366500.0</td>\n",
       "      <td>204.625153</td>\n",
       "    </tr>\n",
       "    <tr>\n",
       "      <th>2017-01-04</th>\n",
       "      <td>226.750000</td>\n",
       "      <td>225.610001</td>\n",
       "      <td>225.619995</td>\n",
       "      <td>226.580002</td>\n",
       "      <td>78744400.0</td>\n",
       "      <td>205.842514</td>\n",
       "    </tr>\n",
       "    <tr>\n",
       "      <th>2017-01-05</th>\n",
       "      <td>226.580002</td>\n",
       "      <td>225.479996</td>\n",
       "      <td>226.270004</td>\n",
       "      <td>226.399994</td>\n",
       "      <td>78379000.0</td>\n",
       "      <td>205.679001</td>\n",
       "    </tr>\n",
       "    <tr>\n",
       "      <th>2017-01-06</th>\n",
       "      <td>227.750000</td>\n",
       "      <td>225.899994</td>\n",
       "      <td>226.529999</td>\n",
       "      <td>227.210007</td>\n",
       "      <td>71559900.0</td>\n",
       "      <td>206.414871</td>\n",
       "    </tr>\n",
       "    <tr>\n",
       "      <th>2017-01-09</th>\n",
       "      <td>227.070007</td>\n",
       "      <td>226.419998</td>\n",
       "      <td>226.910004</td>\n",
       "      <td>226.460007</td>\n",
       "      <td>46939700.0</td>\n",
       "      <td>205.733505</td>\n",
       "    </tr>\n",
       "    <tr>\n",
       "      <th>...</th>\n",
       "      <td>...</td>\n",
       "      <td>...</td>\n",
       "      <td>...</td>\n",
       "      <td>...</td>\n",
       "      <td>...</td>\n",
       "      <td>...</td>\n",
       "    </tr>\n",
       "    <tr>\n",
       "      <th>2017-12-22</th>\n",
       "      <td>267.640015</td>\n",
       "      <td>266.899994</td>\n",
       "      <td>267.600006</td>\n",
       "      <td>267.510010</td>\n",
       "      <td>78720900.0</td>\n",
       "      <td>247.751175</td>\n",
       "    </tr>\n",
       "    <tr>\n",
       "      <th>2017-12-26</th>\n",
       "      <td>267.440002</td>\n",
       "      <td>266.890015</td>\n",
       "      <td>267.049988</td>\n",
       "      <td>267.190002</td>\n",
       "      <td>45244400.0</td>\n",
       "      <td>247.454803</td>\n",
       "    </tr>\n",
       "    <tr>\n",
       "      <th>2017-12-27</th>\n",
       "      <td>267.730011</td>\n",
       "      <td>267.010010</td>\n",
       "      <td>267.380005</td>\n",
       "      <td>267.320007</td>\n",
       "      <td>57751000.0</td>\n",
       "      <td>247.575256</td>\n",
       "    </tr>\n",
       "    <tr>\n",
       "      <th>2017-12-28</th>\n",
       "      <td>267.920013</td>\n",
       "      <td>267.450012</td>\n",
       "      <td>267.890015</td>\n",
       "      <td>267.869995</td>\n",
       "      <td>45116100.0</td>\n",
       "      <td>248.084625</td>\n",
       "    </tr>\n",
       "    <tr>\n",
       "      <th>2017-12-29</th>\n",
       "      <td>268.549988</td>\n",
       "      <td>266.640015</td>\n",
       "      <td>268.529999</td>\n",
       "      <td>266.859985</td>\n",
       "      <td>96007400.0</td>\n",
       "      <td>247.149231</td>\n",
       "    </tr>\n",
       "  </tbody>\n",
       "</table>\n",
       "<p>251 rows × 6 columns</p>\n",
       "</div>"
      ],
      "text/plain": [
       "                  High         Low        Open       Close      Volume  \\\n",
       "Date                                                                     \n",
       "2017-01-03  225.830002  223.880005  225.039993  225.240005  91366500.0   \n",
       "2017-01-04  226.750000  225.610001  225.619995  226.580002  78744400.0   \n",
       "2017-01-05  226.580002  225.479996  226.270004  226.399994  78379000.0   \n",
       "2017-01-06  227.750000  225.899994  226.529999  227.210007  71559900.0   \n",
       "2017-01-09  227.070007  226.419998  226.910004  226.460007  46939700.0   \n",
       "...                ...         ...         ...         ...         ...   \n",
       "2017-12-22  267.640015  266.899994  267.600006  267.510010  78720900.0   \n",
       "2017-12-26  267.440002  266.890015  267.049988  267.190002  45244400.0   \n",
       "2017-12-27  267.730011  267.010010  267.380005  267.320007  57751000.0   \n",
       "2017-12-28  267.920013  267.450012  267.890015  267.869995  45116100.0   \n",
       "2017-12-29  268.549988  266.640015  268.529999  266.859985  96007400.0   \n",
       "\n",
       "             Adj Close  \n",
       "Date                    \n",
       "2017-01-03  204.625153  \n",
       "2017-01-04  205.842514  \n",
       "2017-01-05  205.679001  \n",
       "2017-01-06  206.414871  \n",
       "2017-01-09  205.733505  \n",
       "...                ...  \n",
       "2017-12-22  247.751175  \n",
       "2017-12-26  247.454803  \n",
       "2017-12-27  247.575256  \n",
       "2017-12-28  248.084625  \n",
       "2017-12-29  247.149231  \n",
       "\n",
       "[251 rows x 6 columns]"
      ]
     },
     "execution_count": 26,
     "metadata": {},
     "output_type": "execute_result"
    }
   ],
   "source": [
    "df_index = pdr.get_data_yahoo(\"SPY\", start='2017-01-01', end='2017-12-31')\n",
    "df_index"
   ]
  },
  {
   "cell_type": "code",
   "execution_count": 27,
   "id": "171ff1ae",
   "metadata": {},
   "outputs": [
    {
     "data": {
      "text/html": [
       "<div>\n",
       "<style scoped>\n",
       "    .dataframe tbody tr th:only-of-type {\n",
       "        vertical-align: middle;\n",
       "    }\n",
       "\n",
       "    .dataframe tbody tr th {\n",
       "        vertical-align: top;\n",
       "    }\n",
       "\n",
       "    .dataframe thead th {\n",
       "        text-align: right;\n",
       "    }\n",
       "</style>\n",
       "<table border=\"1\" class=\"dataframe\">\n",
       "  <thead>\n",
       "    <tr style=\"text-align: right;\">\n",
       "      <th></th>\n",
       "      <th>adj_close</th>\n",
       "    </tr>\n",
       "    <tr>\n",
       "      <th>Date</th>\n",
       "      <th></th>\n",
       "    </tr>\n",
       "  </thead>\n",
       "  <tbody>\n",
       "    <tr>\n",
       "      <th>2017-01-03</th>\n",
       "      <td>204.625153</td>\n",
       "    </tr>\n",
       "    <tr>\n",
       "      <th>2017-01-04</th>\n",
       "      <td>205.842514</td>\n",
       "    </tr>\n",
       "    <tr>\n",
       "      <th>2017-01-05</th>\n",
       "      <td>205.679001</td>\n",
       "    </tr>\n",
       "    <tr>\n",
       "      <th>2017-01-06</th>\n",
       "      <td>206.414871</td>\n",
       "    </tr>\n",
       "    <tr>\n",
       "      <th>2017-01-09</th>\n",
       "      <td>205.733505</td>\n",
       "    </tr>\n",
       "    <tr>\n",
       "      <th>...</th>\n",
       "      <td>...</td>\n",
       "    </tr>\n",
       "    <tr>\n",
       "      <th>2017-12-22</th>\n",
       "      <td>247.751175</td>\n",
       "    </tr>\n",
       "    <tr>\n",
       "      <th>2017-12-26</th>\n",
       "      <td>247.454803</td>\n",
       "    </tr>\n",
       "    <tr>\n",
       "      <th>2017-12-27</th>\n",
       "      <td>247.575256</td>\n",
       "    </tr>\n",
       "    <tr>\n",
       "      <th>2017-12-28</th>\n",
       "      <td>248.084625</td>\n",
       "    </tr>\n",
       "    <tr>\n",
       "      <th>2017-12-29</th>\n",
       "      <td>247.149231</td>\n",
       "    </tr>\n",
       "  </tbody>\n",
       "</table>\n",
       "<p>251 rows × 1 columns</p>\n",
       "</div>"
      ],
      "text/plain": [
       "             adj_close\n",
       "Date                  \n",
       "2017-01-03  204.625153\n",
       "2017-01-04  205.842514\n",
       "2017-01-05  205.679001\n",
       "2017-01-06  206.414871\n",
       "2017-01-09  205.733505\n",
       "...                ...\n",
       "2017-12-22  247.751175\n",
       "2017-12-26  247.454803\n",
       "2017-12-27  247.575256\n",
       "2017-12-28  248.084625\n",
       "2017-12-29  247.149231\n",
       "\n",
       "[251 rows x 1 columns]"
      ]
     },
     "execution_count": 27,
     "metadata": {},
     "output_type": "execute_result"
    }
   ],
   "source": [
    "# Convert columns to snake case (my preference)\n",
    "df_index.columns = df_index.columns.str.lower().str.replace(' ','_')\n",
    "\n",
    "# Grab the adjusted close prices only\n",
    "df_index = pd.DataFrame(df_index['adj_close'])\n",
    "df_index"
   ]
  },
  {
   "cell_type": "code",
   "execution_count": 28,
   "id": "9835f980",
   "metadata": {},
   "outputs": [
    {
     "name": "stdout",
     "output_type": "stream",
     "text": [
      "<class 'pandas._libs.tslibs.timestamps.Timestamp'>\n",
      "<class 'pandas._libs.tslibs.timestamps.Timestamp'>\n"
     ]
    }
   ],
   "source": [
    "# Check the type on date indexes both datasets\n",
    "print(type(df_index.index[0]))\n",
    "print(type(df_components.index[0]))"
   ]
  },
  {
   "cell_type": "code",
   "execution_count": 29,
   "id": "5e602f93",
   "metadata": {},
   "outputs": [],
   "source": [
    "# Resample on a daily basis\n",
    "df_index = df_index.resample('24h').ffill()"
   ]
  },
  {
   "cell_type": "markdown",
   "id": "35b44155",
   "metadata": {},
   "source": [
    "## Applying a Kernal PCA"
   ]
  },
  {
   "cell_type": "markdown",
   "id": "92d727c6",
   "metadata": {},
   "source": [
    "About kernal PCA: <br>\n",
    "https://nirpyresearch.com/pca-kernel-pca-explained/ <br>\n",
    "https://ml-explained.com/blog/kernel-pca-explained <br> https://en.wikipedia.org/wiki/Kernel_principal_component_analysis#Introduction_of_the_Kernel_to_PCA <br>\n",
    "https://towardsdatascience.com/kernel-pca-vs-pca-vs-ica-in-tensorflow-sklearn-60e17eb15a64 <br>\n",
    "https://www.youtube.com/watch?v=wBVSbVktLIY <br>"
   ]
  },
  {
   "cell_type": "markdown",
   "id": "4818c776",
   "metadata": {},
   "source": [
    "A normal PCA relies on linear transformations (the process of matrix decomposition into eigenvectors is a linear transformation).  As a result, the principal components are a linear combination of the original features. The kernal PCA was developed to deal with non-linearity in a dataset.\n",
    "\n",
    "Say that $\\mathbf{x}$ the original set of n variables, let’s call $\\phi(\\mathbf{x})$ the non-linear combination (mapping) of these variables into a m>n dataset. Now we can compute the kernel function (which in practice is an array):\n",
    "\n",
    "$$\\kappa(\\mathbf{x}) = \\phi(\\mathbf{x})\\phi^{T}(\\mathbf{x})$$\n",
    "\n",
    "It turns out that the kernel function plays the same role as the covariance matrix did in linear PCA. This means that we can calculate the eigenvalues and eigenvectors of the kernel matrix and these are the new principal components of the m-dimensional space where we mapped our original variables into.\n",
    "\n",
    "The kernel trick is called this way because the kernel function (matrix) enables us to get to the eigenvalues and eigenvector without actually calculating $\\phi(\\mathbf{x})$ explicitly. This is the step that would blow up the number of variables and we can circumvent it using the kernel trick."
   ]
  },
  {
   "cell_type": "markdown",
   "id": "9b02799e",
   "metadata": {},
   "source": [
    "#### Summary of kernal PCA:\n",
    "1. Construct the kernel matrix $K$ from the training dataset\n",
    "$$K_{i,j} =  \\kappa\\left(\\mathbf{x}_{\\mathbf{i}}, \\mathbf{x}_{\\mathbf{j}}\\right)$$\n",
    "\n",
    "2. If the projected matrix does not have zero mean, use the Gram matrix $\\tilde{K}$ to substitute the kernel matrix $K$. <br>\n",
    "$$\n",
    "\\tilde{K}=K-\\mathbf{1}_{\\mathbf{N}} K-K \\mathbf{1}_{\\mathbf{N}}+\\mathbf{1}_{\\mathbf{N}} K \\mathbf{1}_{\\mathbf{N}}\n",
    "$$\n",
    "\n",
    "3. Use $K_{a_{k}}=\\lambda_{k} N_{a_{k}}$ to solve for the vector $a_{i}$.\n",
    "\n",
    "<br>\n",
    "\n",
    "4. Compute the kernel principal components $y_{k}(x)$\n",
    "$$\n",
    "y_{k}(\\mathbf{x})=\\phi(\\mathbf{x})^{T} \\mathbf{v}_{k}=\\sum_{i=1}^{N} a_{k i} \\kappa\\left(\\mathbf{x}_{\\mathbf{i}}, \\mathbf{x}_{\\mathbf{j}}\\right)\n",
    "$$"
   ]
  },
  {
   "cell_type": "markdown",
   "id": "83e89d27",
   "metadata": {},
   "source": [
    "### Normalize the data\n",
    "For PCA, the data must be normalized. Do this with z-scoring"
   ]
  },
  {
   "cell_type": "code",
   "execution_count": 30,
   "id": "0a4efbb4",
   "metadata": {},
   "outputs": [],
   "source": [
    "fn_z_score = lambda x: (x - x.mean()) / x.std()\n",
    "df_z_components = daily_df_components.apply(lambda x: (x - x.mean()) / x.std())"
   ]
  },
  {
   "cell_type": "code",
   "execution_count": 61,
   "id": "232b58b2",
   "metadata": {},
   "outputs": [],
   "source": [
    "#df_z_components.iloc[0].std()"
   ]
  },
  {
   "cell_type": "markdown",
   "id": "fd3e3b02",
   "metadata": {},
   "source": [
    "### Fit a Kernel PCA and Plot Eigenvalues"
   ]
  },
  {
   "cell_type": "code",
   "execution_count": 31,
   "id": "36118c86",
   "metadata": {},
   "outputs": [
    {
     "data": {
      "text/plain": [
       "KernelPCA()"
      ]
     },
     "execution_count": 31,
     "metadata": {},
     "output_type": "execute_result"
    }
   ],
   "source": [
    "# Note that a kernal PCA with a linear kernal is equivalent to a regular PCA\n",
    "fitted_kpca = KernelPCA(kernel = 'linear').fit(df_z_components)\n",
    "fitted_kpca"
   ]
  },
  {
   "cell_type": "code",
   "execution_count": 32,
   "id": "623a772a",
   "metadata": {},
   "outputs": [
    {
     "data": {
      "text/plain": [
       "array([2.77470369e+03, 4.86045838e+02, 1.82263457e+02, 7.31877015e+01,\n",
       "       3.23057447e+01, 2.16507149e+01, 1.56319660e+01, 6.92309111e+00,\n",
       "       4.52014479e+00, 2.76764895e+00])"
      ]
     },
     "execution_count": 32,
     "metadata": {},
     "output_type": "execute_result"
    }
   ],
   "source": [
    "#help(KernelPCA())\n",
    "fitted_kpca.eigenvalues_"
   ]
  },
  {
   "cell_type": "code",
   "execution_count": 34,
   "id": "cb9a0ee9",
   "metadata": {},
   "outputs": [
    {
     "data": {
      "image/png": "[encoded data removed]",
      "text/plain": [
       "<Figure size 720x432 with 1 Axes>"
      ]
     },
     "metadata": {
      "needs_background": "light"
     },
     "output_type": "display_data"
    }
   ],
   "source": [
    "plt.rcParams['figure.figsize'] = (10,6)\n",
    "plt.plot(fitted_kpca.eigenvalues_)\n",
    "plt.ylabel('Eigenvalues')\n",
    "plt.title(\"Eigenvalues by Principal Component\")\n",
    "plt.show()"
   ]
  },
  {
   "cell_type": "markdown",
   "id": "9426cd01",
   "metadata": {},
   "source": [
    "From the graph above, we can see that the first few components explain most of the variance in the dataset. <br>\n",
    "\n"
   ]
  },
  {
   "cell_type": "markdown",
   "id": "7af523dd",
   "metadata": {},
   "source": [
    "### %  of explained variance by the first N components\n",
    "Take the first <font color='blue'>N</font> eigenvalues, and see how much explanation each of these eigenvalues gives. We do this by calculating their weighted average values. This will tell us the % of total variance explained by each of the first <font color='blue'>N</font> principal components."
   ]
  },
  {
   "cell_type": "code",
   "execution_count": 36,
   "id": "266f288e",
   "metadata": {},
   "outputs": [
    {
     "name": "stdout",
     "output_type": "stream",
     "text": [
      "The % of total variance explained by the first N components is:  \n",
      "[0.77075103 0.13501273 0.05062874 0.02032992]\n"
     ]
    }
   ],
   "source": [
    "N = 4\n",
    "fn_weighted_avg = lambda x: x / x.sum()\n",
    "weighted_values = fn_weighted_avg(fitted_kpca.eigenvalues_)[:N]\n",
    "\n",
    "print(\"The % of total variance explained by the first N components is: \", '\\n' + str(weighted_values))"
   ]
  },
  {
   "cell_type": "markdown",
   "id": "245e9d26",
   "metadata": {},
   "source": [
    "The output above tells us that ~77.1% of the total variance in the dataset is explained by the first principal component, ~13.5% by the second principal component, and so on. "
   ]
  },
  {
   "cell_type": "code",
   "execution_count": 38,
   "id": "40b5bbb9",
   "metadata": {},
   "outputs": [
    {
     "data": {
      "text/plain": [
       "0.9767224137602034"
      ]
     },
     "execution_count": 38,
     "metadata": {},
     "output_type": "execute_result"
    }
   ],
   "source": [
    "weighted_values.sum()"
   ]
  },
  {
   "cell_type": "markdown",
   "id": "a572571a",
   "metadata": {},
   "source": [
    "The first five eigenvalues explain 97% of the variance in the dataset"
   ]
  },
  {
   "cell_type": "markdown",
   "id": "3673f8db",
   "metadata": {},
   "source": [
    "## Reconstructing the Index using PCA"
   ]
  },
  {
   "cell_type": "markdown",
   "id": "2e13feae",
   "metadata": {},
   "source": [
    "#### Create a PCA index with four components:"
   ]
  },
  {
   "cell_type": "code",
   "execution_count": 40,
   "id": "11d1d458",
   "metadata": {},
   "outputs": [],
   "source": [
    "#del kernel_pca, df_combined, reconstructed_values"
   ]
  },
  {
   "cell_type": "code",
   "execution_count": 49,
   "id": "6016528c",
   "metadata": {},
   "outputs": [
    {
     "data": {
      "text/plain": [
       "KernelPCA(n_components=4)"
      ]
     },
     "execution_count": 49,
     "metadata": {},
     "output_type": "execute_result"
    }
   ],
   "source": [
    "kernel_pca"
   ]
  },
  {
   "cell_type": "code",
   "execution_count": 45,
   "id": "4c14ff36",
   "metadata": {},
   "outputs": [
    {
     "data": {
      "text/plain": [
       "array([[134.48618224,  50.19444141,  38.78396359, -15.458976  ],\n",
       "       [135.63008693,  50.32444341,  38.81980905, -15.30091699],\n",
       "       [135.68969048,  49.99170269,  38.77503105, -15.41092841],\n",
       "       ...,\n",
       "       [163.87509437,  53.05276173,  42.17047144, -10.04627376],\n",
       "       [164.31163102,  53.20831257,  42.06068287, -10.14148712],\n",
       "       [163.73989349,  52.95071271,  41.94037881, -10.32172231]])"
      ]
     },
     "execution_count": 45,
     "metadata": {},
     "output_type": "execute_result"
    }
   ],
   "source": [
    "N = 4\n",
    "kernel_pca = KernelPCA(kernel = 'linear', n_components=N).fit(df_z_components)\n",
    "pca_N = kernel_pca.transform(daily_df_components)\n",
    "pca_N"
   ]
  },
  {
   "cell_type": "code",
   "execution_count": 46,
   "id": "1dd82daa",
   "metadata": {},
   "outputs": [],
   "source": [
    "weights = fn_weighted_avg(kernel_pca.eigenvalues_)\n",
    "reconstructed_values = np.dot(pca_N, weights)\n",
    "#reconstructed_values"
   ]
  },
  {
   "cell_type": "code",
   "execution_count": 47,
   "id": "91a28a36",
   "metadata": {},
   "outputs": [],
   "source": [
    "# Combine DJIA and PCA index for comparison\n",
    "df_combined = df_index.copy()\n",
    "df_combined['pca_N'] = reconstructed_values\n",
    "df_combined = df_combined.apply(fn_z_score)"
   ]
  },
  {
   "cell_type": "code",
   "execution_count": 48,
   "id": "8582996a",
   "metadata": {},
   "outputs": [
    {
     "data": {
      "image/png": "[encoded data removed]",
      "text/plain": [
       "<Figure size 720x432 with 1 Axes>"
      ]
     },
     "metadata": {
      "needs_background": "light"
     },
     "output_type": "display_data"
    }
   ],
   "source": [
    "df_combined.plot(figsize=(10, 6));"
   ]
  },
  {
   "cell_type": "markdown",
   "id": "4385747f",
   "metadata": {},
   "source": [
    "#### A kernel PCA using a linear kernel function same as regular PCA? (Yes)"
   ]
  },
  {
   "cell_type": "markdown",
   "id": "68092fb5",
   "metadata": {},
   "source": [
    "Note: A kernel PCA using a linear kernel function is the same as a standard PCA. <br>\n",
    "The eigenvalues and eigenvectors will be different but the principal components will not change between a standard PCA and a kernel PCA with a linear kernel. \n",
    "\n",
    "https://stats.stackexchange.com/questions/101344/is-kernel-pca-with-linear-kernel-equivalent-to-standard-pca#:~:text=Summary%3A%20kernel%20PCA%20with%20linear,equivalent%20to%20the%20standard%20PCA."
   ]
  },
  {
   "cell_type": "code",
   "execution_count": 50,
   "id": "ee096b2b",
   "metadata": {},
   "outputs": [
    {
     "data": {
      "text/plain": [
       "array([7.70751026e+00, 1.35012733e+00, 5.06287380e-01, 2.03299171e-01,\n",
       "       8.97381798e-02, 6.01408746e-02, 4.34221278e-02, 1.92308086e-02,\n",
       "       1.25559578e-02, 7.68791374e-03])"
      ]
     },
     "execution_count": 50,
     "metadata": {},
     "output_type": "execute_result"
    }
   ],
   "source": [
    "fitted_pca = PCA().fit(df_z_components)\n",
    "# get eigenvalues with .explained_variance_\n",
    "fitted_pca.explained_variance_\n",
    "\n",
    "# from numpy.linalg import eig\n",
    "# cov_matrix = np.cov(df_z_components.T)\n",
    "# eigvals, eigvecs = eig(cov_matrix)"
   ]
  },
  {
   "cell_type": "code",
   "execution_count": 53,
   "id": "bfb49c5b",
   "metadata": {},
   "outputs": [
    {
     "name": "stdout",
     "output_type": "stream",
     "text": [
      "[7.70751026e+00 1.35012733e+00 5.06287380e-01 2.03299171e-01\n",
      " 8.97381798e-02 6.01408746e-02 4.34221278e-02 1.92308086e-02\n",
      " 7.68791374e-03 1.25559578e-02] [[ 0.3397903  -0.0473542   0.37861315  0.01635189  0.48471152 -0.31930581\n",
      "   0.25057229 -0.31124546 -0.28350305  0.40218054]\n",
      " [ 0.26263785  0.33170614  0.77880063 -0.09042452 -0.28648779  0.16139062\n",
      "  -0.15842688  0.13031476  0.00364619 -0.23678869]\n",
      " [-0.09344757 -0.80010317  0.24489937 -0.39405487 -0.16276413  0.0587656\n",
      "  -0.2778692  -0.15444492  0.00397523  0.06943805]\n",
      " [ 0.31909276 -0.33660046 -0.0089594   0.37047726 -0.20730952  0.52474642\n",
      "   0.56255545 -0.04035969 -0.06896589 -0.079727  ]\n",
      " [ 0.34482588  0.06988986 -0.22243761  0.28140596 -0.4817661  -0.2229585\n",
      "  -0.36892773 -0.5531948  -0.15313759  0.01226251]\n",
      " [ 0.3495514  -0.15127821  0.02398824  0.28028656 -0.04062534 -0.16680911\n",
      "  -0.16861745  0.38079801  0.63281312  0.41524164]\n",
      " [ 0.34172086 -0.23000581 -0.14489129  0.10528088  0.134015   -0.19310885\n",
      "  -0.24065359  0.55905759 -0.53529343 -0.29325243]\n",
      " [ 0.33524523  0.0690873  -0.21150621 -0.61871962 -0.35226084 -0.33302469\n",
      "   0.44897114  0.10696795  0.07915026 -0.03183686]\n",
      " [ 0.35280594 -0.06799114 -0.09657552 -0.10787872  0.46297205  0.04608169\n",
      "  -0.09736471 -0.29241391  0.42481848 -0.59834552]\n",
      " [ 0.33209286  0.21022713 -0.25486578 -0.36842592  0.15287332  0.60442444\n",
      "  -0.29142045  0.01171123 -0.13290037  0.39166308]]\n"
     ]
    }
   ],
   "source": [
    "from numpy.linalg import eig\n",
    "cov_matrix = np.cov(df_z_components.T)\n",
    "eigvals, eigvecs = eig(cov_matrix)\n",
    "print(eigvals, eigvecs)"
   ]
  },
  {
   "cell_type": "code",
   "execution_count": 54,
   "id": "d89db014",
   "metadata": {},
   "outputs": [
    {
     "data": {
      "image/png": "[encoded data removed]",
      "text/plain": [
       "<Figure size 720x432 with 1 Axes>"
      ]
     },
     "metadata": {
      "needs_background": "light"
     },
     "output_type": "display_data"
    }
   ],
   "source": [
    "plt.rcParams['figure.figsize'] = (10,6)\n",
    "plt.plot(fitted_pca.explained_variance_)\n",
    "plt.ylabel('Eigenvalues standard PCA')\n",
    "plt.title('Standard PCA Eigenvalues')\n",
    "plt.show()"
   ]
  }
 ],
 "metadata": {
  "kernelspec": {
   "display_name": "Python 3 (ipykernel)",
   "language": "python",
   "name": "python3"
  },
  "language_info": {
   "codemirror_mode": {
    "name": "ipython",
    "version": 3
   },
   "file_extension": ".py",
   "mimetype": "text/x-python",
   "name": "python",
   "nbconvert_exporter": "python",
   "pygments_lexer": "ipython3",
   "version": "3.8.11"
  }
 },
 "nbformat": 4,
 "nbformat_minor": 5
}
